{
 "cells": [
  {
   "cell_type": "code",
   "execution_count": 1,
   "metadata": {},
   "outputs": [],
   "source": [
    "import numpy as np\n",
    "import matplotlib.pyplot as plt\n",
    "from numpy.linalg import inv\n",
    "from cvxopt import matrix, solvers\n",
    "from numpy import c_"
   ]
  },
  {
   "cell_type": "code",
   "execution_count": 2,
   "metadata": {},
   "outputs": [],
   "source": [
    "rho = matrix([[4.27,.15,2.85]])"
   ]
  },
  {
   "cell_type": "code",
   "execution_count": 3,
   "metadata": {},
   "outputs": [
    {
     "name": "stdout",
     "output_type": "stream",
     "text": [
      "[ 4.27e+00]\n",
      "[ 1.50e-01]\n",
      "[ 2.85e+00]\n",
      "\n"
     ]
    }
   ],
   "source": [
    "print(rho)"
   ]
  },
  {
   "cell_type": "code",
   "execution_count": 4,
   "metadata": {},
   "outputs": [],
   "source": [
    "cov_mat = matrix([[0.99,0.18,0.11],[0.18,1.09,0.26], [0.11,0.26,1.99]])"
   ]
  },
  {
   "cell_type": "code",
   "execution_count": 5,
   "metadata": {},
   "outputs": [
    {
     "name": "stdout",
     "output_type": "stream",
     "text": [
      "[ 9.90e-01  1.80e-01  1.10e-01]\n",
      "[ 1.80e-01  1.09e+00  2.60e-01]\n",
      "[ 1.10e-01  2.60e-01  1.99e+00]\n",
      "\n"
     ]
    }
   ],
   "source": [
    "print(cov_mat)"
   ]
  },
  {
   "cell_type": "code",
   "execution_count": 6,
   "metadata": {},
   "outputs": [
    {
     "name": "stdout",
     "output_type": "stream",
     "text": [
      "3\n"
     ]
    }
   ],
   "source": [
    "n=len(rho)\n",
    "print(n)"
   ]
  },
  {
   "cell_type": "raw",
   "metadata": {},
   "source": [
    "Target = rho[0]"
   ]
  },
  {
   "cell_type": "code",
   "execution_count": 7,
   "metadata": {},
   "outputs": [
    {
     "name": "stdout",
     "output_type": "stream",
     "text": [
      "[ 1.00e+00  1.00e+00  1.00e+00]\n",
      "[ 4.27e+00  1.50e-01  2.85e+00]\n",
      "\n"
     ]
    }
   ],
   "source": [
    "A = matrix(np.c_[np.ones(n), rho]).T\n",
    "print(A)"
   ]
  },
  {
   "cell_type": "code",
   "execution_count": 8,
   "metadata": {},
   "outputs": [
    {
     "name": "stdout",
     "output_type": "stream",
     "text": [
      "[ 1.00e+00]\n",
      "[ 4.27e+00]\n",
      "\n"
     ]
    }
   ],
   "source": [
    "b = matrix(np.c_[np.ones(1),rho[0]]).T\n",
    "print(b)"
   ]
  },
  {
   "cell_type": "code",
   "execution_count": 9,
   "metadata": {},
   "outputs": [],
   "source": [
    "q = matrix(np.zeros((n, 1)))\n",
    "sol = solvers.qp(cov_mat,q, A=A, b=b)"
   ]
  },
  {
   "cell_type": "code",
   "execution_count": 10,
   "metadata": {},
   "outputs": [
    {
     "name": "stdout",
     "output_type": "stream",
     "text": [
      "[ 8.29e-01]\n",
      "[-8.99e-02]\n",
      "[ 2.61e-01]\n",
      "\n"
     ]
    }
   ],
   "source": [
    "print(sol['x'])"
   ]
  },
  {
   "cell_type": "code",
   "execution_count": 11,
   "metadata": {},
   "outputs": [
    {
     "name": "stdout",
     "output_type": "stream",
     "text": [
      "[[4.27]]\n"
     ]
    }
   ],
   "source": [
    "exp_rets = (np.matmul(sol['x'].T,rho))\n",
    "print(exp_rets)"
   ]
  },
  {
   "cell_type": "code",
   "execution_count": 12,
   "metadata": {},
   "outputs": [
    {
     "name": "stdout",
     "output_type": "stream",
     "text": [
      "[[0.91281036]]\n",
      "0.99 [[0.83322274]]\n"
     ]
    }
   ],
   "source": [
    "risk = np.sqrt((np.matmul(np.matmul(sol['x'].T,cov_mat),sol['x'])))\n",
    "print(risk)\n",
    "print(cov_mat[0,0], risk*risk)"
   ]
  },
  {
   "cell_type": "code",
   "execution_count": 13,
   "metadata": {},
   "outputs": [
    {
     "name": "stdout",
     "output_type": "stream",
     "text": [
      "[[0.91281036]]\n"
     ]
    }
   ],
   "source": [
    "risk = np.sqrt((sol['x'].T)*cov_mat*sol['x'])\n",
    "print(risk)"
   ]
  },
  {
   "cell_type": "code",
   "execution_count": 14,
   "metadata": {},
   "outputs": [
    {
     "name": "stderr",
     "output_type": "stream",
     "text": [
      "/tmp/ipykernel_478336/590447816.py:7: DeprecationWarning: Conversion of an array with ndim > 0 to a scalar is deprecated, and will error in future. Ensure you extract a single element from your array before performing this operation. (Deprecated NumPy 1.25.)\n",
      "  eff_front_risk[i] = np.sqrt((sol1['x'].T)*cov_mat*sol1['x'])\n"
     ]
    }
   ],
   "source": [
    "eff_front_rets = np.linspace(1,8,200)\n",
    "eff_front_risk = np.linspace(0,0,200)\n",
    "for i in range(0,200):\n",
    "    target_l = eff_front_rets[i]\n",
    "    b = matrix(np.c_[np.ones(1),target_l]).T\n",
    "    sol1 = solvers.qp(cov_mat,q, A=A, b=b) \n",
    "    eff_front_risk[i] = np.sqrt((sol1['x'].T)*cov_mat*sol1['x'])"
   ]
  },
  {
   "cell_type": "code",
   "execution_count": 23,
   "metadata": {},
   "outputs": [
    {
     "data": {
      "image/png": "[encoded data removed]",
      "text/plain": [
       "<Figure size 640x480 with 1 Axes>"
      ]
     },
     "metadata": {},
     "output_type": "display_data"
    }
   ],
   "source": [
    "#plotting the efficent frontier along with the 3 individual stocks\n",
    "plt.xlabel(\"Portfolio Risk\")\n",
    "plt.ylabel(\"Portfolio Expected Returns\")\n",
    "plt.title(\"Efficient Frontier\")\n",
    "plt.plot(eff_front_risk,eff_front_rets, color='red',label=\"Eff Frontier\") \n",
    "plt.plot([np.sqrt(10)], rho[0], 'bo', label='Microsoft') \n",
    "plt.plot([np.sqrt(11)], rho[1], 'go', label='Nordstrom') \n",
    "plt.plot([np.sqrt(20)], rho[2], 'yo',  label='Starbucks')\n",
    "plt.plot(risk, rho[0], 'ro', label=' MV')\n",
    "plt.legend()\n",
    "plt.show()"
   ]
  }
 ],
 "metadata": {
  "kernelspec": {
   "display_name": ".venv",
   "language": "python",
   "name": "python3"
  },
  "language_info": {
   "codemirror_mode": {
    "name": "ipython",
    "version": 3
   },
   "file_extension": ".py",
   "mimetype": "text/x-python",
   "name": "python",
   "nbconvert_exporter": "python",
   "pygments_lexer": "ipython3",
   "version": "3.12.5"
  }
 },
 "nbformat": 4,
 "nbformat_minor": 2
}
