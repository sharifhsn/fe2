{
 "cells": [
  {
   "cell_type": "markdown",
   "metadata": {},
   "source": [
    "# Environment"
   ]
  },
  {
   "cell_type": "markdown",
   "metadata": {},
   "source": [
    "## Rust and `evcxr_jupyter`"
   ]
  },
  {
   "cell_type": "markdown",
   "metadata": {},
   "source": [
    "This notebook is written in Rust using the `evcxr` kernel. In order to install this environment, follow the instructions [here](https://github.com/evcxr/evcxr/blob/main/evcxr_jupyter/README.md#installation) before trying to run this notebook."
   ]
  },
  {
   "cell_type": "markdown",
   "metadata": {},
   "source": [
    "## Report Generation"
   ]
  },
  {
   "cell_type": "markdown",
   "metadata": {},
   "source": [
    "In the report form of this notebook, I use some utility functions for $\\LaTeX$-friendly formatting. I include these in an `init.evcxr` and `prelude.rs` file. These should be placed in the `evcxr` config directory as described [here](https://github.com/evcxr/evcxr/blob/main/COMMON.md#startup) before starting up the notebook.\n",
    "\n",
    "If you're running the notebook as code and not trying to generate a report, this is unnecessary."
   ]
  },
  {
   "cell_type": "code",
   "execution_count": 47,
   "metadata": {},
   "outputs": [
    {
     "data": {
      "text/plain": [
       "Output format: {}\n"
      ]
     },
     "execution_count": 47,
     "metadata": {},
     "output_type": "execute_result"
    }
   ],
   "source": [
    ":fmt {}"
   ]
  },
  {
   "cell_type": "markdown",
   "metadata": {},
   "source": [
    "## Imports"
   ]
  },
  {
   "cell_type": "code",
   "execution_count": 48,
   "metadata": {},
   "outputs": [],
   "source": [
    ":dep polars = { version = \"0.46\", features = [ \"lazy\", \"list_arithmetic\", \"round_series\", \"log\", \"range\"] }\n",
    ":dep nalgebra"
   ]
  },
  {
   "cell_type": "code",
   "execution_count": 68,
   "metadata": {},
   "outputs": [],
   "source": [
    "#![allow(non_snake_case)]\n",
    "use polars::prelude::*;\n",
    "use std::f64::consts::E;"
   ]
  },
  {
   "cell_type": "markdown",
   "metadata": {},
   "source": [
    "# Utility functions"
   ]
  },
  {
   "cell_type": "markdown",
   "metadata": {},
   "source": [
    "## Log Utility"
   ]
  },
  {
   "cell_type": "markdown",
   "metadata": {},
   "source": [
    "### (a) **Certainty Equivalent and Risk Premium**"
   ]
  },
  {
   "cell_type": "markdown",
   "metadata": {},
   "source": [
    "Initialize data. Our inputs are:\n",
    "- $W_0$ = wealth\n",
    "- $p_w$ = probability of winning\n",
    "- $w$ = amount won\n",
    "- $p_l$ = probability of losing\n",
    "- $l$ = amount lost\n",
    "\n",
    "where the risk $z$ represents\n",
    "\n",
    "$$z = \\begin{cases} w, & p_w \\\\ l, & p_l \\end{cases}$$"
   ]
  },
  {
   "cell_type": "code",
   "execution_count": 50,
   "metadata": {},
   "outputs": [
    {
     "data": {
      "text/plain": [
       "shape: (1, 5)\n",
       "┌────────┬─────┬─────┬───────┬───────┐\n",
       "│ W_0    ┆ p_w ┆ p_l ┆ w     ┆ l     │\n",
       "│ ---    ┆ --- ┆ --- ┆ ---   ┆ ---   │\n",
       "│ f64    ┆ f64 ┆ f64 ┆ f64   ┆ f64   │\n",
       "╞════════╪═════╪═════╪═══════╪═══════╡\n",
       "│ 1500.0 ┆ 0.5 ┆ 0.5 ┆ 150.0 ┆ 150.0 │\n",
       "└────────┴─────┴─────┴───────┴───────┘"
      ]
     },
     "execution_count": 50,
     "metadata": {},
     "output_type": "execute_result"
    }
   ],
   "source": [
    "let mut df = df!(\n",
    "    \"W_0\" => [1500.0],\n",
    "    \"p_w\" => [0.5],\n",
    "    \"p_l\" => [0.5],\n",
    "    \"w\" => [150.0],\n",
    "    \"l\" => [150.0]\n",
    ")?;\n",
    "let W_0 = col(\"W_0\");\n",
    "let p_w = col(\"p_w\");\n",
    "let p_l = col(\"p_l\");\n",
    "let w = col(\"w\");\n",
    "let l = col(\"l\");\n",
    "\n",
    "df"
   ]
  },
  {
   "cell_type": "markdown",
   "metadata": {},
   "source": [
    "Our utility function $U$ is the $\\log$ function."
   ]
  },
  {
   "cell_type": "code",
   "execution_count": 51,
   "metadata": {},
   "outputs": [],
   "source": [
    "pub fn U(e: Expr) -> Expr {\n",
    "    e.log(E)\n",
    "}\n",
    "\n",
    "pub fn U_inv(e: Expr) -> Expr {\n",
    "    e.exp()\n",
    "}"
   ]
  },
  {
   "cell_type": "markdown",
   "metadata": {},
   "source": [
    "We can compute the expectation of $U$ as:\n",
    "\n",
    "$$\\mathbb{E}[U(W_T)] = p_w \\cdot U(W_0 + w) + p_l \\cdot U(W_0 - l)$$"
   ]
  },
  {
   "cell_type": "code",
   "execution_count": 52,
   "metadata": {},
   "outputs": [
    {
     "data": {
      "text/plain": [
       "shape: (1, 1)\n",
       "┌────────────────────┐\n",
       "│ \\mathbb{E}[U(W_T)] │\n",
       "│ ---                │\n",
       "│ f64                │\n",
       "╞════════════════════╡\n",
       "│ 7.308195           │\n",
       "└────────────────────┘"
      ]
     },
     "execution_count": 52,
     "metadata": {},
     "output_type": "execute_result"
    }
   ],
   "source": [
    "let EUW_T = (p_w.clone()\n",
    "    * U(W_0.clone() + w.clone())\n",
    "    + p_l.clone() * U(W_0.clone() - l.clone()))\n",
    "    .alias(\"\\\\mathbb{E}[U(W_T)]\");\n",
    "\n",
    "df.clone().lazy().select([EUW_T.clone()]).collect()?"
   ]
  },
  {
   "cell_type": "markdown",
   "metadata": {},
   "source": [
    "The Certainty Equivalent $CE$ is given by:\n",
    "$$\\mathbb{E}[U(W_T)] = U(CE)$$\n",
    "\n",
    "which we can therefore calculate as\n",
    "$$CE = U^{-1}\\left(\\mathbb{E}[U(W_T)]\\right)$$"
   ]
  },
  {
   "cell_type": "code",
   "execution_count": 53,
   "metadata": {},
   "outputs": [
    {
     "data": {
      "text/plain": [
       "shape: (1, 1)\n",
       "┌─────────────┐\n",
       "│ CE          │\n",
       "│ ---         │\n",
       "│ f64         │\n",
       "╞═════════════╡\n",
       "│ 1492.481156 │\n",
       "└─────────────┘"
      ]
     },
     "execution_count": 53,
     "metadata": {},
     "output_type": "execute_result"
    }
   ],
   "source": [
    "let CE = (U_inv(EUW_T.clone())).alias(\"CE\");\n",
    "\n",
    "df.clone().lazy().select([CE.clone()]).collect()?"
   ]
  },
  {
   "cell_type": "markdown",
   "metadata": {},
   "source": [
    "In order to calculate risk premium, we will follow the formula:\n",
    "\n",
    "$$RP = \\mathbb{E}[W_T] - CE$$"
   ]
  },
  {
   "cell_type": "code",
   "execution_count": 54,
   "metadata": {},
   "outputs": [
    {
     "data": {
      "text/plain": [
       "shape: (1, 1)\n",
       "┌──────────┐\n",
       "│ RP       │\n",
       "│ ---      │\n",
       "│ f64      │\n",
       "╞══════════╡\n",
       "│ 7.518844 │\n",
       "└──────────┘"
      ]
     },
     "execution_count": 54,
     "metadata": {},
     "output_type": "execute_result"
    }
   ],
   "source": [
    "let EW_T = (p_w.clone()\n",
    "    * (W_0.clone() + w.clone())\n",
    "    + p_l.clone() * (W_0.clone() - l.clone()))\n",
    "    .alias(\"\\\\mathbb{E}[W_T]\");\n",
    "let RP = (EW_T.clone() - CE.clone()).alias(\"RP\");\n",
    "\n",
    "df.clone().lazy().select([RP.clone()]).collect()?"
   ]
  },
  {
   "cell_type": "markdown",
   "metadata": {},
   "source": [
    "In order to calculate the Taylor Series approximation of the risk premium, we will consider\n",
    "\n",
    "$$W_T = W^*_T + x$$\n",
    "\n",
    "where $W^*_T$ is deterministic wealth, and $x$ is a random variable with characteristics $\\mathbb{E}[x] = 0$ and $\\mathbb{V}[x] = \\sigma_x^2 = \\sigma_{W_T}^2$\n",
    "\n",
    "$W^*_T$ is just another way of expressing expected payoff.\n",
    "$$W^*_T = \\mathbb{E}[W_T]$$"
   ]
  },
  {
   "cell_type": "code",
   "execution_count": 55,
   "metadata": {},
   "outputs": [
    {
     "data": {
      "text/plain": [
       "shape: (1, 1)\n",
       "┌────────┐\n",
       "│ W^*_T  │\n",
       "│ ---    │\n",
       "│ f64    │\n",
       "╞════════╡\n",
       "│ 1500.0 │\n",
       "└────────┘"
      ]
     },
     "execution_count": 55,
     "metadata": {},
     "output_type": "execute_result"
    }
   ],
   "source": [
    "let W_Tstar = EW_T.clone().alias(\"W^*_T\");\n",
    "\n",
    "df.clone().lazy().select([W_Tstar.clone()]).collect()?"
   ]
  },
  {
   "cell_type": "markdown",
   "metadata": {},
   "source": [
    "Then, in order to solve for the risk premium $y$, we will use the formula\n",
    "$$y \\approx -\\frac{\\sigma_x^2}{2}A(W_T^*)$$\n",
    "\n",
    "where **Absolute Risk Aversion** $A$ is defined as\n",
    "\n",
    "$$A(W_T^*) = \\frac{U''(W_T^*)}{U'(W_T^*)}$$"
   ]
  },
  {
   "cell_type": "markdown",
   "metadata": {},
   "source": [
    "The derivatives for the utility equation can be found through basic calculus.\n",
    "\n",
    "$$U(W_T) = \\ln W_T$$\n",
    "$$U'(W_T) = \\frac{1}{W_T}$$\n",
    "$$U''(W_T) = -\\frac{1}{W_T^2}$$\n",
    "\n",
    "Therefore,\n",
    "\n",
    "$$A(W_T) = -\\frac{\\tfrac{1}{W_T^2}}{\\tfrac{1}{W_T}} = -\\frac{1}{W_T}$$"
   ]
  },
  {
   "cell_type": "code",
   "execution_count": 56,
   "metadata": {},
   "outputs": [
    {
     "data": {
      "text/plain": [
       "shape: (1, 1)\n",
       "┌───────────┐\n",
       "│ A(W_T^*)  │\n",
       "│ ---       │\n",
       "│ f64       │\n",
       "╞═══════════╡\n",
       "│ -0.000667 │\n",
       "└───────────┘"
      ]
     },
     "execution_count": 56,
     "metadata": {},
     "output_type": "execute_result"
    }
   ],
   "source": [
    "let A = (-lit(1.0) / W_Tstar.clone()).alias(\"A(W_T^*)\");\n",
    "\n",
    "df.clone().lazy().select([A.clone()]).collect()?"
   ]
  },
  {
   "cell_type": "markdown",
   "metadata": {},
   "source": [
    "To get volatility, we use the basic equation for variance:\n",
    "\n",
    "$$\\sigma_x^2 = \\sigma_z^2 = \\mathbb{E}[(z - \\mathbb{E}[z])^2]$$\n",
    "\n",
    "As $\\mathbb{E}[z] = 0$,\n",
    "\n",
    "$$\\sigma_x^2 = p_w \\cdot w^2 + p_l \\cdot l^2$$"
   ]
  },
  {
   "cell_type": "code",
   "execution_count": 57,
   "metadata": {},
   "outputs": [
    {
     "data": {
      "text/plain": [
       "shape: (1, 1)\n",
       "┌────────────┐\n",
       "│ \\sigma_x^2 │\n",
       "│ ---        │\n",
       "│ f64        │\n",
       "╞════════════╡\n",
       "│ 22500.0    │\n",
       "└────────────┘"
      ]
     },
     "execution_count": 57,
     "metadata": {},
     "output_type": "execute_result"
    }
   ],
   "source": [
    "let var = (p_w.clone() * w.clone().pow(2)\n",
    "+ p_l.clone() * l.clone().pow(2)).alias(\"\\\\sigma_x^2\");\n",
    "\n",
    "df.clone().lazy().select([var.clone()]).collect()?"
   ]
  },
  {
   "cell_type": "markdown",
   "metadata": {},
   "source": [
    "The Taylor Series approximation of the risk premium $y$ is calculated thusly:"
   ]
  },
  {
   "cell_type": "code",
   "execution_count": 58,
   "metadata": {},
   "outputs": [
    {
     "data": {
      "text/plain": [
       "shape: (1, 1)\n",
       "┌─────┐\n",
       "│ y   │\n",
       "│ --- │\n",
       "│ f64 │\n",
       "╞═════╡\n",
       "│ 7.5 │\n",
       "└─────┘"
      ]
     },
     "execution_count": 58,
     "metadata": {},
     "output_type": "execute_result"
    }
   ],
   "source": [
    "let y = (-var.clone() / lit(2.0) * A.clone()).alias(\"y\");\n",
    "\n",
    "df.clone().lazy().select([y.clone()]).collect()?"
   ]
  },
  {
   "cell_type": "markdown",
   "metadata": {},
   "source": [
    "How good is this approximation?"
   ]
  },
  {
   "cell_type": "code",
   "execution_count": 59,
   "metadata": {},
   "outputs": [
    {
     "data": {
      "text/plain": [
       "shape: (1, 1)\n",
       "┌─────────────────────┐\n",
       "│ approximation error │\n",
       "│ ---                 │\n",
       "│ f64                 │\n",
       "╞═════════════════════╡\n",
       "│ 0.018844            │\n",
       "└─────────────────────┘"
      ]
     },
     "execution_count": 59,
     "metadata": {},
     "output_type": "execute_result"
    }
   ],
   "source": [
    "let approximation_error = (RP.clone() - y.clone()).alias(\"approximation error\");\n",
    "\n",
    "df.clone().lazy().select([approximation_error.clone()]).collect()?"
   ]
  },
  {
   "cell_type": "markdown",
   "metadata": {},
   "source": [
    "### (b) **Sensitivity to initial wealth**"
   ]
  },
  {
   "cell_type": "markdown",
   "metadata": {},
   "source": [
    "Let's recalculate these values with an increased initial wealth."
   ]
  },
  {
   "cell_type": "code",
   "execution_count": 60,
   "metadata": {},
   "outputs": [
    {
     "data": {
      "text/plain": [
       "shape: (1, 1)\n",
       "┌──────────┐\n",
       "│ RP       │\n",
       "│ ---      │\n",
       "│ f64      │\n",
       "╞══════════╡\n",
       "│ 5.632932 │\n",
       "└──────────┘"
      ]
     },
     "execution_count": 60,
     "metadata": {},
     "output_type": "execute_result"
    }
   ],
   "source": [
    "df.with_column(Column::new(\n",
    "    \"W_0\".into(),\n",
    "    [2000.0],\n",
    "))?;\n",
    "\n",
    "df.clone().lazy().select([RP.clone()]).collect()?"
   ]
  },
  {
   "cell_type": "markdown",
   "metadata": {},
   "source": [
    "Because we are risk-averse, our utility function is concave, and therefore the increase in wealth is inversely proportional to the risk premium, making it decrease."
   ]
  },
  {
   "cell_type": "markdown",
   "metadata": {},
   "source": [
    "### (c) **Sensitivity to volatility**"
   ]
  },
  {
   "cell_type": "markdown",
   "metadata": {},
   "source": [
    "Now we'll change the values of the outcomes."
   ]
  },
  {
   "cell_type": "code",
   "execution_count": 61,
   "metadata": {},
   "outputs": [
    {
     "data": {
      "text/plain": [
       "shape: (1, 2)\n",
       "┌────────────┬───────────┐\n",
       "│ \\sigma_x^2 ┆ RP        │\n",
       "│ ---        ┆ ---       │\n",
       "│ f64        ┆ f64       │\n",
       "╞════════════╪═══════════╡\n",
       "│ 90000.0    ┆ 46.060799 │\n",
       "└────────────┴───────────┘"
      ]
     },
     "execution_count": 61,
     "metadata": {},
     "output_type": "execute_result"
    }
   ],
   "source": [
    "df.with_column(Column::new(\n",
    "    \"W_0\".into(),\n",
    "    [1000.0],\n",
    "))?;\n",
    "df.with_column(Column::new(\n",
    "    \"w\".into(),\n",
    "    [300.0],\n",
    "))?;\n",
    "df.with_column(Column::new(\n",
    "    \"l\".into(),\n",
    "    [300.0],\n",
    "))?;\n",
    "\n",
    "df.clone().lazy().select([var.clone(), RP.clone()]).collect()?"
   ]
  },
  {
   "cell_type": "markdown",
   "metadata": {},
   "source": [
    "Conversely, the risk premium is directly proportional to volatility and increases at approximately double its rate."
   ]
  },
  {
   "cell_type": "markdown",
   "metadata": {},
   "source": [
    "## Certainty Equivalent and Risk Premium for a Power Utility"
   ]
  },
  {
   "cell_type": "markdown",
   "metadata": {},
   "source": [
    "Initialize data. Our inputs are the same variables as before, with an additional $k$ for utility.\n"
   ]
  },
  {
   "cell_type": "code",
   "execution_count": 62,
   "metadata": {},
   "outputs": [
    {
     "data": {
      "text/plain": [
       "shape: (1, 6)\n",
       "┌────────┬──────────┬──────────┬───────┬───────┬─────┐\n",
       "│ W_0    ┆ p_w      ┆ p_l      ┆ w     ┆ l     ┆ k   │\n",
       "│ ---    ┆ ---      ┆ ---      ┆ ---   ┆ ---   ┆ --- │\n",
       "│ f64    ┆ f64      ┆ f64      ┆ f64   ┆ f64   ┆ f64 │\n",
       "╞════════╪══════════╪══════════╪═══════╪═══════╪═════╡\n",
       "│ 1000.0 ┆ 0.666667 ┆ 0.333333 ┆ 205.0 ┆ 400.0 ┆ 0.5 │\n",
       "└────────┴──────────┴──────────┴───────┴───────┴─────┘"
      ]
     },
     "execution_count": 62,
     "metadata": {},
     "output_type": "execute_result"
    }
   ],
   "source": [
    "let mut df = df!(\n",
    "    \"W_0\" => [1000.0],\n",
    "    \"p_w\" => [2.0/3.0],\n",
    "    \"p_l\" => [1.0/3.0],\n",
    "    \"w\" => [205.0],\n",
    "    \"l\" => [400.0],\n",
    "    \"k\" => [0.5],\n",
    ")?;\n",
    "let W_0 = col(\"W_0\");\n",
    "let p_w = col(\"p_w\");\n",
    "let p_l = col(\"p_l\");\n",
    "let w = col(\"w\");\n",
    "let l = col(\"l\");\n",
    "let k = col(\"k\");\n",
    "\n",
    "df"
   ]
  },
  {
   "cell_type": "markdown",
   "metadata": {},
   "source": [
    "Our utility function is given by\n",
    "\n",
    "$$U(W) = W^k$$\n"
   ]
  },
  {
   "cell_type": "code",
   "execution_count": 63,
   "metadata": {},
   "outputs": [],
   "source": [
    "pub fn U(e: Expr, k: Expr) -> Expr {\n",
    "    e.pow(k)\n",
    "}\n",
    "\n",
    "pub fn U_inv(e: Expr, k: Expr) -> Expr {\n",
    "    e.pow(lit(1.0) / k)\n",
    "}"
   ]
  },
  {
   "cell_type": "markdown",
   "metadata": {},
   "source": [
    "Since our utility function has changed, Absolute Risk Aversion does as well. As before, we can use simple calculus to determine it.\n",
    "\n",
    "$$U(W_T, k) = W^k$$\n",
    "$$U'(W_T, k) = kW^{k-1}$$\n",
    "$$U''(W_T, k) = k(k-1)W^{k-2}$$\n",
    "$$A(W_T, k) = -\\frac{k(k-1)W^{k-2}}{kW^{k-1}} = -\\frac{k-1}{W}$$\n",
    "\n",
    "The risk attitude of the investor is risk-averse when $A$ is positive, and risk-taking when $A$ is negative. This is because the power function is convex when $k > 1$ e.g. $U(W, k) = W^2$ and concave when $k < 1$ e.g. $U(W, k) = W^{\\tfrac{1}{2}}$. When $k = 0$, the utility function is linear ($U(W, k) = W$) and therefore risk-neutral.\n",
    "\n",
    "$$\\text{risk attitude} = \\begin{cases} \\text{risk-averse} & k < 1 \\\\ \\text{risk-neutral} & k = 1 \\\\ \\text{risk-taking} & k > 1 \\end{cases}$$"
   ]
  },
  {
   "cell_type": "code",
   "execution_count": 64,
   "metadata": {},
   "outputs": [
    {
     "data": {
      "text/plain": [
       "shape: (1, 2)\n",
       "┌─────┬───────────────┐\n",
       "│ k   ┆ risk attitude │\n",
       "│ --- ┆ ---           │\n",
       "│ f64 ┆ str           │\n",
       "╞═════╪═══════════════╡\n",
       "│ 0.5 ┆ risk-averse   │\n",
       "└─────┴───────────────┘"
      ]
     },
     "execution_count": 64,
     "metadata": {},
     "output_type": "execute_result"
    }
   ],
   "source": [
    "let A = -(k.clone() - lit(1.0))/ W_0.clone();\n",
    "\n",
    "let risk_attitude = (when(k.clone().lt(1))\n",
    "    .then(lit(\"risk-averse\"))\n",
    "    .otherwise(\n",
    "        when(k.clone().gt(1))\n",
    "            .then(lit(\"risk-taking\"))\n",
    "            .otherwise(lit(\"risk-neutral\")),\n",
    "    ))\n",
    ".alias(\"risk attitude\");\n",
    "\n",
    "df.clone().lazy().select([k.clone(), risk_attitude.clone()]).collect()?"
   ]
  },
  {
   "cell_type": "markdown",
   "metadata": {},
   "source": [
    "We can redefine our computations with this new utility function."
   ]
  },
  {
   "cell_type": "code",
   "execution_count": 65,
   "metadata": {},
   "outputs": [
    {
     "data": {
      "text/plain": [
       "shape: (1, 3)\n",
       "┌────────────┬───────────┬─────────────────────┐\n",
       "│ CE         ┆ RP        ┆ approximation error │\n",
       "│ ---        ┆ ---       ┆ ---                 │\n",
       "│ f64        ┆ f64       ┆ f64                 │\n",
       "╞════════════╪═══════════╪═════════════════════╡\n",
       "│ 980.130696 ┆ 23.202637 ┆ 43.540137           │\n",
       "└────────────┴───────────┴─────────────────────┘"
      ]
     },
     "execution_count": 65,
     "metadata": {},
     "output_type": "execute_result"
    }
   ],
   "source": [
    "let EUW_T = (p_w.clone()\n",
    "    * U(W_0.clone() + w.clone(), k.clone())\n",
    "    + p_l.clone() * U(W_0.clone() - l.clone(), k.clone()))\n",
    "    .alias(\"\\\\mathbb{E}[U(W_T)]\");\n",
    "\n",
    "let CE = (U_inv(EUW_T.clone(), k.clone())).alias(\"CE\");\n",
    "\n",
    "let EW_T = (p_w.clone()\n",
    "    * (W_0.clone() + w.clone())\n",
    "    + p_l.clone() * (W_0.clone() - l.clone()))\n",
    "    .alias(\"\\\\mathbb{E}[W_T]\");\n",
    "let RP = (EW_T.clone() - CE.clone()).alias(\"RP\");\n",
    "\n",
    "let W_Tstar = EW_T.clone().alias(\"W^*_T\");\n",
    "\n",
    "let var = (p_w.clone() * w.clone().pow(2)\n",
    "+ p_l.clone() * l.clone().pow(2)).alias(\"\\\\sigma_x^2\");\n",
    "\n",
    "let y = (-var.clone() / lit(2.0) * A.clone()).alias(\"y\");\n",
    "\n",
    "let approximation_error = (RP.clone() - y.clone()).alias(\"approximation error\");\n",
    "\n",
    "df.clone().lazy().select([CE.clone(), RP.clone(), approximation_error.clone()]).collect()?"
   ]
  },
  {
   "cell_type": "markdown",
   "metadata": {},
   "source": [
    "Then recalculate with $k = 2$."
   ]
  },
  {
   "cell_type": "code",
   "execution_count": 66,
   "metadata": {},
   "outputs": [
    {
     "data": {
      "text/plain": [
       "shape: (1, 3)\n",
       "┌─────────────┬────────────┬─────────────────────┐\n",
       "│ CE          ┆ RP         ┆ approximation error │\n",
       "│ ---         ┆ ---        ┆ ---                 │\n",
       "│ f64         ┆ f64        ┆ f64                 │\n",
       "╞═════════════╪════════════╪═════════════════════╡\n",
       "│ 1043.080374 ┆ -39.747041 ┆ -80.422041          │\n",
       "└─────────────┴────────────┴─────────────────────┘"
      ]
     },
     "execution_count": 66,
     "metadata": {},
     "output_type": "execute_result"
    }
   ],
   "source": [
    "df.with_column(Column::new(\n",
    "    \"k\".into(),\n",
    "    [2.0],\n",
    "))?;\n",
    "\n",
    "df.clone().lazy().select([CE.clone(), RP.clone(), approximation_error.clone()]).collect()?"
   ]
  },
  {
   "cell_type": "markdown",
   "metadata": {},
   "source": [
    "## 3. Scaled Log Utility"
   ]
  },
  {
   "cell_type": "markdown",
   "metadata": {},
   "source": [
    "We'll initialize some dummy data to test with."
   ]
  },
  {
   "cell_type": "code",
   "execution_count": 67,
   "metadata": {},
   "outputs": [],
   "source": [
    "use nalgebra::{dvector, dmatrix, DVector, DMatrix};"
   ]
  },
  {
   "cell_type": "code",
   "execution_count": 72,
   "metadata": {},
   "outputs": [
    {
     "data": {
      "text/plain": [
       "  ┌      ┐\n",
       "  │ 0.08 │\n",
       "  │ 0.12 │\n",
       "  │ 0.15 │\n",
       "  └      ┘\n",
       "\n"
      ]
     },
     "execution_count": 72,
     "metadata": {},
     "output_type": "execute_result"
    }
   ],
   "source": [
    "let n = 3;\n",
    "let lambda = 0.5;\n",
    "let mu: DVector<f64> = dvector![0.08, 0.12, 0.15];\n",
    "let sigma: DMatrix<f64> = dmatrix![\n",
    "    0.02,  0.01,  0.015;\n",
    "    0.01,  0.03,  0.02;\n",
    "    0.015, 0.02,  0.04\n",
    "];\n",
    "let w: DVector<f64> = dvector![0.3, 0.4, 0.3];\n",
    "mu"
   ]
  },
  {
   "cell_type": "markdown",
   "metadata": {},
   "source": [
    "We are given mean returns $\\mu$ for each security, so we can simply calculate\n",
    "$$\\mathbb{E}[r_p(w)] = \\mathbb{E}[w^T r] = w^T \\mu$$\n",
    "\n",
    "Following the general variance formula given covariance matrix $\\Sigma$,\n",
    "\n",
    "$$\\sigma^2[r_p(w)] = \\mathbb{V}[w^T r] = w^T \\Sigma w$$"
   ]
  },
  {
   "cell_type": "code",
   "execution_count": 73,
   "metadata": {},
   "outputs": [
    {
     "data": {
      "text/plain": [
       "  ┌       ┐\n",
       "  │ 0.117 │\n",
       "  └       ┘\n",
       "\n"
      ]
     },
     "execution_count": 73,
     "metadata": {},
     "output_type": "execute_result"
    }
   ],
   "source": [
    "let Er = w.transpose() * mu;\n",
    "Er"
   ]
  },
  {
   "cell_type": "code",
   "execution_count": 74,
   "metadata": {},
   "outputs": [
    {
     "data": {
      "text/plain": [
       "  ┌        ┐\n",
       "  │ 0.0201 │\n",
       "  └        ┘\n",
       "\n"
      ]
     },
     "execution_count": 74,
     "metadata": {},
     "output_type": "execute_result"
    }
   ],
   "source": [
    "let var = w.transpose() * sigma * w;\n",
    "var"
   ]
  },
  {
   "cell_type": "markdown",
   "metadata": {},
   "source": [
    "The utility function we are using is $$U(r) = \\ln(1 + \\lambda r)$$"
   ]
  },
  {
   "cell_type": "code",
   "execution_count": null,
   "metadata": {},
   "outputs": [],
   "source": [
    "pub fn U(r: f64, lambda: f64) -> f64 {\n",
    "    (lambda * r).ln_1p()\n",
    "}"
   ]
  },
  {
   "cell_type": "markdown",
   "metadata": {},
   "source": [
    "The Taylor series expansion of this is given by the following:\n",
    "$$U(0) = \\ln(1 + \\lambda (0)) = 0$$\n",
    "$$U'(r) = \\frac{\\lambda}{1 + \\lambda r}$$\n",
    "$$U'(0) = \\frac{\\lambda}{1 + \\lambda (0)} = \\lambda$$\n",
    "$$U''(r) = -\\frac{\\lambda^2}{(1 + \\lambda r)^2}$$\n",
    "$$U''(0) = -\\frac{\\lambda^2}{(1 + \\lambda (0))^2} = -\\lambda^2$$\n",
    "$$U(r) \\approx U(0) + U'(0) r + \\frac{U''(0)}{2}r^2 = \\lambda r - \\frac{\\lambda^2}{2} r^2$$"
   ]
  },
  {
   "cell_type": "code",
   "execution_count": null,
   "metadata": {},
   "outputs": [],
   "source": [
    "pub fn U_approx(r: f64, lambda: f64) -> f64 {\n",
    "    lambda * r - lambda.powi(2) * r.powi(2) / 2.0\n",
    "}"
   ]
  },
  {
   "cell_type": "markdown",
   "metadata": {},
   "source": [
    "In order to prove the approximation, we will take the expectation:\n",
    "$$\\mathbb{E}[U(r)] \\approx \\lambda \\mathbb{E}[r] - \\frac{\\lambda^2}{2} \\mathbb{E}[r^2]$$\n",
    "We can take advantage of the definition of variance\n",
    "$$\\sigma^2(r) = \\mathbb{E}[r^2] - \\mathbb{E}^2[r]$$\n",
    "to substitute\n",
    "\n"
   ]
  }
 ],
 "metadata": {
  "kernelspec": {
   "display_name": "Rust",
   "language": "rust",
   "name": "rust"
  },
  "language_info": {
   "codemirror_mode": "rust",
   "file_extension": ".rs",
   "mimetype": "text/rust",
   "name": "rust",
   "pygment_lexer": "rust",
   "version": ""
  }
 },
 "nbformat": 4,
 "nbformat_minor": 2
}
