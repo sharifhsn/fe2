{
 "cells": [
  {
   "cell_type": "markdown",
   "metadata": {},
   "source": [
    "# 3 Numerical Application: Generation of Efficient Frontier"
   ]
  },
  {
   "cell_type": "markdown",
   "metadata": {},
   "source": [
    "# Environment"
   ]
  },
  {
   "cell_type": "markdown",
   "metadata": {},
   "source": [
    "I am using Python here because only Python, R, and Matlab are allowed."
   ]
  },
  {
   "cell_type": "markdown",
   "metadata": {},
   "source": [
    "## Imports"
   ]
  },
  {
   "cell_type": "code",
   "execution_count": 44,
   "metadata": {},
   "outputs": [],
   "source": [
    "import yfinance as yf\n",
    "import polars as pl\n",
    "import numpy as np\n",
    "import scipy.optimize as opt\n",
    "import matplotlib.pyplot as plt"
   ]
  },
  {
   "cell_type": "markdown",
   "metadata": {},
   "source": [
    "# 1."
   ]
  },
  {
   "cell_type": "markdown",
   "metadata": {},
   "source": [
    "Download data."
   ]
  },
  {
   "cell_type": "code",
   "execution_count": 19,
   "metadata": {},
   "outputs": [
    {
     "name": "stderr",
     "output_type": "stream",
     "text": [
      "[*********************100%***********************]  5 of 5 completed\n"
     ]
    },
    {
     "data": {
      "text/html": [
       "<div>\n",
       "<style scoped>\n",
       "    .dataframe tbody tr th:only-of-type {\n",
       "        vertical-align: middle;\n",
       "    }\n",
       "\n",
       "    .dataframe tbody tr th {\n",
       "        vertical-align: top;\n",
       "    }\n",
       "\n",
       "    .dataframe thead th {\n",
       "        text-align: right;\n",
       "    }\n",
       "</style>\n",
       "<table border=\"1\" class=\"dataframe\">\n",
       "  <thead>\n",
       "    <tr style=\"text-align: right;\">\n",
       "      <th>Ticker</th>\n",
       "      <th>AAPL</th>\n",
       "      <th>AMZN</th>\n",
       "      <th>GOOG</th>\n",
       "      <th>META</th>\n",
       "      <th>NFLX</th>\n",
       "    </tr>\n",
       "    <tr>\n",
       "      <th>Date</th>\n",
       "      <th></th>\n",
       "      <th></th>\n",
       "      <th></th>\n",
       "      <th></th>\n",
       "      <th></th>\n",
       "    </tr>\n",
       "  </thead>\n",
       "  <tbody>\n",
       "    <tr>\n",
       "      <th>2022-01-03</th>\n",
       "      <td>178.879898</td>\n",
       "      <td>170.404495</td>\n",
       "      <td>144.555084</td>\n",
       "      <td>337.251709</td>\n",
       "      <td>597.369995</td>\n",
       "    </tr>\n",
       "    <tr>\n",
       "      <th>2022-01-04</th>\n",
       "      <td>176.609650</td>\n",
       "      <td>167.522003</td>\n",
       "      <td>143.899460</td>\n",
       "      <td>335.249359</td>\n",
       "      <td>591.150024</td>\n",
       "    </tr>\n",
       "    <tr>\n",
       "      <th>2022-01-05</th>\n",
       "      <td>171.911865</td>\n",
       "      <td>164.356995</td>\n",
       "      <td>137.160675</td>\n",
       "      <td>322.936432</td>\n",
       "      <td>567.520020</td>\n",
       "    </tr>\n",
       "    <tr>\n",
       "      <th>2022-01-06</th>\n",
       "      <td>169.042068</td>\n",
       "      <td>163.253998</td>\n",
       "      <td>137.058533</td>\n",
       "      <td>331.194855</td>\n",
       "      <td>553.289978</td>\n",
       "    </tr>\n",
       "    <tr>\n",
       "      <th>2022-01-07</th>\n",
       "      <td>169.209137</td>\n",
       "      <td>162.554001</td>\n",
       "      <td>136.513992</td>\n",
       "      <td>330.527435</td>\n",
       "      <td>541.059998</td>\n",
       "    </tr>\n",
       "    <tr>\n",
       "      <th>...</th>\n",
       "      <td>...</td>\n",
       "      <td>...</td>\n",
       "      <td>...</td>\n",
       "      <td>...</td>\n",
       "      <td>...</td>\n",
       "    </tr>\n",
       "    <tr>\n",
       "      <th>2024-12-23</th>\n",
       "      <td>254.989655</td>\n",
       "      <td>225.059998</td>\n",
       "      <td>195.990005</td>\n",
       "      <td>599.849976</td>\n",
       "      <td>911.450012</td>\n",
       "    </tr>\n",
       "    <tr>\n",
       "      <th>2024-12-24</th>\n",
       "      <td>257.916443</td>\n",
       "      <td>229.050003</td>\n",
       "      <td>197.570007</td>\n",
       "      <td>607.750000</td>\n",
       "      <td>932.119995</td>\n",
       "    </tr>\n",
       "    <tr>\n",
       "      <th>2024-12-26</th>\n",
       "      <td>258.735504</td>\n",
       "      <td>227.050003</td>\n",
       "      <td>197.100006</td>\n",
       "      <td>603.349976</td>\n",
       "      <td>924.140015</td>\n",
       "    </tr>\n",
       "    <tr>\n",
       "      <th>2024-12-27</th>\n",
       "      <td>255.309296</td>\n",
       "      <td>223.750000</td>\n",
       "      <td>194.039993</td>\n",
       "      <td>599.809998</td>\n",
       "      <td>907.549988</td>\n",
       "    </tr>\n",
       "    <tr>\n",
       "      <th>2024-12-30</th>\n",
       "      <td>251.923019</td>\n",
       "      <td>221.300003</td>\n",
       "      <td>192.690002</td>\n",
       "      <td>591.239990</td>\n",
       "      <td>900.429993</td>\n",
       "    </tr>\n",
       "  </tbody>\n",
       "</table>\n",
       "<p>752 rows × 5 columns</p>\n",
       "</div>"
      ],
      "text/plain": [
       "Ticker            AAPL        AMZN        GOOG        META        NFLX\n",
       "Date                                                                  \n",
       "2022-01-03  178.879898  170.404495  144.555084  337.251709  597.369995\n",
       "2022-01-04  176.609650  167.522003  143.899460  335.249359  591.150024\n",
       "2022-01-05  171.911865  164.356995  137.160675  322.936432  567.520020\n",
       "2022-01-06  169.042068  163.253998  137.058533  331.194855  553.289978\n",
       "2022-01-07  169.209137  162.554001  136.513992  330.527435  541.059998\n",
       "...                ...         ...         ...         ...         ...\n",
       "2024-12-23  254.989655  225.059998  195.990005  599.849976  911.450012\n",
       "2024-12-24  257.916443  229.050003  197.570007  607.750000  932.119995\n",
       "2024-12-26  258.735504  227.050003  197.100006  603.349976  924.140015\n",
       "2024-12-27  255.309296  223.750000  194.039993  599.809998  907.549988\n",
       "2024-12-30  251.923019  221.300003  192.690002  591.239990  900.429993\n",
       "\n",
       "[752 rows x 5 columns]"
      ]
     },
     "execution_count": 19,
     "metadata": {},
     "output_type": "execute_result"
    }
   ],
   "source": [
    "tickers = [\"META\", \"AMZN\", \"AAPL\", \"NFLX\", \"GOOG\"]\n",
    "start = \"2022-01-01\"\n",
    "end = \"2024-12-31\"\n",
    "\n",
    "data = yf.download(tickers, start=start, end=end)[\"Close\"]\n",
    "data"
   ]
  },
  {
   "cell_type": "markdown",
   "metadata": {},
   "source": [
    "Convert to Polars DataFrame."
   ]
  },
  {
   "cell_type": "code",
   "execution_count": 20,
   "metadata": {},
   "outputs": [
    {
     "data": {
      "text/html": [
       "<div><style>\n",
       ".dataframe > thead > tr,\n",
       ".dataframe > tbody > tr {\n",
       "  text-align: right;\n",
       "  white-space: pre-wrap;\n",
       "}\n",
       "</style>\n",
       "<small>shape: (752, 6)</small><table border=\"1\" class=\"dataframe\"><thead><tr><th>date</th><th>AAPL</th><th>AMZN</th><th>GOOG</th><th>META</th><th>NFLX</th></tr><tr><td>datetime[ns]</td><td>f64</td><td>f64</td><td>f64</td><td>f64</td><td>f64</td></tr></thead><tbody><tr><td>2022-01-03 00:00:00</td><td>178.879898</td><td>170.404495</td><td>144.555084</td><td>337.251709</td><td>597.369995</td></tr><tr><td>2022-01-04 00:00:00</td><td>176.60965</td><td>167.522003</td><td>143.89946</td><td>335.249359</td><td>591.150024</td></tr><tr><td>2022-01-05 00:00:00</td><td>171.911865</td><td>164.356995</td><td>137.160675</td><td>322.936432</td><td>567.52002</td></tr><tr><td>2022-01-06 00:00:00</td><td>169.042068</td><td>163.253998</td><td>137.058533</td><td>331.194855</td><td>553.289978</td></tr><tr><td>2022-01-07 00:00:00</td><td>169.209137</td><td>162.554001</td><td>136.513992</td><td>330.527435</td><td>541.059998</td></tr><tr><td>&hellip;</td><td>&hellip;</td><td>&hellip;</td><td>&hellip;</td><td>&hellip;</td><td>&hellip;</td></tr><tr><td>2024-12-23 00:00:00</td><td>254.989655</td><td>225.059998</td><td>195.990005</td><td>599.849976</td><td>911.450012</td></tr><tr><td>2024-12-24 00:00:00</td><td>257.916443</td><td>229.050003</td><td>197.570007</td><td>607.75</td><td>932.119995</td></tr><tr><td>2024-12-26 00:00:00</td><td>258.735504</td><td>227.050003</td><td>197.100006</td><td>603.349976</td><td>924.140015</td></tr><tr><td>2024-12-27 00:00:00</td><td>255.309296</td><td>223.75</td><td>194.039993</td><td>599.809998</td><td>907.549988</td></tr><tr><td>2024-12-30 00:00:00</td><td>251.923019</td><td>221.300003</td><td>192.690002</td><td>591.23999</td><td>900.429993</td></tr></tbody></table></div>"
      ],
      "text/plain": [
       "shape: (752, 6)\n",
       "┌─────────────────────┬────────────┬────────────┬────────────┬────────────┬────────────┐\n",
       "│ date                ┆ AAPL       ┆ AMZN       ┆ GOOG       ┆ META       ┆ NFLX       │\n",
       "│ ---                 ┆ ---        ┆ ---        ┆ ---        ┆ ---        ┆ ---        │\n",
       "│ datetime[ns]        ┆ f64        ┆ f64        ┆ f64        ┆ f64        ┆ f64        │\n",
       "╞═════════════════════╪════════════╪════════════╪════════════╪════════════╪════════════╡\n",
       "│ 2022-01-03 00:00:00 ┆ 178.879898 ┆ 170.404495 ┆ 144.555084 ┆ 337.251709 ┆ 597.369995 │\n",
       "│ 2022-01-04 00:00:00 ┆ 176.60965  ┆ 167.522003 ┆ 143.89946  ┆ 335.249359 ┆ 591.150024 │\n",
       "│ 2022-01-05 00:00:00 ┆ 171.911865 ┆ 164.356995 ┆ 137.160675 ┆ 322.936432 ┆ 567.52002  │\n",
       "│ 2022-01-06 00:00:00 ┆ 169.042068 ┆ 163.253998 ┆ 137.058533 ┆ 331.194855 ┆ 553.289978 │\n",
       "│ 2022-01-07 00:00:00 ┆ 169.209137 ┆ 162.554001 ┆ 136.513992 ┆ 330.527435 ┆ 541.059998 │\n",
       "│ …                   ┆ …          ┆ …          ┆ …          ┆ …          ┆ …          │\n",
       "│ 2024-12-23 00:00:00 ┆ 254.989655 ┆ 225.059998 ┆ 195.990005 ┆ 599.849976 ┆ 911.450012 │\n",
       "│ 2024-12-24 00:00:00 ┆ 257.916443 ┆ 229.050003 ┆ 197.570007 ┆ 607.75     ┆ 932.119995 │\n",
       "│ 2024-12-26 00:00:00 ┆ 258.735504 ┆ 227.050003 ┆ 197.100006 ┆ 603.349976 ┆ 924.140015 │\n",
       "│ 2024-12-27 00:00:00 ┆ 255.309296 ┆ 223.75     ┆ 194.039993 ┆ 599.809998 ┆ 907.549988 │\n",
       "│ 2024-12-30 00:00:00 ┆ 251.923019 ┆ 221.300003 ┆ 192.690002 ┆ 591.23999  ┆ 900.429993 │\n",
       "└─────────────────────┴────────────┴────────────┴────────────┴────────────┴────────────┘"
      ]
     },
     "execution_count": 20,
     "metadata": {},
     "output_type": "execute_result"
    }
   ],
   "source": [
    "df = pl.from_pandas(data.reset_index())\n",
    "df = df.rename({\"Date\": \"date\"})\n",
    "df"
   ]
  },
  {
   "cell_type": "markdown",
   "metadata": {},
   "source": [
    "# 2."
   ]
  },
  {
   "cell_type": "markdown",
   "metadata": {},
   "source": [
    "Compute daily and annualized return."
   ]
  },
  {
   "cell_type": "code",
   "execution_count": 25,
   "metadata": {},
   "outputs": [
    {
     "data": {
      "text/html": [
       "<div><style>\n",
       ".dataframe > thead > tr,\n",
       ".dataframe > tbody > tr {\n",
       "  text-align: right;\n",
       "  white-space: pre-wrap;\n",
       "}\n",
       "</style>\n",
       "<small>shape: (751, 16)</small><table border=\"1\" class=\"dataframe\"><thead><tr><th>date</th><th>AAPL</th><th>AMZN</th><th>GOOG</th><th>META</th><th>NFLX</th><th>META_daily_return</th><th>AMZN_daily_return</th><th>AAPL_daily_return</th><th>NFLX_daily_return</th><th>GOOG_daily_return</th><th>META_annualized_return</th><th>AMZN_annualized_return</th><th>AAPL_annualized_return</th><th>NFLX_annualized_return</th><th>GOOG_annualized_return</th></tr><tr><td>datetime[ns]</td><td>f64</td><td>f64</td><td>f64</td><td>f64</td><td>f64</td><td>f64</td><td>f64</td><td>f64</td><td>f64</td><td>f64</td><td>f64</td><td>f64</td><td>f64</td><td>f64</td><td>f64</td></tr></thead><tbody><tr><td>2022-01-04 00:00:00</td><td>176.60965</td><td>167.522003</td><td>143.89946</td><td>335.249359</td><td>591.150024</td><td>-0.005937</td><td>-0.016916</td><td>-0.012691</td><td>-0.010412</td><td>-0.004535</td><td>-1.496189</td><td>-4.262728</td><td>-3.19825</td><td>-2.623889</td><td>-1.142937</td></tr><tr><td>2022-01-05 00:00:00</td><td>171.911865</td><td>164.356995</td><td>137.160675</td><td>322.936432</td><td>567.52002</td><td>-0.036728</td><td>-0.018893</td><td>-0.0266</td><td>-0.039973</td><td>-0.04683</td><td>-9.255372</td><td>-4.761059</td><td>-6.703154</td><td>-10.073181</td><td>-11.801113</td></tr><tr><td>2022-01-06 00:00:00</td><td>169.042068</td><td>163.253998</td><td>137.058533</td><td>331.194855</td><td>553.289978</td><td>0.025573</td><td>-0.006711</td><td>-0.016693</td><td>-0.025074</td><td>-0.000745</td><td>6.444372</td><td>-1.691167</td><td>-4.206742</td><td>-6.318668</td><td>-0.187662</td></tr><tr><td>2022-01-07 00:00:00</td><td>169.209137</td><td>162.554001</td><td>136.513992</td><td>330.527435</td><td>541.059998</td><td>-0.002015</td><td>-0.004288</td><td>0.000988</td><td>-0.022104</td><td>-0.003973</td><td>-0.507827</td><td>-1.08052</td><td>0.249058</td><td>-5.570235</td><td>-1.001209</td></tr><tr><td>2022-01-10 00:00:00</td><td>169.228806</td><td>161.485992</td><td>138.077866</td><td>326.821564</td><td>539.849976</td><td>-0.011212</td><td>-0.00657</td><td>0.000116</td><td>-0.002236</td><td>0.011456</td><td>-2.825422</td><td>-1.655684</td><td>0.029292</td><td>-0.563571</td><td>2.886855</td></tr><tr><td>&hellip;</td><td>&hellip;</td><td>&hellip;</td><td>&hellip;</td><td>&hellip;</td><td>&hellip;</td><td>&hellip;</td><td>&hellip;</td><td>&hellip;</td><td>&hellip;</td><td>&hellip;</td><td>&hellip;</td><td>&hellip;</td><td>&hellip;</td><td>&hellip;</td><td>&hellip;</td></tr><tr><td>2024-12-23 00:00:00</td><td>254.989655</td><td>225.059998</td><td>195.990005</td><td>599.849976</td><td>911.450012</td><td>0.024947</td><td>0.000622</td><td>0.003065</td><td>0.00264</td><td>0.015703</td><td>6.286534</td><td>0.156855</td><td>0.772369</td><td>0.665317</td><td>3.957088</td></tr><tr><td>2024-12-24 00:00:00</td><td>257.916443</td><td>229.050003</td><td>197.570007</td><td>607.75</td><td>932.119995</td><td>0.01317</td><td>0.017729</td><td>0.011478</td><td>0.022678</td><td>0.008062</td><td>3.31884</td><td>4.467615</td><td>2.892473</td><td>5.714889</td><td>2.031535</td></tr><tr><td>2024-12-26 00:00:00</td><td>258.735504</td><td>227.050003</td><td>197.100006</td><td>603.349976</td><td>924.140015</td><td>-0.00724</td><td>-0.008732</td><td>0.003176</td><td>-0.008561</td><td>-0.002379</td><td>-1.824445</td><td>-2.200393</td><td>0.800273</td><td>-2.157399</td><td>-0.599485</td></tr><tr><td>2024-12-27 00:00:00</td><td>255.309296</td><td>223.75</td><td>194.039993</td><td>599.809998</td><td>907.549988</td><td>-0.005867</td><td>-0.014534</td><td>-0.013242</td><td>-0.017952</td><td>-0.015525</td><td>-1.478536</td><td>-3.662633</td><td>-3.337016</td><td>-4.523867</td><td>-3.912345</td></tr><tr><td>2024-12-30 00:00:00</td><td>251.923019</td><td>221.300003</td><td>192.690002</td><td>591.23999</td><td>900.429993</td><td>-0.014288</td><td>-0.01095</td><td>-0.013263</td><td>-0.007845</td><td>-0.006957</td><td>-3.600543</td><td>-2.759326</td><td>-3.342384</td><td>-1.977014</td><td>-1.753235</td></tr></tbody></table></div>"
      ],
      "text/plain": [
       "shape: (751, 16)\n",
       "┌───────────┬───────────┬───────────┬───────────┬───┬───────────┬───────────┬───────────┬──────────┐\n",
       "│ date      ┆ AAPL      ┆ AMZN      ┆ GOOG      ┆ … ┆ AMZN_annu ┆ AAPL_annu ┆ NFLX_annu ┆ GOOG_ann │\n",
       "│ ---       ┆ ---       ┆ ---       ┆ ---       ┆   ┆ alized_re ┆ alized_re ┆ alized_re ┆ ualized_ │\n",
       "│ datetime[ ┆ f64       ┆ f64       ┆ f64       ┆   ┆ turn      ┆ turn      ┆ turn      ┆ return   │\n",
       "│ ns]       ┆           ┆           ┆           ┆   ┆ ---       ┆ ---       ┆ ---       ┆ ---      │\n",
       "│           ┆           ┆           ┆           ┆   ┆ f64       ┆ f64       ┆ f64       ┆ f64      │\n",
       "╞═══════════╪═══════════╪═══════════╪═══════════╪═══╪═══════════╪═══════════╪═══════════╪══════════╡\n",
       "│ 2022-01-0 ┆ 176.60965 ┆ 167.52200 ┆ 143.89946 ┆ … ┆ -4.262728 ┆ -3.19825  ┆ -2.623889 ┆ -1.14293 │\n",
       "│ 4         ┆           ┆ 3         ┆           ┆   ┆           ┆           ┆           ┆ 7        │\n",
       "│ 00:00:00  ┆           ┆           ┆           ┆   ┆           ┆           ┆           ┆          │\n",
       "│ 2022-01-0 ┆ 171.91186 ┆ 164.35699 ┆ 137.16067 ┆ … ┆ -4.761059 ┆ -6.703154 ┆ -10.07318 ┆ -11.8011 │\n",
       "│ 5         ┆ 5         ┆ 5         ┆ 5         ┆   ┆           ┆           ┆ 1         ┆ 13       │\n",
       "│ 00:00:00  ┆           ┆           ┆           ┆   ┆           ┆           ┆           ┆          │\n",
       "│ 2022-01-0 ┆ 169.04206 ┆ 163.25399 ┆ 137.05853 ┆ … ┆ -1.691167 ┆ -4.206742 ┆ -6.318668 ┆ -0.18766 │\n",
       "│ 6         ┆ 8         ┆ 8         ┆ 3         ┆   ┆           ┆           ┆           ┆ 2        │\n",
       "│ 00:00:00  ┆           ┆           ┆           ┆   ┆           ┆           ┆           ┆          │\n",
       "│ 2022-01-0 ┆ 169.20913 ┆ 162.55400 ┆ 136.51399 ┆ … ┆ -1.08052  ┆ 0.249058  ┆ -5.570235 ┆ -1.00120 │\n",
       "│ 7         ┆ 7         ┆ 1         ┆ 2         ┆   ┆           ┆           ┆           ┆ 9        │\n",
       "│ 00:00:00  ┆           ┆           ┆           ┆   ┆           ┆           ┆           ┆          │\n",
       "│ 2022-01-1 ┆ 169.22880 ┆ 161.48599 ┆ 138.07786 ┆ … ┆ -1.655684 ┆ 0.029292  ┆ -0.563571 ┆ 2.886855 │\n",
       "│ 0         ┆ 6         ┆ 2         ┆ 6         ┆   ┆           ┆           ┆           ┆          │\n",
       "│ 00:00:00  ┆           ┆           ┆           ┆   ┆           ┆           ┆           ┆          │\n",
       "│ …         ┆ …         ┆ …         ┆ …         ┆ … ┆ …         ┆ …         ┆ …         ┆ …        │\n",
       "│ 2024-12-2 ┆ 254.98965 ┆ 225.05999 ┆ 195.99000 ┆ … ┆ 0.156855  ┆ 0.772369  ┆ 0.665317  ┆ 3.957088 │\n",
       "│ 3         ┆ 5         ┆ 8         ┆ 5         ┆   ┆           ┆           ┆           ┆          │\n",
       "│ 00:00:00  ┆           ┆           ┆           ┆   ┆           ┆           ┆           ┆          │\n",
       "│ 2024-12-2 ┆ 257.91644 ┆ 229.05000 ┆ 197.57000 ┆ … ┆ 4.467615  ┆ 2.892473  ┆ 5.714889  ┆ 2.031535 │\n",
       "│ 4         ┆ 3         ┆ 3         ┆ 7         ┆   ┆           ┆           ┆           ┆          │\n",
       "│ 00:00:00  ┆           ┆           ┆           ┆   ┆           ┆           ┆           ┆          │\n",
       "│ 2024-12-2 ┆ 258.73550 ┆ 227.05000 ┆ 197.10000 ┆ … ┆ -2.200393 ┆ 0.800273  ┆ -2.157399 ┆ -0.59948 │\n",
       "│ 6         ┆ 4         ┆ 3         ┆ 6         ┆   ┆           ┆           ┆           ┆ 5        │\n",
       "│ 00:00:00  ┆           ┆           ┆           ┆   ┆           ┆           ┆           ┆          │\n",
       "│ 2024-12-2 ┆ 255.30929 ┆ 223.75    ┆ 194.03999 ┆ … ┆ -3.662633 ┆ -3.337016 ┆ -4.523867 ┆ -3.91234 │\n",
       "│ 7         ┆ 6         ┆           ┆ 3         ┆   ┆           ┆           ┆           ┆ 5        │\n",
       "│ 00:00:00  ┆           ┆           ┆           ┆   ┆           ┆           ┆           ┆          │\n",
       "│ 2024-12-3 ┆ 251.92301 ┆ 221.30000 ┆ 192.69000 ┆ … ┆ -2.759326 ┆ -3.342384 ┆ -1.977014 ┆ -1.75323 │\n",
       "│ 0         ┆ 9         ┆ 3         ┆ 2         ┆   ┆           ┆           ┆           ┆ 5        │\n",
       "│ 00:00:00  ┆           ┆           ┆           ┆   ┆           ┆           ┆           ┆          │\n",
       "└───────────┴───────────┴───────────┴───────────┴───┴───────────┴───────────┴───────────┴──────────┘"
      ]
     },
     "execution_count": 25,
     "metadata": {},
     "output_type": "execute_result"
    }
   ],
   "source": [
    "returns_df = (\n",
    "    df.with_columns(\n",
    "        [(pl.col(ticker) / pl.col(ticker).shift(1) - 1).alias(f\"{ticker}_daily_return\") for ticker in tickers]\n",
    "    )\n",
    "    .drop_nulls()\n",
    "    .with_columns(\n",
    "        [(pl.col(f\"{ticker}_daily_return\") * 252).alias(f\"{ticker}_annualized_return\") for ticker in tickers]\n",
    "    )\n",
    "\n",
    ")\n",
    "returns_df"
   ]
  },
  {
   "cell_type": "markdown",
   "metadata": {},
   "source": [
    "# 3."
   ]
  },
  {
   "cell_type": "markdown",
   "metadata": {},
   "source": [
    "Compute expected returns vector $\\mu$."
   ]
  },
  {
   "cell_type": "code",
   "execution_count": 26,
   "metadata": {},
   "outputs": [
    {
     "data": {
      "text/plain": [
       "array([0.30920058, 0.16117727, 0.15153147, 0.26472372, 0.15015158])"
      ]
     },
     "execution_count": 26,
     "metadata": {},
     "output_type": "execute_result"
    }
   ],
   "source": [
    "mu = (\n",
    "    returns_df.select([pl.col(f\"{ticker}_annualized_return\").mean().alias(f\"{ticker}_mean\") for ticker in tickers])\n",
    "    .to_numpy()\n",
    "    .flatten()\n",
    ")\n",
    "mu"
   ]
  },
  {
   "cell_type": "markdown",
   "metadata": {},
   "source": [
    "Compute covariance matrix $\\Sigma$."
   ]
  },
  {
   "cell_type": "code",
   "execution_count": 27,
   "metadata": {},
   "outputs": [
    {
     "data": {
      "text/plain": [
       "array([[59.89081909, 28.2131141 , 16.73612824, 28.90034123, 24.09146925],\n",
       "       [28.2131141 , 37.06979297, 14.75868059, 24.01321127, 20.68442646],\n",
       "       [16.73612824, 14.75868059, 18.51798169, 14.96888643, 13.90722188],\n",
       "       [28.90034123, 24.01321127, 14.96888643, 60.69335964, 17.16245177],\n",
       "       [24.09146925, 20.68442646, 13.90722188, 17.16245177, 27.07180831]])"
      ]
     },
     "execution_count": 27,
     "metadata": {},
     "output_type": "execute_result"
    }
   ],
   "source": [
    "annualized_returns_np = returns_df.select([pl.col(f\"{ticker}_annualized_return\") for ticker in tickers]).to_numpy()\n",
    "Sigma = np.cov(annualized_returns_np, rowvar=False)\n",
    "Sigma"
   ]
  },
  {
   "cell_type": "markdown",
   "metadata": {},
   "source": [
    "# 4."
   ]
  },
  {
   "cell_type": "markdown",
   "metadata": {},
   "source": [
    "Create $\\Lambda$ from 0 to 0.5."
   ]
  },
  {
   "cell_type": "code",
   "execution_count": 56,
   "metadata": {},
   "outputs": [
    {
     "data": {
      "text/plain": [
       "array([0.001, 0.002, 0.003, 0.004, 0.005])"
      ]
     },
     "execution_count": 56,
     "metadata": {},
     "output_type": "execute_result"
    }
   ],
   "source": [
    "Lambda = np.arange(0.001, 0.501, 0.001)\n",
    "Lambda[:5]"
   ]
  },
  {
   "cell_type": "markdown",
   "metadata": {},
   "source": [
    "# 5."
   ]
  },
  {
   "cell_type": "markdown",
   "metadata": {},
   "source": [
    "Optimize the minimum of the function $-(\\mu^T w - \\tfrac{\\lambda_t}{2} \\cdot w^T \\Sigma w)$ i.e. the maximum of $\\mu^T w - \\tfrac{\\lambda_t}{2} \\cdot w^T \\Sigma w$"
   ]
  },
  {
   "cell_type": "code",
   "execution_count": 47,
   "metadata": {},
   "outputs": [],
   "source": [
    "def portfolio_optimization(lambda_t: float):    \n",
    "    def objective(w):\n",
    "        return -(mu @ w - (lambda_t / 2) * w.T @ Sigma @ w)\n",
    "    \n",
    "    constraints = ({'type': 'eq', 'fun': lambda w: np.sum(w) - 1})\n",
    "    bounds = [(None, None)] * len(tickers)\n",
    "    w0 = np.ones(len(tickers)) / len(tickers)\n",
    "    \n",
    "    result = opt.minimize(objective, w0, constraints=constraints, bounds=bounds)\n",
    "    return result.x if result.success else None"
   ]
  },
  {
   "cell_type": "markdown",
   "metadata": {},
   "source": [
    "Compute the optimal portfolios for each $\\lambda_t$."
   ]
  },
  {
   "cell_type": "code",
   "execution_count": 54,
   "metadata": {},
   "outputs": [
    {
     "data": {
      "text/plain": [
       "array([ 4.13257389, -1.93778343, -0.8873206 ,  1.8536281 , -2.16109796])"
      ]
     },
     "execution_count": 54,
     "metadata": {},
     "output_type": "execute_result"
    }
   ],
   "source": [
    "optimal_portfolios = {lambda_t: portfolio_optimization(lambda_t) for lambda_t in Lambda}\n",
    "\n",
    "optimal_portfolios[0.001]"
   ]
  },
  {
   "cell_type": "markdown",
   "metadata": {},
   "source": [
    "Compute portfolio statistics for each $\\lambda_t$."
   ]
  },
  {
   "cell_type": "code",
   "execution_count": 49,
   "metadata": {},
   "outputs": [
    {
     "data": {
      "text/html": [
       "<div><style>\n",
       ".dataframe > thead > tr,\n",
       ".dataframe > tbody > tr {\n",
       "  text-align: right;\n",
       "  white-space: pre-wrap;\n",
       "}\n",
       "</style>\n",
       "<small>shape: (500, 3)</small><table border=\"1\" class=\"dataframe\"><thead><tr><th>Lambda</th><th>Expected Return</th><th>Expected Volatility</th></tr><tr><td>f64</td><td>f64</td><td>f64</td></tr></thead><tbody><tr><td>0.001</td><td>0.997218</td><td>29.453461</td></tr><tr><td>0.002</td><td>0.572003</td><td>15.155693</td></tr><tr><td>0.003</td><td>0.430282</td><td>10.563914</td></tr><tr><td>0.004</td><td>0.359428</td><td>8.382332</td></tr><tr><td>0.005</td><td>0.316968</td><td>7.15209</td></tr><tr><td>&hellip;</td><td>&hellip;</td><td>&hellip;</td></tr><tr><td>0.496</td><td>0.148526</td><td>4.13637</td></tr><tr><td>0.497</td><td>0.148523</td><td>4.136368</td></tr><tr><td>0.498</td><td>0.148519</td><td>4.136367</td></tr><tr><td>0.499</td><td>0.148516</td><td>4.136365</td></tr><tr><td>0.5</td><td>0.148512</td><td>4.136363</td></tr></tbody></table></div>"
      ],
      "text/plain": [
       "shape: (500, 3)\n",
       "┌────────┬─────────────────┬─────────────────────┐\n",
       "│ Lambda ┆ Expected Return ┆ Expected Volatility │\n",
       "│ ---    ┆ ---             ┆ ---                 │\n",
       "│ f64    ┆ f64             ┆ f64                 │\n",
       "╞════════╪═════════════════╪═════════════════════╡\n",
       "│ 0.001  ┆ 0.997218        ┆ 29.453461           │\n",
       "│ 0.002  ┆ 0.572003        ┆ 15.155693           │\n",
       "│ 0.003  ┆ 0.430282        ┆ 10.563914           │\n",
       "│ 0.004  ┆ 0.359428        ┆ 8.382332            │\n",
       "│ 0.005  ┆ 0.316968        ┆ 7.15209             │\n",
       "│ …      ┆ …               ┆ …                   │\n",
       "│ 0.496  ┆ 0.148526        ┆ 4.13637             │\n",
       "│ 0.497  ┆ 0.148523        ┆ 4.136368            │\n",
       "│ 0.498  ┆ 0.148519        ┆ 4.136367            │\n",
       "│ 0.499  ┆ 0.148516        ┆ 4.136365            │\n",
       "│ 0.5    ┆ 0.148512        ┆ 4.136363            │\n",
       "└────────┴─────────────────┴─────────────────────┘"
      ]
     },
     "execution_count": 49,
     "metadata": {},
     "output_type": "execute_result"
    }
   ],
   "source": [
    "portfolio_stats = []\n",
    "\n",
    "for lambda_t in Lambda:\n",
    "    w_opt = portfolio_optimization(lambda_t)\n",
    "    if w_opt is not None:\n",
    "        mu_p = mu @ w_opt\n",
    "        sigma_p = np.sqrt(w_opt.T @ Sigma @ w_opt)\n",
    "        portfolio_stats.append((lambda_t, mu_p, sigma_p))\n",
    "stats_df = pl.DataFrame(\n",
    "    {\n",
    "        \"Lambda\": [x[0] for x in portfolio_stats],\n",
    "        \"Expected Return\": [x[1] for x in portfolio_stats],\n",
    "        \"Expected Volatility\": [x[2] for x in portfolio_stats],\n",
    "        # \"Portfolio Weights\": [x[3].tolist() for x in portfolio_stats],\n",
    "    }\n",
    ")\n",
    "stats_df"
   ]
  },
  {
   "cell_type": "markdown",
   "metadata": {},
   "source": [
    "# 6."
   ]
  },
  {
   "cell_type": "markdown",
   "metadata": {},
   "source": [
    "Plot efficient frontier."
   ]
  },
  {
   "cell_type": "code",
   "execution_count": 53,
   "metadata": {},
   "outputs": [
    {
     "data": {
      "image/png": "[encoded data removed]",
      "text/plain": [
       "<Figure size 1000x600 with 1 Axes>"
      ]
     },
     "metadata": {},
     "output_type": "display_data"
    }
   ],
   "source": [
    "plt.figure(figsize=(10, 6))\n",
    "plt.plot(stats_df[\"Expected Volatility\"], stats_df[\"Expected Return\"], marker='o', linestyle='-', label='Efficient Frontier')\n",
    "plt.xlabel(\"Volatility (σ)\")\n",
    "plt.ylabel(\"Return (μ)\")\n",
    "plt.title(\"Efficient Frontier Curve\")\n",
    "plt.grid(True)\n",
    "plt.show()"
   ]
  },
  {
   "cell_type": "markdown",
   "metadata": {},
   "source": [
    "The shape is similar to that of the square root curve, which then levels out into a linear function."
   ]
  }
 ],
 "metadata": {
  "kernelspec": {
   "display_name": ".venv",
   "language": "python",
   "name": "python3"
  },
  "language_info": {
   "codemirror_mode": {
    "name": "ipython",
    "version": 3
   },
   "file_extension": ".py",
   "mimetype": "text/x-python",
   "name": "python",
   "nbconvert_exporter": "python",
   "pygments_lexer": "ipython3",
   "version": "3.12.5"
  }
 },
 "nbformat": 4,
 "nbformat_minor": 2
}
