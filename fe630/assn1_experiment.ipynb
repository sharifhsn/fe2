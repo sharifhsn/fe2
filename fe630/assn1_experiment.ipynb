{
 "cells": [
  {
   "cell_type": "markdown",
   "metadata": {},
   "source": [
    "# Environment"
   ]
  },
  {
   "cell_type": "markdown",
   "metadata": {},
   "source": [
    "## Rust and `evcxr_jupyter`"
   ]
  },
  {
   "cell_type": "markdown",
   "metadata": {},
   "source": [
    "This notebook is written in Rust using the `evcxr` kernel. In order to install this environment, follow the instructions [here](https://github.com/evcxr/evcxr/blob/main/evcxr_jupyter/README.md#installation) before trying to run this notebook."
   ]
  },
  {
   "cell_type": "markdown",
   "metadata": {},
   "source": [
    "## Report Generation"
   ]
  },
  {
   "cell_type": "markdown",
   "metadata": {},
   "source": [
    "In the report form of this notebook, I use some utility functions for $\\LaTeX$-friendly formatting. I include these in an `init.evcxr` and `prelude.rs` file. These should be placed in the `evcxr` config directory as described [here](https://github.com/evcxr/evcxr/blob/main/COMMON.md#startup) before starting up the notebook.\n",
    "\n",
    "If you're running the notebook as code and not trying to generate a report, this is unnecessary."
   ]
  },
  {
   "cell_type": "code",
   "execution_count": 2,
   "metadata": {
    "vscode": {
     "languageId": "rust"
    }
   },
   "outputs": [
    {
     "data": {
      "text/plain": [
       "Output format: {}\n"
      ]
     },
     "execution_count": 2,
     "metadata": {},
     "output_type": "execute_result"
    }
   ],
   "source": [
    ":fmt {}"
   ]
  },
  {
   "cell_type": "markdown",
   "metadata": {},
   "source": [
    "## Imports"
   ]
  },
  {
   "cell_type": "code",
   "execution_count": 3,
   "metadata": {
    "vscode": {
     "languageId": "rust"
    }
   },
   "outputs": [],
   "source": [
    ":dep polars = { version = \"0.46\", features = [ \"lazy\", \"list_arithmetic\", \"round_series\", \"log\", \"range\"] }\n",
    ":dep nalgebra"
   ]
  },
  {
   "cell_type": "code",
   "execution_count": 4,
   "metadata": {
    "vscode": {
     "languageId": "rust"
    }
   },
   "outputs": [],
   "source": [
    "#![allow(non_snake_case)]\n",
    "use polars::prelude::*;\n",
    "use std::f64::consts::E;"
   ]
  },
  {
   "cell_type": "markdown",
   "metadata": {},
   "source": [
    "# Utility functions"
   ]
  },
  {
   "cell_type": "markdown",
   "metadata": {},
   "source": [
    "## Log Utility"
   ]
  },
  {
   "cell_type": "markdown",
   "metadata": {},
   "source": [
    "### (a) **Certainty Equivalent and Risk Premium**"
   ]
  },
  {
   "cell_type": "markdown",
   "metadata": {},
   "source": [
    "Initialize data. Our inputs are:\n",
    "- $W_0$ = wealth\n",
    "- $p_w$ = probability of winning\n",
    "- $w$ = amount won\n",
    "- $p_l$ = probability of losing\n",
    "- $l$ = amount lost\n",
    "\n",
    "where the risk $z$ represents\n",
    "\n",
    "$$z = \\begin{cases} w, & p_w \\\\ l, & p_l \\end{cases}$$"
   ]
  },
  {
   "cell_type": "code",
   "execution_count": 10,
   "metadata": {
    "vscode": {
     "languageId": "rust"
    }
   },
   "outputs": [
    {
     "data": {
      "text/latex": [
       "\\begin{tabularx}{\\textwidth}{|*5{p{\\dimexpr\\textwidth/5-2\\tabcolsep\\relax}|}}\n",
       "\\hlineW\\_0 & p\\_w & p\\_l & w & l \\\\\n",
       "\\hline\n",
       "1500.0000 & 0.5000 & 0.5000 & 150.0000 & 150.0000 \\\\\n",
       "\\hline\n",
       "\\end{tabularx}"
      ]
     },
     "execution_count": 10,
     "metadata": {},
     "output_type": "execute_result"
    }
   ],
   "source": [
    "let mut df = df!(\n",
    "    \"W_0\" => [1500.0],\n",
    "    \"p_w\" => [0.5],\n",
    "    \"p_l\" => [0.5],\n",
    "    \"w\" => [150.0],\n",
    "    \"l\" => [150.0]\n",
    ")?;\n",
    "let W_0 = col(\"W_0\");\n",
    "let p_w = col(\"p_w\");\n",
    "let p_l = col(\"p_l\");\n",
    "let w = col(\"w\");\n",
    "let l = col(\"l\");\n",
    "\n",
    "LaTeXDataFrame(df.clone()).evcxr_display();"
   ]
  },
  {
   "cell_type": "markdown",
   "metadata": {},
   "source": [
    "Our utility function $U$ is the $\\log$ function."
   ]
  },
  {
   "cell_type": "code",
   "execution_count": 11,
   "metadata": {
    "vscode": {
     "languageId": "rust"
    }
   },
   "outputs": [],
   "source": [
    "pub fn U(e: Expr) -> Expr {\n",
    "    e.log(E)\n",
    "}\n",
    "\n",
    "pub fn U_inv(e: Expr) -> Expr {\n",
    "    e.exp()\n",
    "}"
   ]
  },
  {
   "cell_type": "markdown",
   "metadata": {},
   "source": [
    "We can compute the expectation of $U$ as:\n",
    "\n",
    "$$\\mathbb{E}[U(W_T)] = p_w \\cdot U(W_0 + w) + p_l \\cdot U(W_0 - l)$$"
   ]
  },
  {
   "cell_type": "code",
   "execution_count": 12,
   "metadata": {
    "vscode": {
     "languageId": "rust"
    }
   },
   "outputs": [
    {
     "data": {
      "text/latex": [
       "\\begin{tabularx}{\\textwidth}{|*1{p{\\dimexpr\\textwidth/1-2\\tabcolsep\\relax}|}}\n",
       "\\hline\\mathbb{E}[U(W\\_T)] \\\\\n",
       "\\hline\n",
       "7.3082 \\\\\n",
       "\\hline\n",
       "\\end{tabularx}"
      ]
     },
     "execution_count": 12,
     "metadata": {},
     "output_type": "execute_result"
    }
   ],
   "source": [
    "let EUW_T = (p_w.clone()\n",
    "    * U(W_0.clone() + w.clone())\n",
    "    + p_l.clone() * U(W_0.clone() - l.clone()))\n",
    "    .alias(\"\\\\mathbb{E}[U(W_T)]\");\n",
    "\n",
    "LaTeXDataFrame(df.clone().lazy().select([EUW_T.clone()]).collect()?).evcxr_display();"
   ]
  },
  {
   "cell_type": "markdown",
   "metadata": {},
   "source": [
    "The Certainty Equivalent $CE$ is given by:\n",
    "$$\\mathbb{E}[U(W_T)] = U(CE)$$\n",
    "\n",
    "which we can therefore calculate as\n",
    "$$CE = U^{-1}\\left(\\mathbb{E}[U(W_T)]\\right)$$"
   ]
  },
  {
   "cell_type": "code",
   "execution_count": 13,
   "metadata": {
    "vscode": {
     "languageId": "rust"
    }
   },
   "outputs": [
    {
     "data": {
      "text/latex": [
       "\\begin{tabularx}{\\textwidth}{|*1{p{\\dimexpr\\textwidth/1-2\\tabcolsep\\relax}|}}\n",
       "\\hlineCE \\\\\n",
       "\\hline\n",
       "1492.4812 \\\\\n",
       "\\hline\n",
       "\\end{tabularx}"
      ]
     },
     "execution_count": 13,
     "metadata": {},
     "output_type": "execute_result"
    }
   ],
   "source": [
    "let CE = (U_inv(EUW_T.clone())).alias(\"CE\");\n",
    "\n",
    "LaTeXDataFrame(df.clone().lazy().select([CE.clone()]).collect()?).evcxr_display();"
   ]
  },
  {
   "cell_type": "markdown",
   "metadata": {},
   "source": [
    "In order to calculate risk premium, we will follow the formula:\n",
    "\n",
    "$$RP = \\mathbb{E}[W_T] - CE$$"
   ]
  },
  {
   "cell_type": "code",
   "execution_count": 14,
   "metadata": {
    "vscode": {
     "languageId": "rust"
    }
   },
   "outputs": [
    {
     "data": {
      "text/latex": [
       "\\begin{tabularx}{\\textwidth}{|*1{p{\\dimexpr\\textwidth/1-2\\tabcolsep\\relax}|}}\n",
       "\\hlineRP \\\\\n",
       "\\hline\n",
       "7.5188 \\\\\n",
       "\\hline\n",
       "\\end{tabularx}"
      ]
     },
     "execution_count": 14,
     "metadata": {},
     "output_type": "execute_result"
    }
   ],
   "source": [
    "let EW_T = (p_w.clone()\n",
    "    * (W_0.clone() + w.clone())\n",
    "    + p_l.clone() * (W_0.clone() - l.clone()))\n",
    "    .alias(\"\\\\mathbb{E}[W_T]\");\n",
    "let RP = (EW_T.clone() - CE.clone()).alias(\"RP\");\n",
    "\n",
    "LaTeXDataFrame(df.clone().lazy().select([RP.clone()]).collect()?).evcxr_display();"
   ]
  },
  {
   "cell_type": "markdown",
   "metadata": {},
   "source": [
    "In order to calculate the Taylor Series approximation of the risk premium, we will consider\n",
    "\n",
    "$$W_T = W^*_T + x$$\n",
    "\n",
    "where $W^*_T$ is deterministic wealth, and $x$ is a random variable with characteristics $\\mathbb{E}[x] = 0$ and $\\mathbb{V}[x] = \\sigma_x^2 = \\sigma_{W_T}^2$\n",
    "\n",
    "$W^*_T$ is just another way of expressing expected payoff.\n",
    "$$W^*_T = \\mathbb{E}[W_T]$$"
   ]
  },
  {
   "cell_type": "code",
   "execution_count": 15,
   "metadata": {
    "vscode": {
     "languageId": "rust"
    }
   },
   "outputs": [
    {
     "data": {
      "text/latex": [
       "\\begin{tabularx}{\\textwidth}{|*1{p{\\dimexpr\\textwidth/1-2\\tabcolsep\\relax}|}}\n",
       "\\hlineW^*\\_T \\\\\n",
       "\\hline\n",
       "1500.0000 \\\\\n",
       "\\hline\n",
       "\\end{tabularx}"
      ]
     },
     "execution_count": 15,
     "metadata": {},
     "output_type": "execute_result"
    }
   ],
   "source": [
    "let W_Tstar = EW_T.clone().alias(\"W^*_T\");\n",
    "\n",
    "LaTeXDataFrame(df.clone().lazy().select([W_Tstar.clone()]).collect()?).evcxr_display();"
   ]
  },
  {
   "cell_type": "markdown",
   "metadata": {},
   "source": [
    "Then, in order to solve for the risk premium $y$, we will use the formula\n",
    "$$y \\approx -\\frac{\\sigma_x^2}{2}A(W_T^*)$$\n",
    "\n",
    "where **Absolute Risk Aversion** $A$ is defined as\n",
    "\n",
    "$$A(W_T^*) = \\frac{U''(W_T^*)}{U'(W_T^*)}$$"
   ]
  },
  {
   "cell_type": "markdown",
   "metadata": {},
   "source": [
    "The derivatives for the utility equation can be found through basic calculus.\n",
    "\n",
    "$$U(W_T) = \\ln W_T$$\n",
    "$$U'(W_T) = \\frac{1}{W_T}$$\n",
    "$$U''(W_T) = -\\frac{1}{W_T^2}$$\n",
    "\n",
    "Therefore,\n",
    "\n",
    "$$A(W_T) = -\\frac{\\tfrac{1}{W_T^2}}{\\tfrac{1}{W_T}} = -\\frac{1}{W_T}$$"
   ]
  },
  {
   "cell_type": "code",
   "execution_count": 17,
   "metadata": {
    "vscode": {
     "languageId": "rust"
    }
   },
   "outputs": [
    {
     "data": {
      "text/latex": [
       "\\begin{tabularx}{\\textwidth}{|*1{p{\\dimexpr\\textwidth/1-2\\tabcolsep\\relax}|}}\n",
       "\\hlineA(W\\_T^*) \\\\\n",
       "\\hline\n",
       "-0.0007 \\\\\n",
       "\\hline\n",
       "\\end{tabularx}"
      ]
     },
     "execution_count": 17,
     "metadata": {},
     "output_type": "execute_result"
    }
   ],
   "source": [
    "let A = (-lit(1.0) / W_Tstar.clone()).alias(\"A(W_T^*)\");\n",
    "\n",
    "LaTeXDataFrame(df.clone().lazy().select([A.clone()]).collect()?).evcxr_display();"
   ]
  },
  {
   "cell_type": "markdown",
   "metadata": {},
   "source": [
    "To get volatility, we use the basic equation for variance:\n",
    "\n",
    "$$\\sigma_x^2 = \\sigma_z^2 = \\mathbb{E}[(z - \\mathbb{E}[z])^2]$$\n",
    "\n",
    "As $\\mathbb{E}[z] = 0$,\n",
    "\n",
    "$$\\sigma_x^2 = p_w \\cdot w^2 + p_l \\cdot l^2$$"
   ]
  },
  {
   "cell_type": "code",
   "execution_count": 18,
   "metadata": {
    "vscode": {
     "languageId": "rust"
    }
   },
   "outputs": [
    {
     "data": {
      "text/latex": [
       "\\begin{tabularx}{\\textwidth}{|*1{p{\\dimexpr\\textwidth/1-2\\tabcolsep\\relax}|}}\n",
       "\\hline\\sigma\\_x^2 \\\\\n",
       "\\hline\n",
       "22500.0000 \\\\\n",
       "\\hline\n",
       "\\end{tabularx}"
      ]
     },
     "execution_count": 18,
     "metadata": {},
     "output_type": "execute_result"
    }
   ],
   "source": [
    "let var = (p_w.clone() * w.clone().pow(2)\n",
    "+ p_l.clone() * l.clone().pow(2)).alias(\"\\\\sigma_x^2\");\n",
    "\n",
    "LaTeXDataFrame(df.clone().lazy().select([var.clone()]).collect()?).evcxr_display();"
   ]
  },
  {
   "cell_type": "markdown",
   "metadata": {},
   "source": [
    "The Taylor Series approximation of the risk premium $y$ is calculated thusly:"
   ]
  },
  {
   "cell_type": "code",
   "execution_count": 19,
   "metadata": {
    "vscode": {
     "languageId": "rust"
    }
   },
   "outputs": [
    {
     "data": {
      "text/latex": [
       "\\begin{tabularx}{\\textwidth}{|*1{p{\\dimexpr\\textwidth/1-2\\tabcolsep\\relax}|}}\n",
       "\\hliney \\\\\n",
       "\\hline\n",
       "7.5000 \\\\\n",
       "\\hline\n",
       "\\end{tabularx}"
      ]
     },
     "execution_count": 19,
     "metadata": {},
     "output_type": "execute_result"
    }
   ],
   "source": [
    "let y = (-var.clone() / lit(2.0) * A.clone()).alias(\"y\");\n",
    "\n",
    "LaTeXDataFrame(df.clone().lazy().select([y.clone()]).collect()?).evcxr_display();"
   ]
  },
  {
   "cell_type": "markdown",
   "metadata": {},
   "source": [
    "How good is this approximation?"
   ]
  },
  {
   "cell_type": "code",
   "execution_count": 20,
   "metadata": {
    "vscode": {
     "languageId": "rust"
    }
   },
   "outputs": [
    {
     "data": {
      "text/latex": [
       "\\begin{tabularx}{\\textwidth}{|*1{p{\\dimexpr\\textwidth/1-2\\tabcolsep\\relax}|}}\n",
       "\\hlineapproximation error \\\\\n",
       "\\hline\n",
       "0.0188 \\\\\n",
       "\\hline\n",
       "\\end{tabularx}"
      ]
     },
     "execution_count": 20,
     "metadata": {},
     "output_type": "execute_result"
    }
   ],
   "source": [
    "let approximation_error = (RP.clone() - y.clone()).alias(\"approximation error\");\n",
    "\n",
    "LaTeXDataFrame(df.clone().lazy().select([approximation_error.clone()]).collect()?).evcxr_display();"
   ]
  },
  {
   "cell_type": "markdown",
   "metadata": {},
   "source": [
    "### (b) **Sensitivity to initial wealth**"
   ]
  },
  {
   "cell_type": "markdown",
   "metadata": {},
   "source": [
    "Let's recalculate these values with an increased initial wealth."
   ]
  },
  {
   "cell_type": "code",
   "execution_count": 21,
   "metadata": {
    "vscode": {
     "languageId": "rust"
    }
   },
   "outputs": [
    {
     "data": {
      "text/latex": [
       "\\begin{tabularx}{\\textwidth}{|*1{p{\\dimexpr\\textwidth/1-2\\tabcolsep\\relax}|}}\n",
       "\\hlineRP \\\\\n",
       "\\hline\n",
       "5.6329 \\\\\n",
       "\\hline\n",
       "\\end{tabularx}"
      ]
     },
     "execution_count": 21,
     "metadata": {},
     "output_type": "execute_result"
    }
   ],
   "source": [
    "df.with_column(Column::new(\n",
    "    \"W_0\".into(),\n",
    "    [2000.0],\n",
    "))?;\n",
    "\n",
    "LaTeXDataFrame(df.clone().lazy().select([RP.clone()]).collect()?).evcxr_display();"
   ]
  },
  {
   "cell_type": "markdown",
   "metadata": {},
   "source": [
    "Because we are risk-averse, our utility function is concave, and therefore the increase in wealth is inversely proportional to the risk premium, making it decrease."
   ]
  },
  {
   "cell_type": "markdown",
   "metadata": {},
   "source": [
    "### (c) **Sensitivity to volatility**"
   ]
  },
  {
   "cell_type": "markdown",
   "metadata": {},
   "source": [
    "Now we'll change the values of the outcomes."
   ]
  },
  {
   "cell_type": "code",
   "execution_count": 22,
   "metadata": {
    "vscode": {
     "languageId": "rust"
    }
   },
   "outputs": [
    {
     "data": {
      "text/latex": [
       "\\begin{tabularx}{\\textwidth}{|*2{p{\\dimexpr\\textwidth/2-2\\tabcolsep\\relax}|}}\n",
       "\\hline\\sigma\\_x^2 & RP \\\\\n",
       "\\hline\n",
       "90000.0000 & 46.0608 \\\\\n",
       "\\hline\n",
       "\\end{tabularx}"
      ]
     },
     "execution_count": 22,
     "metadata": {},
     "output_type": "execute_result"
    }
   ],
   "source": [
    "df.with_column(Column::new(\n",
    "    \"W_0\".into(),\n",
    "    [1000.0],\n",
    "))?;\n",
    "df.with_column(Column::new(\n",
    "    \"w\".into(),\n",
    "    [300.0],\n",
    "))?;\n",
    "df.with_column(Column::new(\n",
    "    \"l\".into(),\n",
    "    [300.0],\n",
    "))?;\n",
    "\n",
    "LaTeXDataFrame(df.clone().lazy().select([var.clone(), RP.clone()]).collect()?).evcxr_display();"
   ]
  },
  {
   "cell_type": "markdown",
   "metadata": {},
   "source": [
    "Conversely, the risk premium is directly proportional to volatility and increases at approximately double its rate."
   ]
  },
  {
   "cell_type": "markdown",
   "metadata": {},
   "source": [
    "## Certainty Equivalent and Risk Premium for a Power Utility"
   ]
  },
  {
   "cell_type": "markdown",
   "metadata": {},
   "source": [
    "Initialize data. Our inputs are the same variables as before, with an additional $k$ for utility.\n"
   ]
  },
  {
   "cell_type": "code",
   "execution_count": 23,
   "metadata": {
    "vscode": {
     "languageId": "rust"
    }
   },
   "outputs": [
    {
     "data": {
      "text/latex": [
       "\\begin{tabularx}{\\textwidth}{|*6{p{\\dimexpr\\textwidth/6-2\\tabcolsep\\relax}|}}\n",
       "\\hlineW\\_0 & p\\_w & p\\_l & w & l & k \\\\\n",
       "\\hline\n",
       "1000.0000 & 0.6667 & 0.3333 & 205.0000 & 400.0000 & 0.5000 \\\\\n",
       "\\hline\n",
       "\\end{tabularx}"
      ]
     },
     "execution_count": 23,
     "metadata": {},
     "output_type": "execute_result"
    }
   ],
   "source": [
    "let mut df = df!(\n",
    "    \"W_0\" => [1000.0],\n",
    "    \"p_w\" => [2.0/3.0],\n",
    "    \"p_l\" => [1.0/3.0],\n",
    "    \"w\" => [205.0],\n",
    "    \"l\" => [400.0],\n",
    "    \"k\" => [0.5],\n",
    ")?;\n",
    "let W_0 = col(\"W_0\");\n",
    "let p_w = col(\"p_w\");\n",
    "let p_l = col(\"p_l\");\n",
    "let w = col(\"w\");\n",
    "let l = col(\"l\");\n",
    "let k = col(\"k\");\n",
    "\n",
    "LaTeXDataFrame(df.clone()).evcxr_display();"
   ]
  },
  {
   "cell_type": "markdown",
   "metadata": {},
   "source": [
    "Our utility function is given by\n",
    "\n",
    "$$U(W) = W^k$$\n"
   ]
  },
  {
   "cell_type": "code",
   "execution_count": 24,
   "metadata": {
    "vscode": {
     "languageId": "rust"
    }
   },
   "outputs": [],
   "source": [
    "pub fn U(e: Expr, k: Expr) -> Expr {\n",
    "    e.pow(k)\n",
    "}\n",
    "\n",
    "pub fn U_inv(e: Expr, k: Expr) -> Expr {\n",
    "    e.pow(lit(1.0) / k)\n",
    "}"
   ]
  },
  {
   "cell_type": "markdown",
   "metadata": {},
   "source": [
    "Since our utility function has changed, Absolute Risk Aversion does as well. As before, we can use simple calculus to determine it.\n",
    "\n",
    "$$U(W_T, k) = W^k$$\n",
    "$$U'(W_T, k) = kW^{k-1}$$\n",
    "$$U''(W_T, k) = k(k-1)W^{k-2}$$\n",
    "$$A(W_T, k) = -\\frac{k(k-1)W^{k-2}}{kW^{k-1}} = -\\frac{k-1}{W}$$\n",
    "\n",
    "The risk attitude of the investor is risk-averse when $A$ is positive, and risk-taking when $A$ is negative. This is because the power function is convex when $k > 1$ e.g. $U(W, k) = W^2$ and concave when $k < 1$ e.g. $U(W, k) = W^{\\tfrac{1}{2}}$. When $k = 0$, the utility function is linear ($U(W, k) = W$) and therefore risk-neutral.\n",
    "\n",
    "$$\\text{risk attitude} = \\begin{cases} \\text{risk-averse} & k < 1 \\\\ \\text{risk-neutral} & k = 1 \\\\ \\text{risk-taking} & k > 1 \\end{cases}$$"
   ]
  },
  {
   "cell_type": "code",
   "execution_count": 26,
   "metadata": {
    "vscode": {
     "languageId": "rust"
    }
   },
   "outputs": [
    {
     "data": {
      "text/latex": [
       "\\begin{tabularx}{\\textwidth}{|*2{p{\\dimexpr\\textwidth/2-2\\tabcolsep\\relax}|}}\n",
       "\\hlinek & risk attitude \\\\\n",
       "\\hline\n",
       "0.5000 & risk-averse \\\\\n",
       "\\hline\n",
       "\\end{tabularx}"
      ]
     },
     "execution_count": 26,
     "metadata": {},
     "output_type": "execute_result"
    }
   ],
   "source": [
    "let A = -(k.clone() - lit(1.0))/ W_0.clone();\n",
    "\n",
    "let risk_attitude = (when(k.clone().lt(1))\n",
    "    .then(lit(\"risk-averse\"))\n",
    "    .otherwise(\n",
    "        when(k.clone().gt(1))\n",
    "            .then(lit(\"risk-taking\"))\n",
    "            .otherwise(lit(\"risk-neutral\")),\n",
    "    ))\n",
    ".alias(\"risk attitude\");\n",
    "\n",
    "LaTeXDataFrame(df.clone().lazy().select([k.clone(), risk_attitude.clone()]).collect()?).evcxr_display();"
   ]
  },
  {
   "cell_type": "markdown",
   "metadata": {},
   "source": [
    "We can redefine our computations with this new utility function."
   ]
  },
  {
   "cell_type": "code",
   "execution_count": 27,
   "metadata": {
    "vscode": {
     "languageId": "rust"
    }
   },
   "outputs": [
    {
     "data": {
      "text/latex": [
       "\\begin{tabularx}{\\textwidth}{|*3{p{\\dimexpr\\textwidth/3-2\\tabcolsep\\relax}|}}\n",
       "\\hlineCE & RP & approximation error \\\\\n",
       "\\hline\n",
       "980.1307 & 23.2026 & 43.5401 \\\\\n",
       "\\hline\n",
       "\\end{tabularx}"
      ]
     },
     "execution_count": 27,
     "metadata": {},
     "output_type": "execute_result"
    }
   ],
   "source": [
    "let EUW_T = (p_w.clone()\n",
    "    * U(W_0.clone() + w.clone(), k.clone())\n",
    "    + p_l.clone() * U(W_0.clone() - l.clone(), k.clone()))\n",
    "    .alias(\"\\\\mathbb{E}[U(W_T)]\");\n",
    "\n",
    "let CE = (U_inv(EUW_T.clone(), k.clone())).alias(\"CE\");\n",
    "\n",
    "let EW_T = (p_w.clone()\n",
    "    * (W_0.clone() + w.clone())\n",
    "    + p_l.clone() * (W_0.clone() - l.clone()))\n",
    "    .alias(\"\\\\mathbb{E}[W_T]\");\n",
    "let RP = (EW_T.clone() - CE.clone()).alias(\"RP\");\n",
    "\n",
    "let W_Tstar = EW_T.clone().alias(\"W^*_T\");\n",
    "\n",
    "let var = (p_w.clone() * w.clone().pow(2)\n",
    "+ p_l.clone() * l.clone().pow(2)).alias(\"\\\\sigma_x^2\");\n",
    "\n",
    "let y = (-var.clone() / lit(2.0) * A.clone()).alias(\"y\");\n",
    "\n",
    "let approximation_error = (RP.clone() - y.clone()).alias(\"approximation error\");\n",
    "\n",
    "LaTeXDataFrame(df.clone().lazy().select([CE.clone(), RP.clone(), approximation_error.clone()]).collect()?).evcxr_display();"
   ]
  },
  {
   "cell_type": "markdown",
   "metadata": {},
   "source": [
    "Then recalculate with $k = 2$."
   ]
  },
  {
   "cell_type": "code",
   "execution_count": 28,
   "metadata": {
    "vscode": {
     "languageId": "rust"
    }
   },
   "outputs": [
    {
     "data": {
      "text/latex": [
       "\\begin{tabularx}{\\textwidth}{|*3{p{\\dimexpr\\textwidth/3-2\\tabcolsep\\relax}|}}\n",
       "\\hlineCE & RP & approximation error \\\\\n",
       "\\hline\n",
       "1043.0804 & -39.7470 & -80.4220 \\\\\n",
       "\\hline\n",
       "\\end{tabularx}"
      ]
     },
     "execution_count": 28,
     "metadata": {},
     "output_type": "execute_result"
    }
   ],
   "source": [
    "df.with_column(Column::new(\n",
    "    \"k\".into(),\n",
    "    [2.0],\n",
    "))?;\n",
    "\n",
    "LaTeXDataFrame(df.clone().lazy().select([CE.clone(), RP.clone(), approximation_error.clone()]).collect()?).evcxr_display();"
   ]
  },
  {
   "cell_type": "markdown",
   "metadata": {},
   "source": [
    "## 3. Scaled Log Utility"
   ]
  },
  {
   "cell_type": "markdown",
   "metadata": {},
   "source": [
    "We'll initialize some dummy data to test with."
   ]
  },
  {
   "cell_type": "markdown",
   "metadata": {},
   "source": [
    "We are given mean returns $\\mu$ for each security, so we can simply calculate\n",
    "$$\\mathbb{E}[r_p(w)] = \\mathbb{E}[w^T r] = w^T \\mu$$\n",
    "\n",
    "Following the general variance formula given covariance matrix $\\Sigma$,\n",
    "\n",
    "$$\\sigma^2[r_p(w)] = \\mathbb{V}[w^T r] = w^T \\Sigma w$$"
   ]
  },
  {
   "cell_type": "markdown",
   "metadata": {},
   "source": [
    "The utility function we are using is $$U(r) = \\ln(1 + \\lambda r)$$"
   ]
  },
  {
   "cell_type": "markdown",
   "metadata": {},
   "source": [
    "The Taylor series expansion of this is given by the following:\n",
    "$$U(0) = \\ln(1 + \\lambda (0)) = 0$$\n",
    "$$U'(r) = \\frac{\\lambda}{1 + \\lambda r}$$\n",
    "$$U'(0) = \\frac{\\lambda}{1 + \\lambda (0)} = \\lambda$$\n",
    "$$U''(r) = -\\frac{\\lambda^2}{(1 + \\lambda r)^2}$$\n",
    "$$U''(0) = -\\frac{\\lambda^2}{(1 + \\lambda (0))^2} = -\\lambda^2$$\n",
    "$$U(r) \\approx U(0) + U'(0) r + \\frac{U''(0)}{2}r^2 = \\lambda r - \\frac{\\lambda^2}{2} r^2$$"
   ]
  },
  {
   "cell_type": "markdown",
   "metadata": {},
   "source": [
    "In order to prove the approximation, we will take the expectation:\n",
    "$$\\mathbb{E}[U(r)] \\approx \\lambda \\mathbb{E}[r] - \\frac{\\lambda^2}{2} \\mathbb{E}[r^2]$$\n",
    "We can take advantage of the definition of variance here.\n",
    "$$\\sigma^2(r) = \\mathbb{E}[r^2] - \\mathbb{E}^2[r]$$\n",
    "Note that because $\\mu$ is small, $\\mathbb{E}^2[r]$ is small enough to erase from our calculations, leading to\n",
    "$$\\sigma^2(r) \\approx \\mathbb{E}[r^2]$$\n",
    "We can resubstitute this back into our equation\n",
    "$$\\mathbb{E}[U(r)] \\approx \\lambda \\mathbb{E}[r] - \\frac{\\lambda^2}{2} \\sigma^2(r)$$\n",
    "And divide by the constant $\\lambda$ as that does not impact maximization.\n",
    "$$\\mathbb{E}[U(r)] \\approx \\mathbb{E}[r] - \\frac{\\lambda}{2} \\sigma^2(r)$$\n",
    "Thus the approximation is proven."
   ]
  }
 ],
 "metadata": {
  "kernelspec": {
   "display_name": "Rust",
   "language": "rust",
   "name": "rust"
  },
  "language_info": {
   "codemirror_mode": "rust",
   "file_extension": ".rs",
   "mimetype": "text/rust",
   "name": "Rust",
   "pygment_lexer": "rust",
   "version": ""
  }
 },
 "nbformat": 4,
 "nbformat_minor": 2
}
