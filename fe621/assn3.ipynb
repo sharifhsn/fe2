{
 "cells": [
  {
   "cell_type": "markdown",
   "metadata": {},
   "source": [
    "# Homework 3"
   ]
  },
  {
   "cell_type": "markdown",
   "metadata": {},
   "source": [
    "# Finite difference methods."
   ]
  },
  {
   "cell_type": "markdown",
   "metadata": {},
   "source": [
    "## Explicit Finite Difference"
   ]
  },
  {
   "cell_type": "markdown",
   "metadata": {},
   "source": [
    "Our goal is to value European options with $V(S, t)$."
   ]
  },
  {
   "cell_type": "markdown",
   "metadata": {},
   "source": [
    "### Solving the PDE"
   ]
  },
  {
   "cell_type": "markdown",
   "metadata": {},
   "source": [
    "We will follow the Black-Scholes assumption that the underlying stock follows this stochastic process:\n",
    "\n",
    "$$dS_t = rS_t dt + \\sigma S_t dW_t$$\n",
    "\n",
    "Then the price of the European option must satisfy this PDE:\n",
    "\n",
    "$$\\frac{\\partial V}{\\partial t} + rS \\frac{\\partial V}{\\partial S} + \\frac{1}{2} \\sigma^2 S^2 \\frac{\\partial^2 V}{\\partial S^2} - rV = 0$$"
   ]
  },
  {
   "cell_type": "markdown",
   "metadata": {},
   "source": [
    "In order to solve this PDE, we must have constant coefficients. We can do this through a change of variable, modeling returns instead of the actual stock price.\n",
    "\n",
    "$$S = e^x$$\n",
    "$$x = \\ln S$$\n",
    "\n",
    "Then we will get a new value equation $u$ where\n",
    "$$V(S, t) = V(e^x, t) = u(x, t)$$\n",
    "$$\\frac{\\partial V}{\\partial t}(t, S) = \\frac{\\partial u}{\\partial t}(t, x)$$\n",
    "\n",
    "And using Ito's lemma, our original Black-Scholes PDE becomes\n",
    "\n",
    "$$\\frac{\\partial u}{\\partial t} + \\nu\\frac{\\partial u}{\\partial x} + \\frac{1}{2}\\sigma^2 \\frac{\\partial^2 u}{\\partial x^2} - ru = 0$$\n",
    "\n",
    "where\n",
    "\n",
    "$$\\nu = r - \\frac{\\sigma^2}{2}$$"
   ]
  },
  {
   "cell_type": "markdown",
   "metadata": {},
   "source": [
    "Merton (1973) showed that this PDE, like the heat equation, can be solved analytically and used to value options through the famous Black-Scholes equation. But we can also solve it via a numerical method, the **explicit finite difference** method."
   ]
  },
  {
   "cell_type": "markdown",
   "metadata": {},
   "source": [
    "### Discretizing the Domain"
   ]
  },
  {
   "cell_type": "markdown",
   "metadata": {},
   "source": [
    "This process involves discretizing this equation, and solving it backwards from the payoff at maturity $T$.\n",
    "\n",
    "This begins by discretizing our domain.\n",
    "\n",
    "Our domain is $t \\in [0, T]$ and $x \\in (-\\infty, \\infty)$.\n",
    "\n",
    "We will discretize $t$ into $n + 1$ points like so:\n",
    "$$\\Delta t = \\frac{T}{n}$$\n",
    "$$t = \\{0, \\Delta t, 2 \\Delta t, \\ldots, n \\Delta t\\}$$\n",
    "\n",
    "For $x$, we must set some large boundary instead of using $\\infty$, which we will define as $N$. Therefore we will have $2N + 1$ points like so:\n",
    "$$x = \\{-N \\Delta x, (-N + 1) \\Delta x, \\ldots, 0, \\Delta x, \\ldots, N \\Delta x\\}$$\n",
    "\n",
    "The value of $\\Delta x$ is technically arbitrary. However, in order for this process to converge, $\\Delta x$ must follow\n",
    "\n",
    "$$\\Delta x \\geq \\sigma \\sqrt{3 \\Delta t}$$\n",
    "\n",
    "The time complexity of the explicit algorithm is $O(\\Delta x^2 + \\Delta t)$. Since we want to minimize the time complexity, the best choice of $\\Delta x$ is in practice always $\\sigma \\sqrt{3\\Delta t}$."
   ]
  },
  {
   "cell_type": "markdown",
   "metadata": {},
   "source": [
    "### Discretizing the Derivatives"
   ]
  },
  {
   "cell_type": "markdown",
   "metadata": {},
   "source": [
    "For the explicit finite difference method, there are four points we will need. These are\n",
    "- $u_{i+1, j+1}$\n",
    "- $u_{i+1, j}$\n",
    "- $u_{i+1, j-1}$\n",
    "- $u_{i, j}$\n",
    "\n",
    "And there are three derivatives we are trying to calculate\n",
    "$$\\frac{\\partial u}{\\partial t}, \\frac{\\partial u}{\\partial x}, \\frac{\\partial^2 u}{\\partial x^2}$$\n",
    "\n",
    "We can use the limit equation for derivatives to describe finite difference for the first-order derivatives.\n",
    "\n",
    "$$u'(x) = \\lim_{h \\rightarrow 0}  \\frac{u(x + h) - u(x)}{h}$$\n",
    "\n",
    "And we can also use Taylor expansion to get the limit equation for second-order derivatives in terms of the first-order equation.\n",
    "\n",
    "$$u''(x) = \\lim_{h \\rightarrow 0} \\frac{u(x+h) - 2u(x) + u(x-h)}{h^2}$$"
   ]
  },
  {
   "cell_type": "markdown",
   "metadata": {},
   "source": [
    "The derivative with respect to $t$ most neatly fits into this paradigm. If we define\n",
    "$$h = \\Delta t$$\n",
    "then we get\n",
    "$$\\frac{\\partial u}{\\partial t} = \\frac{u_{i+1, j} - u_{i, j}}{\\Delta t}$$"
   ]
  },
  {
   "cell_type": "markdown",
   "metadata": {},
   "source": [
    "For the first-order derivative with respect to $x$, because we are calculating these values with respect to $u_{i, j}$, we don't want to bias it up or down, so we will use the above and below point and then average them.\n",
    "$$h = \\Delta x$$\n",
    "$$\\frac{\\partial u}{\\partial x} = \\frac{u_{i+1,j+1} - u_{i+1,j-1}}{2\\Delta x}$$"
   ]
  },
  {
   "cell_type": "markdown",
   "metadata": {},
   "source": [
    "And for the second-order derivative with respect to $x$ we will use the corresponding limit equation.\n",
    "\n",
    "$$h = \\Delta x$$\n",
    "$$\\frac{\\partial^2 u}{\\partial x^2} = \\frac{u_{i+1,j+1} - 2u_{i+1,j} + u_{i+1,j-1}}{\\Delta x^2}$$"
   ]
  },
  {
   "cell_type": "markdown",
   "metadata": {},
   "source": [
    "### The Discretized Equation"
   ]
  },
  {
   "cell_type": "markdown",
   "metadata": {},
   "source": [
    "$$\\frac{\\partial u}{\\partial t} + \\nu\\frac{\\partial u}{\\partial x} + \\frac{1}{2}\\sigma^2 \\frac{\\partial^2 u}{\\partial x^2} - ru = 0$$"
   ]
  },
  {
   "cell_type": "markdown",
   "metadata": {},
   "source": [
    "Substituting back these finite differences into our original equation, we get\n",
    "\n",
    "$$\\frac{u_{i+1, j} - u_{i, j}}{\\Delta t} + \\nu \\frac{u_{i+1,j+1} - u_{i+1,j-1}}{2\\Delta x} + \\frac{1}{2} \\sigma^2 \\frac{u_{i+1,j+1} - 2u_{i+1,j} + u_{i+1,j-1}}{\\Delta x^2} - r u_{i+1, j} = 0$$"
   ]
  },
  {
   "cell_type": "markdown",
   "metadata": {},
   "source": [
    "Expand out the equation.\n",
    "$$\\frac{u_{i+1, j}}{\\Delta t} - \\frac{u_{i, j}}{\\Delta t} + \\frac{\\nu}{2\\Delta x} u_{i+1, j+1} - \\frac{\\nu}{2\\Delta x} u_{i+1, j-1} + \\frac{\\sigma^2}{2\\Delta x^2} u_{i+1, j+1} - \\frac{\\sigma^2}{\\Delta x^2} u_{i+1, j} + \\frac{\\sigma^2}{2 \\Delta x^2} h - ru_{i+1, j} = 0$$\n",
    "\n",
    "Rearrange to solve for $u_{i, j}$.\n",
    "$$u_{i, j} = \\Delta t \\left( \\frac{\\sigma^2}{2\\Delta x^2} u_{i+1, j+1} + \\frac{\\nu}{2\\Delta x} u_{i+1, j+1} \\right) + \\Delta t \\left( \\frac{\\sigma^2}{2\\Delta x^2} u_{i+1, j-1} - \\frac{\\nu}{2\\Delta x} u_{i+1, j-1} \\right) + u_{i+1, j} - \\Delta t \\frac{\\sigma^2}{\\Delta x^2} u_{i+1, j} - ru_{i+1, j} \\Delta t$$\n",
    "\n",
    "Factor out the probabilities.\n",
    "$$u_{i, j} = p_u u_{i+1, j+1} + p_m u_{i+1, j} + p_d u_{i+1, j-1}$$\n",
    "\n",
    "$$p_u = \\Delta t \\left( \\frac{\\sigma^2}{2\\Delta x^2} + \\frac{\\nu}{2\\Delta x} \\right)$$\n",
    "$$p_m = 1 - \\Delta t \\frac{\\sigma^2}{\\Delta x^2} - r \\Delta t$$\n",
    "$$p_d = \\Delta t \\left( \\frac{\\sigma^2}{2\\Delta x^2} - \\frac{\\nu}{2\\Delta x} \\right)$$"
   ]
  },
  {
   "cell_type": "markdown",
   "metadata": {},
   "source": [
    "### Valuation"
   ]
  },
  {
   "cell_type": "markdown",
   "metadata": {},
   "source": [
    "To carry out the valuation, we will follow these steps.\n",
    "\n",
    "1. Initialize the following constants:\n",
    "    - $K$\n",
    "    - $T$\n",
    "    - $S$\n",
    "    - $\\sigma$\n",
    "    - $r$\n",
    "    - $\\delta$\n",
    "    - $n$\n",
    "    - $N$\n",
    "    - $dt$\n",
    "    - $dx$\n",
    "    - $\\nu$\n",
    "    - $p_u$\n",
    "    - $p_m$\n",
    "    - $p_d$\n",
    "2. Create a vector of asset prices at maturity.\n",
    "3. Initialize option values at maturity based on the option payoff formula.\n",
    "4. Step backwards through the lattice by solving the discretized equation for each point in each time step based on the three points in the next time step.\n",
    "5. For the boundary conditions, initialize them based on the option type.\n",
    "6. Return the value at (0, 0)"
   ]
  },
  {
   "cell_type": "markdown",
   "metadata": {},
   "source": [
    "# Nodes Required for Error"
   ]
  },
  {
   "cell_type": "markdown",
   "metadata": {},
   "source": [
    "## Explicit Finite Difference"
   ]
  },
  {
   "cell_type": "markdown",
   "metadata": {},
   "source": [
    "For explicit finite difference."
   ]
  }
 ],
 "metadata": {
  "language_info": {
   "name": "python"
  }
 },
 "nbformat": 4,
 "nbformat_minor": 2
}
