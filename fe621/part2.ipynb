{
 "cells": [
  {
   "cell_type": "markdown",
   "metadata": {},
   "source": [
    "# Imports"
   ]
  },
  {
   "cell_type": "code",
   "execution_count": 31,
   "metadata": {
    "vscode": {
     "languageId": "rust"
    }
   },
   "outputs": [],
   "source": [
    ":dep polars = { version = \"0.46.0\", features = [\"full\"] }\n",
    ":dep chrono\n",
    ":dep statrs"
   ]
  },
  {
   "cell_type": "code",
   "execution_count": 33,
   "metadata": {
    "vscode": {
     "languageId": "rust"
    }
   },
   "outputs": [],
   "source": [
    "use polars::prelude::*;\n",
    "use polars::df;\n",
    "use statrs::distribution::{ContinuousCDF, Normal};\n",
    "use std::f64::consts::E;\n",
    "use std::path::PathBuf;"
   ]
  },
  {
   "cell_type": "markdown",
   "metadata": {},
   "source": [
    "# Get Data from CSV"
   ]
  },
  {
   "cell_type": "markdown",
   "metadata": {},
   "source": [
    "I used Python to download Yahoo Finance data, because the Rust libraries to do this are... not great. I dumped them into CSVs so I could access them from Rust."
   ]
  },
  {
   "cell_type": "code",
   "execution_count": 57,
   "metadata": {
    "vscode": {
     "languageId": "rust"
    }
   },
   "outputs": [
    {
     "data": {
      "text/plain": [
       "shape: (10, 4)\n",
       "┌───────────────────────────┬────────────┬────────────┬───────┐\n",
       "│ Datetime                  ┆ NVDA       ┆ SPY        ┆ ^VIX  │\n",
       "│ ---                       ┆ ---        ┆ ---        ┆ ---   │\n",
       "│ str                       ┆ f64        ┆ f64        ┆ f64   │\n",
       "╞═══════════════════════════╪════════════╪════════════╪═══════╡\n",
       "│ 2025-02-13 14:31:00+00:00 ┆ 132.070007 ┆ 604.789978 ┆ 15.65 │\n",
       "│ 2025-02-13 14:32:00+00:00 ┆ 132.439896 ┆ 604.825012 ┆ 15.66 │\n",
       "│ 2025-02-13 14:34:00+00:00 ┆ 133.059296 ┆ 604.554993 ┆ 15.67 │\n",
       "│ 2025-02-13 14:35:00+00:00 ┆ 132.990005 ┆ 604.52002  ┆ 15.64 │\n",
       "│ 2025-02-13 14:36:00+00:00 ┆ 132.977905 ┆ 604.469971 ┆ 15.67 │\n",
       "│ 2025-02-13 14:37:00+00:00 ┆ 132.729996 ┆ 604.049988 ┆ 15.73 │\n",
       "│ 2025-02-13 14:38:00+00:00 ┆ 132.069901 ┆ 603.304993 ┆ 15.9  │\n",
       "│ 2025-02-13 14:39:00+00:00 ┆ 132.265793 ┆ 603.75     ┆ 15.88 │\n",
       "│ 2025-02-13 14:40:00+00:00 ┆ 132.550003 ┆ 603.849976 ┆ 15.87 │\n",
       "│ 2025-02-13 14:41:00+00:00 ┆ 132.289993 ┆ 603.679993 ┆ 15.87 │\n",
       "└───────────────────────────┴────────────┴────────────┴───────┘"
      ]
     },
     "execution_count": 57,
     "metadata": {},
     "output_type": "execute_result"
    }
   ],
   "source": [
    "let df_hist = CsvReadOptions::default()\n",
    "    .with_has_header(true)\n",
    "    .try_into_reader_with_file_path(Some(PathBuf::from(\"historical_data.csv\")))?\n",
    "    .finish()?;\n",
    "let df_opt = CsvReadOptions::default()\n",
    "    .with_has_header(true)\n",
    "    .try_into_reader_with_file_path(Some(PathBuf::from(\"options_data.csv\")))?\n",
    "    .finish()?\n",
    "    .lazy()\n",
    "    .with_column(\n",
    "        col(\"lastTradeDate\")\n",
    "            .str()\n",
    "            .to_date(StrptimeOptions {\n",
    "                format: Some(\"%Y-%m-%d %H:%M:%S%z\".into()),\n",
    "                strict: false,\n",
    "                exact: true,\n",
    "                ..Default::default()\n",
    "            })\n",
    "            .alias(\"lastTradeDate\"),\n",
    "    )\n",
    "    .with_column(\n",
    "        col(\"expirationDate\")\n",
    "            .str()\n",
    "            .to_date(StrptimeOptions {\n",
    "                format: Some(\"%Y-%m-%d\".into()),\n",
    "                strict: false,\n",
    "                exact: true,\n",
    "                ..Default::default()\n",
    "            })\n",
    "            .alias(\"expirationDate\"),\n",
    "    )\n",
    "    .with_column(\n",
    "        (col(\"expirationDate\").dt().date() - col(\"lastTradeDate\").dt().date())\n",
    "            .alias(\"timeToMaturity\"),\n",
    "    )\n",
    "    .collect()?;\n",
    "df_hist.head(None)"
   ]
  },
  {
   "cell_type": "code",
   "execution_count": 48,
   "metadata": {
    "vscode": {
     "languageId": "rust"
    }
   },
   "outputs": [
    {
     "data": {
      "text/plain": [
       "shape: (10, 19)\n",
       "┌─────┬──────────────┬──────────────┬────────┬───┬────────────┬─────────────┬────────┬─────────────┐\n",
       "│     ┆ contractSymb ┆ lastTradeDat ┆ strike ┆ … ┆ optionType ┆ expirationD ┆ ticker ┆ timeToMatur │\n",
       "│ --- ┆ ol           ┆ e            ┆ ---    ┆   ┆ ---        ┆ ate         ┆ ---    ┆ ity         │\n",
       "│ i64 ┆ ---          ┆ ---          ┆ f64    ┆   ┆ str        ┆ ---         ┆ str    ┆ ---         │\n",
       "│     ┆ str          ┆ date         ┆        ┆   ┆            ┆ date        ┆        ┆ duration[ms │\n",
       "│     ┆              ┆              ┆        ┆   ┆            ┆             ┆        ┆ ]           │\n",
       "╞═════╪══════════════╪══════════════╪════════╪═══╪════════════╪═════════════╪════════╪═════════════╡\n",
       "│ 0   ┆ NVDA250221C0 ┆ 2025-02-14   ┆ 0.5    ┆ … ┆ call       ┆ 2025-02-21  ┆ NVDA   ┆ 7d          │\n",
       "│     ┆ 0000500      ┆              ┆        ┆   ┆            ┆             ┆        ┆             │\n",
       "│ 1   ┆ NVDA250221C0 ┆ 2025-02-13   ┆ 1.0    ┆ … ┆ call       ┆ 2025-02-21  ┆ NVDA   ┆ 8d          │\n",
       "│     ┆ 0001000      ┆              ┆        ┆   ┆            ┆             ┆        ┆             │\n",
       "│ 2   ┆ NVDA250221C0 ┆ 2025-02-13   ┆ 1.5    ┆ … ┆ call       ┆ 2025-02-21  ┆ NVDA   ┆ 8d          │\n",
       "│     ┆ 0001500      ┆              ┆        ┆   ┆            ┆             ┆        ┆             │\n",
       "│ 3   ┆ NVDA250221C0 ┆ 2025-02-10   ┆ 2.0    ┆ … ┆ call       ┆ 2025-02-21  ┆ NVDA   ┆ 11d         │\n",
       "│     ┆ 0002000      ┆              ┆        ┆   ┆            ┆             ┆        ┆             │\n",
       "│ 4   ┆ NVDA250221C0 ┆ 2025-02-10   ┆ 2.5    ┆ … ┆ call       ┆ 2025-02-21  ┆ NVDA   ┆ 11d         │\n",
       "│     ┆ 0002500      ┆              ┆        ┆   ┆            ┆             ┆        ┆             │\n",
       "│ 5   ┆ NVDA250221C0 ┆ 2025-02-12   ┆ 3.0    ┆ … ┆ call       ┆ 2025-02-21  ┆ NVDA   ┆ 9d          │\n",
       "│     ┆ 0003000      ┆              ┆        ┆   ┆            ┆             ┆        ┆             │\n",
       "│ 6   ┆ NVDA250221C0 ┆ 2025-01-27   ┆ 3.5    ┆ … ┆ call       ┆ 2025-02-21  ┆ NVDA   ┆ 25d         │\n",
       "│     ┆ 0003500      ┆              ┆        ┆   ┆            ┆             ┆        ┆             │\n",
       "│ 7   ┆ NVDA250221C0 ┆ 2025-01-27   ┆ 4.0    ┆ … ┆ call       ┆ 2025-02-21  ┆ NVDA   ┆ 25d         │\n",
       "│     ┆ 0004000      ┆              ┆        ┆   ┆            ┆             ┆        ┆             │\n",
       "│ 8   ┆ NVDA250221C0 ┆ 2025-02-05   ┆ 4.5    ┆ … ┆ call       ┆ 2025-02-21  ┆ NVDA   ┆ 16d         │\n",
       "│     ┆ 0004500      ┆              ┆        ┆   ┆            ┆             ┆        ┆             │\n",
       "│ 9   ┆ NVDA250221C0 ┆ 2025-02-05   ┆ 5.0    ┆ … ┆ call       ┆ 2025-02-21  ┆ NVDA   ┆ 16d         │\n",
       "│     ┆ 0005000      ┆              ┆        ┆   ┆            ┆             ┆        ┆             │\n",
       "└─────┴──────────────┴──────────────┴────────┴───┴────────────┴─────────────┴────────┴─────────────┘"
      ]
     },
     "execution_count": 48,
     "metadata": {},
     "output_type": "execute_result"
    }
   ],
   "source": [
    "df_opt.head(None)"
   ]
  },
  {
   "cell_type": "markdown",
   "metadata": {},
   "source": [
    "# 5. Black-Scholes"
   ]
  },
  {
   "cell_type": "code",
   "execution_count": 49,
   "metadata": {
    "vscode": {
     "languageId": "rust"
    }
   },
   "outputs": [],
   "source": [
    "#[derive(Clone, Copy)]\n",
    "enum OptionType {\n",
    "    Call,\n",
    "    Put,\n",
    "}\n",
    "\n",
    "fn black_scholes(option_type: OptionType, s0: f64, σ: f64, τ: f64, k: f64, r: f64) -> f64 {\n",
    "    let normal = Normal::new(0.0, 1.0).unwrap();\n",
    "\n",
    "    let d1 = (s0.ln() - k.ln() + (r + 0.5 * σ.powi(2)) * τ) / (σ * τ.sqrt());\n",
    "    let d2 = d1 - σ * τ.sqrt();\n",
    "\n",
    "    match option_type {\n",
    "        OptionType::Call => s0 * normal.cdf(d1) - k * E.powf(-r * τ) * normal.cdf(d2),\n",
    "        OptionType::Put => k * E.powf(-r * τ) * normal.cdf(-d2) - s0 * normal.cdf(-d1),\n",
    "    }\n",
    "}"
   ]
  },
  {
   "cell_type": "markdown",
   "metadata": {},
   "source": [
    "# 6. Bisection"
   ]
  },
  {
   "cell_type": "markdown",
   "metadata": {},
   "source": [
    "Bisection and secant are both implemented as methods on any function\n",
    "$$f: \\mathbb{R} \\Rightarrow \\mathbb{R}$$"
   ]
  },
  {
   "cell_type": "code",
   "execution_count": 50,
   "metadata": {
    "vscode": {
     "languageId": "rust"
    }
   },
   "outputs": [],
   "source": [
    "pub trait Rootable {\n",
    "    fn secant(&self, x0: f64, x1: f64, ε: f64, max_iter: usize) -> Option<f64>;\n",
    "    fn bisect(&self, a: f64, b: f64, ε: f64, max_iter: usize) -> Option<f64>;\n",
    "}\n",
    "impl<F> Rootable for F\n",
    "where\n",
    "    F: Fn(f64) -> f64,\n",
    "{\n",
    "    fn bisect(&self, mut a: f64, mut b: f64, ε: f64, max_iter: usize) -> Option<f64> {\n",
    "        if (self(a) * self(b)).is_sign_positive() {\n",
    "            eprintln!(\"f(a) and f(b) must have opposite signs\");\n",
    "            return None;\n",
    "        }\n",
    "\n",
    "        let mut mid;\n",
    "        for _ in 0..max_iter {\n",
    "            mid = (a + b) / 2.0;\n",
    "\n",
    "            if self(mid).abs() < ε {\n",
    "                return Some(mid);\n",
    "            }\n",
    "\n",
    "            if (self(mid) * self(a)).is_sign_negative() {\n",
    "                b = mid;\n",
    "            } else {\n",
    "                a = mid;\n",
    "            }\n",
    "        }\n",
    "        eprintln!(\"Maximum iterations reached without finding the root.\");\n",
    "        None\n",
    "    }\n",
    "\n",
    "    fn secant(&self, mut x0: f64, mut x1: f64, ε: f64, max_iter: usize) -> Option<f64> {\n",
    "        for _ in 0..max_iter {\n",
    "            let f0 = self(x0);\n",
    "            let f1 = self(x1);\n",
    "\n",
    "            if (f1 - f0).abs() < 1e-10 {\n",
    "                eprintln!(\"Denominator too small, Secant method failed.\");\n",
    "                return None;\n",
    "            }\n",
    "\n",
    "            let x_new = x1 - f1 * (x1 - x0) / (f1 - f0);\n",
    "\n",
    "            if (x_new - x1).abs() < ε {\n",
    "                return Some(x_new);\n",
    "            }\n",
    "\n",
    "            x0 = x1;\n",
    "            x1 = x_new;\n",
    "        }\n",
    "\n",
    "        eprintln!(\"Maximum iterations reached without finding the root.\");\n",
    "        None\n",
    "    }\n",
    "}"
   ]
  },
  {
   "cell_type": "markdown",
   "metadata": {},
   "source": [
    "Constants for tolerance and interest rate given."
   ]
  },
  {
   "cell_type": "code",
   "execution_count": 51,
   "metadata": {
    "vscode": {
     "languageId": "rust"
    }
   },
   "outputs": [],
   "source": [
    "const TOL: f64 = 1e-5;\n",
    "const R: f64 = 0.0433;"
   ]
  },
  {
   "cell_type": "markdown",
   "metadata": {},
   "source": [
    "Had some problems formatting dates"
   ]
  },
  {
   "cell_type": "code",
   "execution_count": 52,
   "metadata": {
    "vscode": {
     "languageId": "rust"
    }
   },
   "outputs": [],
   "source": [
    "use chrono::{NaiveDate, Duration};\n",
    "\n",
    "fn days_to_date(days: i32) -> NaiveDate {\n",
    "    let epoch = NaiveDate::from_ymd_opt(1970, 1, 1).unwrap();\n",
    "    epoch + Duration::days(days.into())\n",
    "}"
   ]
  },
  {
   "cell_type": "markdown",
   "metadata": {},
   "source": [
    "Giant kludge function for implied volatility calculation. If I had finished this, I would definitely have refactored it so I could reuse parts of it for the rest of the problems."
   ]
  },
  {
   "cell_type": "code",
   "execution_count": 53,
   "metadata": {
    "vscode": {
     "languageId": "rust"
    }
   },
   "outputs": [],
   "source": [
    "fn process_options(df: DataFrame, s0: f64, ticker: &str) -> PolarsResult<DataFrame> {\n",
    "    let df = df.lazy().filter(col(\"ticker\").eq(lit(ticker))).collect()?;\n",
    "    let expiration_dates = df.column(\"expirationDate\")?.date()?.unique()?;\n",
    "    let v: Vec<_> = expiration_dates\n",
    "        .into_iter()\n",
    "        .map(|expiration_date| -> PolarsResult<LazyFrame> {\n",
    "            let options_for_expiry = df\n",
    "                .clone()\n",
    "                .lazy()\n",
    "                .filter(col(\"expirationDate\").eq(lit(expiration_date.unwrap())))\n",
    "                .collect()?;\n",
    "            let atm_call_option = options_for_expiry\n",
    "                .clone()\n",
    "                .lazy()\n",
    "                .filter(\n",
    "                    col(\"inTheMoney\")\n",
    "                        .eq(lit(true))\n",
    "                        .and(col(\"optionType\").eq(lit(\"call\"))),\n",
    "                )\n",
    "                .sort([\"strike\"], Default::default())\n",
    "                .tail(1)\n",
    "                .collect()?;\n",
    "            let atm_put_option = options_for_expiry\n",
    "                .clone()\n",
    "                .lazy()\n",
    "                .filter(\n",
    "                    col(\"inTheMoney\")\n",
    "                        .eq(lit(true))\n",
    "                        .and(col(\"optionType\").eq(lit(\"put\"))),\n",
    "                )\n",
    "                .sort(\n",
    "                    [\"strike\"],\n",
    "                    SortMultipleOptions::default().with_order_descending(true),\n",
    "                )\n",
    "                .tail(1)\n",
    "                .collect()?;\n",
    "\n",
    "            let opt_calc = |opt_type: OptionType| -> PolarsResult<f64> {\n",
    "                let atm_option = match opt_type {\n",
    "                    OptionType::Call => atm_call_option.clone(),\n",
    "                    OptionType::Put => atm_put_option.clone(),\n",
    "                };\n",
    "                let k = atm_option.column(\"strike\")?.f64()?.get(0).unwrap();\n",
    "                let bid = atm_option.column(\"bid\")?.f64()?.get(0).unwrap();\n",
    "                let ask = atm_option.column(\"ask\")?.f64()?.get(0).unwrap();\n",
    "\n",
    "                let last_trade_date = atm_option.column(\"lastTradeDate\")?.date()?.get(0).unwrap();\n",
    "                let expiration_date = atm_option.column(\"expirationDate\")?.date()?.get(0).unwrap();\n",
    "\n",
    "                let market_price = (bid + ask) / 2.0;\n",
    "                let tau = (expiration_date - last_trade_date) as f64 / 252.0;\n",
    "                let implied_volatility = |sigma: f64| {\n",
    "                    let bs_price = black_scholes(opt_type, s0, sigma, tau, k, R);\n",
    "                    bs_price - market_price\n",
    "                };\n",
    "                let iv = implied_volatility.bisect(0.0001, 2.0, TOL, 100);\n",
    "\n",
    "                Ok(iv.unwrap())\n",
    "            };\n",
    "            let calc_call_iv = opt_calc(OptionType::Call)?;\n",
    "            let calc_put_iv = opt_calc(OptionType::Put)?;\n",
    "\n",
    "            // Get all options between in the money and out of the money, using 0.95 and 1.05 as the boundary.\n",
    "            // Moneyness is defined here by the ratio of S0 to the strike price.\n",
    "            let between_call_options = options_for_expiry\n",
    "                .clone()\n",
    "                .lazy()\n",
    "                .filter(\n",
    "                    lit(s0)\n",
    "                        .gt(lit(0.95) * col(\"strike\"))\n",
    "                        .and(lit(s0).lt(lit(1.05) * col(\"strike\")))\n",
    "                        .and(col(\"optionType\").eq(lit(\"call\"))),\n",
    "                )\n",
    "                .collect()?;\n",
    "            let between_put_options = options_for_expiry\n",
    "                .clone()\n",
    "                .lazy()\n",
    "                .filter(\n",
    "                    lit(s0)\n",
    "                        .gt(lit(0.95) * col(\"strike\"))\n",
    "                        .and(lit(s0).lt(lit(1.05) * col(\"strike\")))\n",
    "                        .and(col(\"optionType\").eq(lit(\"put\"))),\n",
    "                )\n",
    "                .collect()?;\n",
    "            // Average the implied volatilities of these options\n",
    "            let avg_call_iv = between_call_options\n",
    "                .column(\"impliedVolatility\")?\n",
    "                .f64()?\n",
    "                .mean()\n",
    "                .unwrap();\n",
    "            let avg_put_iv = between_put_options\n",
    "                .column(\"impliedVolatility\")?\n",
    "                .f64()?\n",
    "                .mean()\n",
    "                .unwrap();\n",
    "\n",
    "            Ok(df!(\n",
    "                \"expirationDate\" => [days_to_date(expiration_date.unwrap())],\n",
    "                \"ticker\" => [ticker],\n",
    "                \"callAvgIV\" => [avg_call_iv],\n",
    "                \"callCalcIV\" => [calc_call_iv],\n",
    "                \"putAvgIV\" => [avg_put_iv],\n",
    "                \"putCalcIV\" => [calc_put_iv]\n",
    "            )?\n",
    "            .lazy())\n",
    "        })\n",
    "        .filter_map(Result::ok)\n",
    "        .collect();\n",
    "    let full = concat(v, Default::default())?\n",
    "        //.with_column(col(\"expirationDate\").dt().date().alias(\"expirationDate\"))\n",
    "        ;\n",
    "    full.collect()\n",
    "}"
   ]
  },
  {
   "cell_type": "markdown",
   "metadata": {},
   "source": [
    "Get the latest prices for NVDA and SPY."
   ]
  },
  {
   "cell_type": "code",
   "execution_count": 54,
   "metadata": {
    "vscode": {
     "languageId": "rust"
    }
   },
   "outputs": [],
   "source": [
    "let data1 = df_hist\n",
    ".clone()\n",
    ".lazy()\n",
    ".filter(\n",
    "    col(\"Datetime\")\n",
    "        .str()\n",
    "        .to_date(StrptimeOptions {\n",
    "            format: Some(\"%Y-%m-%d %H:%M:%S%z\".into()),\n",
    "            strict: false,\n",
    "            exact: true,\n",
    "            ..Default::default()\n",
    "        })\n",
    "        .dt()\n",
    "        .date()\n",
    "        .eq(datetime(DatetimeArgs::new(lit(2025), lit(2), lit(13)))\n",
    "            .dt()\n",
    "            .date()),\n",
    ")\n",
    ".collect()?;\n",
    "let data2 = df_hist\n",
    ".lazy()\n",
    ".filter(\n",
    "    col(\"Datetime\")\n",
    "        .str()\n",
    "        .to_date(StrptimeOptions {\n",
    "            format: Some(\"%Y-%m-%d %H:%M:%S%z\".into()),\n",
    "            strict: false,\n",
    "            exact: true,\n",
    "            ..Default::default()\n",
    "        })\n",
    "        .dt()\n",
    "        .date()\n",
    "        .eq(datetime(DatetimeArgs::new(lit(2025), lit(2), lit(14)))\n",
    "            .dt()\n",
    "            .date()),\n",
    ")\n",
    ".collect()?;\n",
    "let data1_latest = data1.sort([\"Datetime\"], Default::default())?.tail(Some(1));\n",
    "let data2_latest = data2.sort([\"Datetime\"], Default::default())?.tail(Some(1));\n",
    "\n",
    "let s0_nvda = data2_latest.column(\"NVDA\")?.f64()?.get(0).unwrap();\n",
    "let s0_spy = data1_latest.column(\"SPY\")?.f64()?.get(0).unwrap();\n"
   ]
  },
  {
   "cell_type": "code",
   "execution_count": 55,
   "metadata": {
    "vscode": {
     "languageId": "rust"
    }
   },
   "outputs": [
    {
     "data": {
      "text/plain": [
       "shape: (3, 6)\n",
       "┌────────────────┬────────┬───────────┬────────────┬──────────┬───────────┐\n",
       "│ expirationDate ┆ ticker ┆ callAvgIV ┆ callCalcIV ┆ putAvgIV ┆ putCalcIV │\n",
       "│ ---            ┆ ---    ┆ ---       ┆ ---        ┆ ---      ┆ ---       │\n",
       "│ date           ┆ str    ┆ f64       ┆ f64        ┆ f64      ┆ f64       │\n",
       "╞════════════════╪════════╪═══════════╪════════════╪══════════╪═══════════╡\n",
       "│ 2025-02-21     ┆ NVDA   ┆ 0.513973  ┆ 0.31071    ┆ 0.513241 ┆ 0.326463  │\n",
       "│ 2025-03-21     ┆ NVDA   ┆ 0.61675   ┆ 0.470043   ┆ 0.58582  ┆ 0.484683  │\n",
       "│ 2025-04-17     ┆ NVDA   ┆ 0.552332  ┆ 0.420348   ┆ 0.520513 ┆ 0.443469  │\n",
       "└────────────────┴────────┴───────────┴────────────┴──────────┴───────────┘"
      ]
     },
     "execution_count": 55,
     "metadata": {},
     "output_type": "execute_result"
    }
   ],
   "source": [
    "process_options(df_opt, s0_nvda, \"NVDA\")?"
   ]
  },
  {
   "cell_type": "code",
   "execution_count": 58,
   "metadata": {
    "vscode": {
     "languageId": "rust"
    }
   },
   "outputs": [
    {
     "name": "stderr",
     "output_type": "stream",
     "text": [
      "f(a) and f(b) must have opposite signs\n",
      "thread '<unnamed>' panicked at src/lib.rs:60:23:\n",
      "called `Option::unwrap()` on a `None` value\n",
      "stack backtrace:\n",
      "   0: rust_begin_unwind\n",
      "             at /rustc/ed04567ba1d5956d1080fb8121caa005ce059e12/library/std/src/panicking.rs:665:5\n",
      "   1: core::panicking::panic_fmt\n",
      "             at /rustc/ed04567ba1d5956d1080fb8121caa005ce059e12/library/core/src/panicking.rs:74:14\n",
      "   2: core::panicking::panic\n",
      "             at /rustc/ed04567ba1d5956d1080fb8121caa005ce059e12/library/core/src/panicking.rs:148:5\n",
      "   3: core::option::unwrap_failed\n",
      "             at /rustc/ed04567ba1d5956d1080fb8121caa005ce059e12/library/core/src/option.rs:2004:5\n",
      "   4: ctx::process_options::{{closure}}::{{closure}}\n",
      "   5: <core::iter::adapters::map::Map<I,F> as core::iter::traits::iterator::Iterator>::try_fold\n",
      "   6: <alloc::vec::Vec<T> as alloc::vec::spec_from_iter::SpecFromIter<T,I>>::from_iter\n",
      "   7: run_user_code_48\n",
      "   8: <unknown>\n",
      "   9: <unknown>\n",
      "  10: <unknown>\n",
      "  11: <unknown>\n",
      "  12: <unknown>\n",
      "  13: <unknown>\n",
      "  14: <unknown>\n",
      "  15: <unknown>\n",
      "  16: __libc_start_main\n",
      "  17: <unknown>\n",
      "note: Some details are omitted, run with `RUST_BACKTRACE=full` for a verbose backtrace.\n"
     ]
    }
   ],
   "source": [
    "process_options(df_opt, s0_nvda, \"SPY\")?"
   ]
  }
 ],
 "metadata": {
  "kernelspec": {
   "display_name": "Rust",
   "language": "rust",
   "name": "rust"
  },
  "language_info": {
   "codemirror_mode": "rust",
   "file_extension": ".rs",
   "mimetype": "text/rust",
   "name": "Rust",
   "pygment_lexer": "rust",
   "version": ""
  }
 },
 "nbformat": 4,
 "nbformat_minor": 2
}
