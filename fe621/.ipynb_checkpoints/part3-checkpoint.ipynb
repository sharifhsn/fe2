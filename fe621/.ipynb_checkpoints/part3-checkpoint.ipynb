{
 "cells": [
  {
   "cell_type": "markdown",
   "metadata": {},
   "source": [
    "# Imports"
   ]
  },
  {
   "cell_type": "code",
   "execution_count": 5,
   "metadata": {
    "vscode": {
     "languageId": "rust"
    }
   },
   "outputs": [],
   "source": [
    ":dep rayon"
   ]
  },
  {
   "cell_type": "code",
   "execution_count": 6,
   "metadata": {
    "vscode": {
     "languageId": "rust"
    }
   },
   "outputs": [],
   "source": [
    "use rayon::prelude::*;\n",
    "use std::f64::consts::PI;"
   ]
  },
  {
   "cell_type": "markdown",
   "metadata": {},
   "source": [
    "# 1. Implementation of trapezoidal and Simpson's quadratic rules"
   ]
  },
  {
   "cell_type": "markdown",
   "metadata": {},
   "source": [
    "I have implemented both of these rules as methods on any function $$f: \\mathbb{R} \\Rightarrow \\mathbb{R}$$\n",
    "\n",
    "These operations are also parallelized using the `rayon` library. As long as the function is thread-safe (which the type system will ensure via the `Sync` and `Send` bounds), we can easily parallelize operations by using `into_par_iter`."
   ]
  },
  {
   "cell_type": "code",
   "execution_count": null,
   "metadata": {
    "vscode": {
     "languageId": "rust"
    }
   },
   "outputs": [],
   "source": [
    "trait Quadrature {\n",
    "    fn trapezoidal(&self, a: f64, n: usize) -> f64;\n",
    "    fn simpsons(&self, a: f64, n: usize) -> f64;\n",
    "}\n",
    "\n",
    "impl<F> Quadrature for F\n",
    "where\n",
    "    F: Fn(f64) -> f64 + Sync + Send,\n",
    "{\n",
    "    fn trapezoidal(&self, a: f64, n: usize) -> f64 {\n",
    "        let h = (2.0 * a) / (n as f64);\n",
    "\n",
    "        let sum: f64 = (1..n)\n",
    "            .into_par_iter()\n",
    "            .map(|i| {\n",
    "                self(-a + i as f64 * h)\n",
    "            })\n",
    "            .sum();\n",
    "\n",
    "        h * (0.5 * (self(-a) + self(a)) + sum)\n",
    "    }\n",
    "    fn simpsons(&self, a: f64, n: usize) -> f64 {\n",
    "        let h = (2.0 * a) / (n as f64);\n",
    "\n",
    "        let sum: f64 = (1..n)\n",
    "            .into_par_iter()\n",
    "            .map(|i| {\n",
    "                let x_h = -a + (i - 1) as f64 * h;\n",
    "                let x_i = -a + i as f64 * h;\n",
    "                let x_j = -a + (i + 1) as f64 * h;\n",
    "                self(x_h) + 4.0 * self((x_i + x_j) / 2.0) + self(x_j)\n",
    "            })\n",
    "            .sum();\n",
    "\n",
    "        (h / 6.0) * (self(-a) + self(a) + sum)\n",
    "    }\n",
    "}"
   ]
  },
  {
   "cell_type": "markdown",
   "metadata": {},
   "source": [
    "This is the function we are integrating, which is also known as the `sinc` function."
   ]
  },
  {
   "cell_type": "code",
   "execution_count": 22,
   "metadata": {
    "vscode": {
     "languageId": "rust"
    }
   },
   "outputs": [],
   "source": [
    "fn sinc(x: f64) -> f64 {\n",
    "    if x.abs() < 1e-10 {\n",
    "        1.0\n",
    "    } else {\n",
    "        x.sin() / x\n",
    "    }\n",
    "}"
   ]
  },
  {
   "cell_type": "code",
   "execution_count": 23,
   "metadata": {
    "vscode": {
     "languageId": "rust"
    }
   },
   "outputs": [
    {
     "name": "stdout",
     "output_type": "stream",
     "text": [
      "Trapezoidal Rule Approximation: 3.1415914506275415\n",
      "Simpson's Rule Approximation: 3.1415923088615667\n"
     ]
    }
   ],
   "source": [
    "let a = 1e6; // Large interval\n",
    "let n = 1_000_000; // Number of intervals (should be large)\n",
    "\n",
    "let integral_trap = sinc.trapezoidal(a, n);\n",
    "let integral_simp = sinc.simpsons(a, n);\n",
    "\n",
    "println!(\"Trapezoidal Rule Approximation: {}\", integral_trap);\n",
    "println!(\"Simpson's Rule Approximation: {}\", integral_simp);"
   ]
  },
  {
   "cell_type": "markdown",
   "metadata": {},
   "source": [
    "# 2. Truncation error"
   ]
  },
  {
   "cell_type": "code",
   "execution_count": 25,
   "metadata": {
    "vscode": {
     "languageId": "rust"
    }
   },
   "outputs": [],
   "source": [
    "fn compute_error(a: f64, n: usize) {\n",
    "    let integral_trap = sinc.trapezoidal(a, n);\n",
    "    let integral_simp = sinc.simpsons(a, n);\n",
    "\n",
    "    let error_trap = integral_trap - PI;\n",
    "    let error_simp = integral_simp - PI;\n",
    "\n",
    "    println!(\n",
    "        \"a = {:e}, N = {:e} | Trapezoidal Error: {:.5e}, Simpson's Error: {:.5e}\",\n",
    "        a, n as f64, error_trap, error_simp\n",
    "    );\n",
    "}"
   ]
  },
  {
   "cell_type": "code",
   "execution_count": null,
   "metadata": {
    "vscode": {
     "languageId": "rust"
    }
   },
   "outputs": [
    {
     "name": "stdout",
     "output_type": "stream",
     "text": [
      "a = 1e6, N = 1e6 | Trapezoidal Error: -1.20296e-6, Simpson's Error: -3.44728e-7\n",
      "a = 1e6, N = 1e7 | Trapezoidal Error: -1.86725e-6, Simpson's Error: -1.80266e-6\n",
      "a = 1e6, N = 1e8 | Trapezoidal Error: -1.87344e-6, Simpson's Error: -1.86859e-6\n",
      "a = 1e6, N = 1e9 | Trapezoidal Error: -1.87350e-6, Simpson's Error: -1.87303e-6\n",
      "a = 1e7, N = 1e6 | Trapezoidal Error: 1.88496e1, Simpson's Error: 2.09439e0\n",
      "a = 1e7, N = 1e7 | Trapezoidal Error: 1.16510e-7, Simpson's Error: 3.52128e-8\n",
      "a = 1e7, N = 1e8 | Trapezoidal Error: 1.80849e-7, Simpson's Error: 1.73522e-7\n",
      "a = 1e7, N = 1e9 | Trapezoidal Error: 1.81448e-7, Simpson's Error: 1.80869e-7\n",
      "a = 1e8, N = 1e6 | Trapezoidal Error: 1.94779e2, Simpson's Error: 6.07375e1\n",
      "a = 1e8, N = 1e7 | Trapezoidal Error: 1.88496e1, Simpson's Error: 2.09440e0\n",
      "a = 1e8, N = 1e8 | Trapezoidal Error: 4.66654e-9, Simpson's Error: 3.11766e-9\n",
      "a = 1e8, N = 1e9 | Trapezoidal Error: 7.24299e-9, Simpson's Error: 5.94708e-9\n",
      "a = 1e9, N = 1e6 | Trapezoidal Error: 1.99805e3, Simpson's Error: 6.66018e2\n",
      "a = 1e9, N = 1e7 | Trapezoidal Error: 1.94779e2, Simpson's Error: 6.07375e1\n",
      "a = 1e9, N = 1e8 | Trapezoidal Error: 1.88496e1, Simpson's Error: 2.09440e0\n",
      "a = 1e9, N = 1e9 | Trapezoidal Error: -1.07584e-9, Simpson's Error: -1.16280e-10\n"
     ]
    },
    {
     "data": {
      "text/plain": [
       "()"
      ]
     },
     "execution_count": 26,
     "metadata": {},
     "output_type": "execute_result"
    }
   ],
   "source": [
    "let a_values = (6..10).map(|i| 10.0_f64.powi(i)).collect::<Vec<f64>>(); // Different intervals\n",
    "let n_values = (6..10).map(|i| 10_usize.pow(i)).collect::<Vec<usize>>(); // Different sample sizes\n",
    "\n",
    "for &a in &a_values {\n",
    "    for &n in &n_values {\n",
    "        compute_error(a, n);\n",
    "    }\n",
    "}"
   ]
  },
  {
   "cell_type": "markdown",
   "metadata": {},
   "source": [
    "For the trapezoidal rule:\n",
    "\n",
    "When $N = a$, the truncation error is in the magnitude of $\\frac{1}{N}$.\n",
    "\n",
    "When $N < a$, the truncation error is in the magnitude of $\\frac{a}{N}$.\n",
    "\n",
    "When $N > a$, the truncation error remains in the magnitude $\\frac{1}{N}$ and grows very slowly.\n",
    "\n",
    "Simpson's rule is generally better than the trapezoidal rule, with an order of magnitude less error when $N < a$ and $N = a$. When $N > a$, Simpson's rule becomes very similar to the trapezoidal rule.\n",
    "\n",
    "This seems to indicate that the optimal values for these parameters when approximating is that $N = a$, and that Simpson's rule is more accurate than the trapezoidal rule."
   ]
  },
  {
   "cell_type": "markdown",
   "metadata": {},
   "source": [
    "# 3. Convergence"
   ]
  },
  {
   "cell_type": "code",
   "execution_count": 36,
   "metadata": {
    "vscode": {
     "languageId": "rust"
    }
   },
   "outputs": [],
   "source": [
    "fn convergence_steps(a: f64, epsilon: f64) {\n",
    "    let mut n = 10_000;\n",
    "    let mut prev_trap = sinc.trapezoidal(a, n);\n",
    "    let mut prev_simp = sinc.simpsons(a, n);\n",
    "    let mut iter_trap = 0;\n",
    "    let mut iter_simp = 0;\n",
    "\n",
    "    loop {\n",
    "        n += 10_000;\n",
    "        let current_trap = sinc.trapezoidal(a, n);\n",
    "\n",
    "        iter_trap += 1;\n",
    "\n",
    "        if (current_trap - prev_trap).abs() < epsilon {\n",
    "            println!(\n",
    "                \"Converged for a = {:e}, n = {:e} | Trapezoidal in {} iterations\",\n",
    "                a, n, iter_trap\n",
    "            );\n",
    "            break;\n",
    "        }\n",
    "\n",
    "        prev_trap = current_trap;\n",
    "    }\n",
    "    let mut n = 10_000;\n",
    "    loop {\n",
    "        n += 10_000;\n",
    "        let current_simp = sinc.simpsons(a, n);\n",
    "\n",
    "        iter_simp += 1;\n",
    "\n",
    "        if (current_simp - prev_simp).abs() < epsilon {\n",
    "            println!(\n",
    "                \"Converged for a = {:e}, n = {:e} | Simpson’s in {} iterations\",\n",
    "                a, n, iter_simp\n",
    "            );\n",
    "            break;\n",
    "        }\n",
    "\n",
    "        prev_simp = current_simp;\n",
    "    }\n",
    "}"
   ]
  },
  {
   "cell_type": "code",
   "execution_count": 37,
   "metadata": {
    "vscode": {
     "languageId": "rust"
    }
   },
   "outputs": [
    {
     "name": "stdout",
     "output_type": "stream",
     "text": [
      "Converged for a = 1e6, n = 1e5 | Trapezoidal in 9 iterations\n",
      "Converged for a = 1e6, n = 1e5 | Simpson’s in 9 iterations\n",
      "Converged for a = 1e7, n = 2.1e5 | Trapezoidal in 20 iterations\n",
      "Converged for a = 1e7, n = 2.1e5 | Simpson’s in 20 iterations\n",
      "Converged for a = 1e8, n = 6e5 | Trapezoidal in 59 iterations\n",
      "Converged for a = 1e8, n = 6e5 | Simpson’s in 59 iterations\n",
      "Converged for a = 1e9, n = 1.85e6 | Trapezoidal in 184 iterations\n",
      "Converged for a = 1e9, n = 1.85e6 | Simpson’s in 184 iterations\n"
     ]
    },
    {
     "data": {
      "text/plain": [
       "()"
      ]
     },
     "execution_count": 37,
     "metadata": {},
     "output_type": "execute_result"
    }
   ],
   "source": [
    "let epsilon = 1e-4;\n",
    "\n",
    "for &a in &a_values {\n",
    "    convergence_steps(a, epsilon);\n",
    "}"
   ]
  },
  {
   "cell_type": "markdown",
   "metadata": {},
   "source": [
    "In this context, the steps to convergence involve making the intervals smaller and smaller, i.e. making n larger and larger. I am increasing it by 10,000 at every step.\n",
    "\n",
    "s number of steps doubles between a = 1e6 and 1e7, and triples between 1e7 and 1e8, and 1e8 and 1e9. In general n increases slowly in order to converge.\n",
    "\n",
    "The number of steps for convergence is the same between the trapezoidal rule and Simpson's rule. "
   ]
  }
 ],
 "metadata": {
  "kernelspec": {
   "display_name": "Rust",
   "language": "rust",
   "name": "rust"
  },
  "language_info": {
   "codemirror_mode": "rust",
   "file_extension": ".rs",
   "mimetype": "text/rust",
   "name": "Rust",
   "pygment_lexer": "rust",
   "version": ""
  }
 },
 "nbformat": 4,
 "nbformat_minor": 2
}
