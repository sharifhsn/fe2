{
 "cells": [
  {
   "cell_type": "markdown",
   "metadata": {},
   "source": [
    "# Part 1. Data gathering component"
   ]
  },
  {
   "cell_type": "markdown",
   "metadata": {},
   "source": [
    "## Imports"
   ]
  },
  {
   "cell_type": "code",
   "execution_count": 14,
   "metadata": {},
   "outputs": [],
   "source": [
    "import datetime as dt\n",
    "import json\n",
    "from typing import List, Tuple\n",
    "\n",
    "import pandas as pd\n",
    "\n",
    "import yfinance as yf"
   ]
  },
  {
   "cell_type": "markdown",
   "metadata": {},
   "source": [
    "## 1. Connect to source"
   ]
  },
  {
   "cell_type": "markdown",
   "metadata": {},
   "source": [
    "I used the `yfinance` library to connect to Yahoo Finance. For bonus, this program is capable of downloading multiple assets, combining them with the associated time column, and saving the data into a csv or Excel file."
   ]
  },
  {
   "cell_type": "code",
   "execution_count": 23,
   "metadata": {},
   "outputs": [],
   "source": [
    "START_DATE = \"2025-02-13\"\n",
    "END_DATE = \"2025-02-15\"\n",
    "\n",
    "FIRST_OPTION_DATE = \"2025-02-21\"\n",
    "SECOND_OPTION_DATE = \"2025-03-21\"\n",
    "THIRD_OPTION_DATE = \"2025-04-18\""
   ]
  },
  {
   "cell_type": "code",
   "execution_count": 24,
   "metadata": {},
   "outputs": [],
   "source": [
    "def fetch_market_data(tickers: List[str], start_date: str, end_date: str, option_dates: List[str]) -> Tuple[pd.DataFrame, pd.DataFrame]:\n",
    "    \"\"\"\n",
    "    Fetches historical market data and options chain data for given tickers between specified dates.\n",
    "\n",
    "    Parameters:\n",
    "    tickers (List[str]): A list of ticker symbols.\n",
    "    start_date (str): The start date in 'YYYY-MM-DD' format.\n",
    "    end_date (str): The end date in 'YYYY-MM-DD' format.\n",
    "    option_dates (List[str]): A list of option expiration dates in 'YYYY-MM-DD' format.\n",
    "\n",
    "    Returns:\n",
    "    Tuple[pd.DataFrame, pd.DataFrame]: A tuple containing two DataFrames:\n",
    "        - Historical market data for all tickers with 1-minute intervals.\n",
    "        - Combined options chain data for the specified expiration dates for all tickers.\n",
    "    \"\"\"\n",
    "    # Fetch historical market data with 1-minute intervals\n",
    "    historical_data = yf.download(\n",
    "        tickers=tickers,\n",
    "        start=start_date,\n",
    "        end=end_date,\n",
    "        interval=\"1m\",\n",
    "        group_by=\"ticker\",\n",
    "        prepost=False,\n",
    "        auto_adjust=True,\n",
    "        threads=True\n",
    "    )\n",
    "    # Extract Close prices only\n",
    "    historical_data = historical_data.xs(\"Close\", axis=1, level=1)\n",
    "\n",
    "    # Drop any rows with missing values (i.e. outside trading hours)\n",
    "    historical_data = historical_data.dropna(how='any')\n",
    "\n",
    "    # Initialize a list to collect options data\n",
    "    options_data_list = []\n",
    "\n",
    "    # Fetch options chain data for each ticker and specified expiration dates\n",
    "    for ticker in tickers:\n",
    "        try:\n",
    "            stock = yf.Ticker(ticker)\n",
    "            # Get available expiration dates for the ticker\n",
    "            available_expirations = stock.options\n",
    "            # print(ticker)\n",
    "            # print(available_expirations)\n",
    "            # Filter the provided option_dates to include only those available for the ticker\n",
    "            # If the exact option date isn't available, use the closest available date\n",
    "            valid_expirations = []\n",
    "            for date in option_dates:\n",
    "                if date in available_expirations:\n",
    "                    valid_expirations.append(date)\n",
    "                else:\n",
    "                    closest_date = min(available_expirations, key=lambda x: abs(pd.to_datetime(x) - pd.to_datetime(date)))\n",
    "                    valid_expirations.append(closest_date)\n",
    "            for exp_date in valid_expirations:\n",
    "                opt = stock.option_chain(exp_date)\n",
    "                calls = opt.calls\n",
    "                puts = opt.puts\n",
    "                calls['optionType'] = 'call'\n",
    "                puts['optionType'] = 'put'\n",
    "                combined_options = pd.concat([calls, puts])\n",
    "                combined_options['expirationDate'] = exp_date\n",
    "                combined_options['ticker'] = ticker\n",
    "                options_data_list.append(combined_options)\n",
    "        except Exception as e:\n",
    "            print(f\"Could not retrieve options data for {ticker} on {exp_date}: {e}\")\n",
    "\n",
    "    # Combine all options data into a single DataFrame\n",
    "    if options_data_list:\n",
    "        options_data = pd.concat(options_data_list, ignore_index=True)\n",
    "    else:\n",
    "        options_data = pd.DataFrame()\n",
    "\n",
    "    historical_data.to_csv('historical_data.csv')\n",
    "    options_data.to_csv('options_data.csv')\n",
    "    return historical_data, options_data\n"
   ]
  },
  {
   "cell_type": "markdown",
   "metadata": {},
   "source": [
    "## 2. Download data on options and equity for symbols"
   ]
  },
  {
   "cell_type": "code",
   "execution_count": 25,
   "metadata": {},
   "outputs": [
    {
     "name": "stderr",
     "output_type": "stream",
     "text": [
      "[*********************100%***********************]  3 of 3 completed\n"
     ]
    }
   ],
   "source": [
    "df_hist, df_opt = fetch_market_data([\"NVDA\", \"SPY\", \"^VIX\"], START_DATE, END_DATE, [FIRST_OPTION_DATE, SECOND_OPTION_DATE, THIRD_OPTION_DATE])"
   ]
  },
  {
   "cell_type": "markdown",
   "metadata": {},
   "source": [
    "### Why are there so many maturities available?"
   ]
  },
  {
   "cell_type": "markdown",
   "metadata": {},
   "source": [
    "Contracts are issued by the market when there are buyers i.e. demand. So why would someone want to buy an option with a different maturity than the traditional third Friday of monthly options?\n",
    "\n",
    "Specifically, many of these options are weekly options, which are issued on Thursdays and expire the following Friday. In the final week of monthly options, their prices experience accelerated theta and are strongly influenced by short-term news, like earnings reports. Traders who would like to take advantage of these properties of options are served well by weekly options and other short-dated options.\n",
    "\n",
    "This only works when there's enough volume and open interest in the options to shrink the spread to the point where a trader can apply the same strategies they use with monthly options. NVDA, SPY, and ^VIX are all high volume tickers that are constantly influenced by short-term news, so they are good candidates for underlyings that have options with additional maturities."
   ]
  },
  {
   "cell_type": "markdown",
   "metadata": {},
   "source": [
    "## 3. Symbols explanation"
   ]
  },
  {
   "cell_type": "markdown",
   "metadata": {},
   "source": [
    "### NVDA"
   ]
  },
  {
   "cell_type": "markdown",
   "metadata": {},
   "source": [
    "NVDA is the symbol of NVIDIA, the technology company that designs high-performance GPUs among other products. It is traded on the NASDAQ exchange."
   ]
  },
  {
   "cell_type": "markdown",
   "metadata": {},
   "source": [
    "### SPY"
   ]
  },
  {
   "cell_type": "markdown",
   "metadata": {},
   "source": [
    "SPY is the exchange-traded fund (ETF) that tracks the performance of the S&P 500 index. This index represents the 500 largest publicly traded companies in the U.S. This index can be considered representative of market conditions. SPY, as an ETF, can be traded with high liquidity, allowing investors to dynamically adjust their positions in SPY in order to adjust their market exposure."
   ]
  },
  {
   "cell_type": "markdown",
   "metadata": {},
   "source": [
    "### ^VIX"
   ]
  },
  {
   "cell_type": "markdown",
   "metadata": {},
   "source": [
    "^VIX is the Chicago Board Options Exchange Volatility Index. It weights the implied volatility S&P 500 Index (SPX) options prices expiring between 23 and 37 days in the future on the CBOE to measure the 30-day implied volatility of the S&P 500. As a measure of volatility, it increases in times of investor uncertainty, leading to its moniker \"the fear gauge\". Although VIX is not itself tradeable, it can be traded on through ETFs like VXX and derivatives like options and futures."
   ]
  },
  {
   "cell_type": "markdown",
   "metadata": {},
   "source": [
    "### Options Information"
   ]
  },
  {
   "cell_type": "markdown",
   "metadata": {},
   "source": [
    "`NVDA250221C00028000`\n",
    "\n",
    "Here's an example option contract symbol. Let's break it down.\n",
    "- The first letters are the ticker of the underlying, i.e. `NVDA` for NVIDIA.\n",
    "- The next six numbers are the expiration of date of the option, in the format YYMMDD i.e. `250221` for Februray 21, 2025.\n",
    "- The next letter indicates whether the option is a call or a put by `C` or `P`.\n",
    "- The next eight numbers indicate the strike price. If interpreted as a number, you can divide it by 1000 to get the strike price, i.e. `00028000` → $28.\n",
    "\n"
   ]
  },
  {
   "cell_type": "markdown",
   "metadata": {},
   "source": [
    "## 4. Additional Records"
   ]
  },
  {
   "cell_type": "markdown",
   "metadata": {},
   "source": [
    "### Current asset values at time of download"
   ]
  },
  {
   "cell_type": "markdown",
   "metadata": {},
   "source": [
    "| Asset | Ticker | Price (USD) |\n",
    "|--------|--------|------------|\n",
    "| Nvidia | NVDA   | 138.86        |\n",
    "| S&P 500 ETF | SPY | 609.70   |\n",
    "| CBOE Volatility Index | ^VIX | 14.85 |\n",
    "\n",
    "*Data sourced from Yahoo Finance.*\n"
   ]
  },
  {
   "cell_type": "code",
   "execution_count": 27,
   "metadata": {},
   "outputs": [
    {
     "data": {
      "text/plain": [
       "(np.float64(138.86000061035156),\n",
       " np.float64(609.7000122070312),\n",
       " np.float64(14.850000381469727))"
      ]
     },
     "execution_count": 27,
     "metadata": {},
     "output_type": "execute_result"
    }
   ],
   "source": [
    "NVDA_CURR = df_hist['NVDA'].iloc[-1]\n",
    "SPY_CURR = df_hist['SPY'].iloc[-1]\n",
    "VIX_CURR = df_hist['^VIX'].iloc[-1]\n",
    "NVDA_CURR, SPY_CURR, VIX_CURR"
   ]
  },
  {
   "cell_type": "markdown",
   "metadata": {},
   "source": [
    "### Short-term interest rate"
   ]
  },
  {
   "cell_type": "markdown",
   "metadata": {},
   "source": [
    "[Federal funds (effective)](https://www.federalreserve.gov/releases/h15/): 4.33% = 0.0433"
   ]
  },
  {
   "cell_type": "code",
   "execution_count": 28,
   "metadata": {},
   "outputs": [],
   "source": [
    "FED_FUNDS_RATE = 0.0433"
   ]
  },
  {
   "cell_type": "markdown",
   "metadata": {},
   "source": [
    "### Time to maturity"
   ]
  },
  {
   "cell_type": "markdown",
   "metadata": {},
   "source": [
    "The current time is 12:00 PM on February 14, 2025."
   ]
  },
  {
   "cell_type": "code",
   "execution_count": 29,
   "metadata": {},
   "outputs": [],
   "source": [
    "CURR_TIME = dt.datetime.strptime(\"2025-02-14 12:00:00\", \"%Y-%m-%d %H:%M:%S\")"
   ]
  }
 ],
 "metadata": {
  "kernelspec": {
   "display_name": "Python 3 (ipykernel)",
   "language": "python",
   "name": "python3"
  },
  "language_info": {
   "codemirror_mode": {
    "name": "ipython",
    "version": 3
   },
   "file_extension": ".py",
   "mimetype": "text/x-python",
   "name": "python",
   "nbconvert_exporter": "python",
   "pygments_lexer": "ipython3",
   "version": "3.13.1"
  }
 },
 "nbformat": 4,
 "nbformat_minor": 2
}
