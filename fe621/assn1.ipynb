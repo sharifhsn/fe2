{
 "cells": [
  {
   "cell_type": "markdown",
   "metadata": {},
   "source": [
    "# Part 1. Data gathering"
   ]
  },
  {
   "cell_type": "code",
   "execution_count": 7,
   "metadata": {
    "vscode": {
     "languageId": "rust"
    }
   },
   "outputs": [],
   "source": [
    ":dep tokio = { version = \"1\", features = [\"full\"] }\n",
    ":dep yahoo_finance_api\n",
    ":dep time"
   ]
  },
  {
   "cell_type": "code",
   "execution_count": 11,
   "metadata": {
    "vscode": {
     "languageId": "rust"
    }
   },
   "outputs": [],
   "source": [
    "use yahoo_finance_api as yf;\n",
    "use std::time::{Duration, UNIX_EPOCH};\n",
    "use time::OffsetDateTime;\n",
    "\n",
    "#[tokio::main]\n",
    "async fn main() -> Result<(), Box<dyn std::error::Error>> {\n",
    "    // Create a Yahoo Finance data provider\n",
    "    let provider = yf::YahooConnector::new().unwrap();\n",
    "\n",
    "    // Fetch the latest available quotes for TSLA with a 1-day interval\n",
    "    let response = provider.get_latest_quotes(\"TSLA\", \"1d\").await?;\n",
    "\n",
    "    // Extract the last quote from the response\n",
    "    if let Ok(quote) = response.last_quote() {\n",
    "        // Convert the timestamp to a human-readable format\n",
    "        let time = OffsetDateTime::from(UNIX_EPOCH + Duration::from_secs(quote.timestamp));\n",
    "        println!(\"At {}, the closing price of TSLA was ${}\", time, quote.close);\n",
    "    } else {\n",
    "        println!(\"No quote available for TSLA.\");\n",
    "    }\n",
    "\n",
    "    Ok(())\n",
    "}\n"
   ]
  },
  {
   "cell_type": "code",
   "execution_count": null,
   "metadata": {
    "vscode": {
     "languageId": "rust"
    }
   },
   "outputs": [],
   "source": [
    ":dep polars = { version = \"0.46\", features = [\"full\"] }\n",
    ":dep plotly"
   ]
  },
  {
   "cell_type": "code",
   "execution_count": 3,
   "metadata": {
    "vscode": {
     "languageId": "rust"
    }
   },
   "outputs": [],
   "source": [
    "use polars::prelude::*;"
   ]
  },
  {
   "cell_type": "code",
   "execution_count": null,
   "metadata": {
    "vscode": {
     "languageId": "rust"
    }
   },
   "outputs": [],
   "source": []
  }
 ],
 "metadata": {
  "kernelspec": {
   "display_name": "Rust",
   "language": "rust",
   "name": "rust"
  },
  "language_info": {
   "codemirror_mode": "rust",
   "file_extension": ".rs",
   "mimetype": "text/rust",
   "name": "Rust",
   "pygment_lexer": "rust",
   "version": ""
  }
 },
 "nbformat": 4,
 "nbformat_minor": 2
}
