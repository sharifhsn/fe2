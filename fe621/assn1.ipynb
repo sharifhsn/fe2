{
 "cells": [
  {
   "cell_type": "markdown",
   "metadata": {},
   "source": [
    "# Part 1. Data gathering"
   ]
  },
  {
   "cell_type": "code",
   "execution_count": 21,
   "metadata": {
    "vscode": {
     "languageId": "rust"
    }
   },
   "outputs": [
    {
     "ename": "Error",
     "evalue": "`Result<YResponse, YahooError>` is not a future",
     "output_type": "error",
     "traceback": [
      "\u001b[31m[E0277] Error:\u001b[0m `Result<YResponse, YahooError>` is not a future"
     ]
    }
   ],
   "source": [
    ":dep yahoo_finance_api = { version = \"3\", features = [\"blocking\"] }\n",
    ":dep time"
   ]
  },
  {
   "cell_type": "code",
   "execution_count": 5,
   "metadata": {
    "vscode": {
     "languageId": "rust"
    }
   },
   "outputs": [],
   "source": [
    "use yahoo_finance_api as yf;\n",
    "use std::time::{Duration, UNIX_EPOCH};\n",
    "use time::OffsetDateTime;"
   ]
  },
  {
   "cell_type": "code",
   "execution_count": 13,
   "metadata": {
    "vscode": {
     "languageId": "rust"
    }
   },
   "outputs": [],
   "source": [
    "// Create a Yahoo Finance data provider\n",
    "let provider = yf::YahooConnector::new().unwrap();"
   ]
  },
  {
   "cell_type": "code",
   "execution_count": null,
   "metadata": {
    "vscode": {
     "languageId": "rust"
    }
   },
   "outputs": [
    {
     "name": "stderr",
     "output_type": "stream",
     "text": [
      "thread '<unnamed>' panicked at C:\\Users\\shaason\\.cargo\\registry\\src\\index.crates.io-6f17d22bba15001f\\hyper-util-0.1.10\\src\\client\\legacy\\connect\\dns.rs:122:24:\n",
      "there is no reactor running, must be called from the context of a Tokio 1.x runtime\n",
      "stack backtrace:\n",
      "   0: std::panicking::begin_panic_handler\n",
      "             at /rustc/e71f9a9a98b0faf423844bf0ba7438f29dc27d58\\library/std\\src\\panicking.rs:665\n",
      "   1: core::panicking::panic_fmt\n",
      "             at /rustc/e71f9a9a98b0faf423844bf0ba7438f29dc27d58\\library/core\\src\\panicking.rs:76\n",
      "   2: <unknown>\n",
      "   3: <unknown>\n",
      "   4: <unknown>\n",
      "   5: <unknown>\n",
      "   6: <unknown>\n",
      "   7: <unknown>\n",
      "   8: <unknown>\n",
      "   9: <unknown>\n",
      "  10: <unknown>\n",
      "  11: <unknown>\n",
      "  12: <unknown>\n",
      "  13: <unknown>\n",
      "  14: <unknown>\n",
      "  15: <unknown>\n",
      "  16: <unknown>\n",
      "  17: <unknown>\n",
      "  18: <unknown>\n",
      "  19: <unknown>\n",
      "  20: <unknown>\n",
      "  21: <unknown>\n",
      "  22: <unknown>\n",
      "  23: <unknown>\n",
      "  24: <unknown>\n",
      "  25: <unknown>\n",
      "  26: <unknown>\n",
      "  27: <unknown>\n",
      "  28: <unknown>\n",
      "  29: BaseThreadInitThunk\n",
      "  30: RtlUserThreadStart\n",
      "note: Some details are omitted, run with `RUST_BACKTRACE=full` for a verbose backtrace.\n"
     ]
    }
   ],
   "source": [
    "//let mut stream : tokio::net::TcpStream = tokio::net::TcpStream::connect(\"127.0.0.1:99999\").await?;\n",
    "let response = provider.get_latest_quotes(\"TSLA\", \"1d\");\n",
    "let quote = response.last_quote().unwrap();\n",
    "format!(\"JFOWIEJFOEIJ{}\", quote.close)"
   ]
  },
  {
   "cell_type": "code",
   "execution_count": null,
   "metadata": {
    "vscode": {
     "languageId": "rust"
    }
   },
   "outputs": [
    {
     "name": "stderr",
     "output_type": "stream",
     "text": [
      "thread '<unnamed>' panicked at C:\\Users\\shaason\\.cargo\\registry\\src\\index.crates.io-6f17d22bba15001f\\hyper-util-0.1.10\\src\\client\\legacy\\connect\\dns.rs:122:24:\n",
      "there is no reactor running, must be called from the context of a Tokio 1.x runtime\n",
      "stack backtrace:\n",
      "   0: std::panicking::begin_panic_handler\n",
      "             at /rustc/e71f9a9a98b0faf423844bf0ba7438f29dc27d58\\library/std\\src\\panicking.rs:665\n",
      "   1: core::panicking::panic_fmt\n",
      "             at /rustc/e71f9a9a98b0faf423844bf0ba7438f29dc27d58\\library/core\\src\\panicking.rs:76\n",
      "   2: run_user_code_3\n",
      "   3: run_user_code_3\n",
      "   4: run_user_code_3\n",
      "   5: run_user_code_3\n",
      "   6: run_user_code_3\n",
      "   7: <unknown>\n",
      "   8: <unknown>\n",
      "   9: <unknown>\n",
      "  10: <unknown>\n",
      "  11: <unknown>\n",
      "  12: <unknown>\n",
      "  13: <unknown>\n",
      "  14: <unknown>\n",
      "  15: <unknown>\n",
      "  16: <unknown>\n",
      "  17: <unknown>\n",
      "  18: <unknown>\n",
      "  19: <unknown>\n",
      "  20: <unknown>\n",
      "  21: <unknown>\n",
      "  22: <unknown>\n",
      "  23: <unknown>\n",
      "  24: <unknown>\n",
      "  25: <unknown>\n",
      "  26: <unknown>\n",
      "  27: <unknown>\n",
      "  28: BaseThreadInitThunk\n",
      "  29: RtlUserThreadStart\n",
      "note: Some details are omitted, run with `RUST_BACKTRACE=full` for a verbose backtrace.\n"
     ]
    }
   ],
   "source": [
    "// Fetch the latest available quotes for TSLA with a 1-day interval\n",
    "let response = provider.get_latest_quotes(\"TSLA\", \"1d\");\n",
    "\n",
    "// Extract the last quote from the response\n",
    "if let Ok(quote) = response.last_quote() {\n",
    "    // Convert the timestamp to a human-readable format\n",
    "    let time = OffsetDateTime::from(UNIX_EPOCH + Duration::from_secs(quote.timestamp));\n",
    "    format!(\"At {}, the closing price of TSLA was ${}\", time, quote.close)\n",
    "} else {\n",
    "    format!(\"No quote available for TSLA.\")\n",
    "}\n"
   ]
  },
  {
   "cell_type": "code",
   "execution_count": null,
   "metadata": {
    "vscode": {
     "languageId": "rust"
    }
   },
   "outputs": [],
   "source": [
    ":dep polars = { version = \"0.46\", features = [\"full\"] }\n",
    ":dep plotly"
   ]
  },
  {
   "cell_type": "code",
   "execution_count": 3,
   "metadata": {
    "vscode": {
     "languageId": "rust"
    }
   },
   "outputs": [],
   "source": [
    "use polars::prelude::*;"
   ]
  },
  {
   "cell_type": "code",
   "execution_count": null,
   "metadata": {
    "vscode": {
     "languageId": "rust"
    }
   },
   "outputs": [],
   "source": []
  }
 ],
 "metadata": {
  "kernelspec": {
   "display_name": "Rust",
   "language": "rust",
   "name": "rust"
  },
  "language_info": {
   "codemirror_mode": "rust",
   "file_extension": ".rs",
   "mimetype": "text/rust",
   "name": "Rust",
   "pygment_lexer": "rust",
   "version": ""
  }
 },
 "nbformat": 4,
 "nbformat_minor": 2
}
