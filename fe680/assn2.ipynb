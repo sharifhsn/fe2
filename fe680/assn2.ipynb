{
  "cells": [
    {
      "cell_type": "markdown",
      "metadata": {},
      "source": [
        "# Environment"
      ]
    },
    {
      "cell_type": "markdown",
      "metadata": {},
      "source": [
        "## Imports"
      ]
    },
    {
      "cell_type": "code",
      "execution_count": 2,
      "metadata": {},
      "outputs": [
        {
          "data": {
            "text/plain": [
              "\"/home/sharif/.config/evcxr/init.evcxr\""
            ]
          },
          "execution_count": 2,
          "metadata": {},
          "output_type": "execute_result"
        }
      ],
      "source": [
        ":dep dirs\n",
        "dirs::config_dir().unwrap().join(\"evcxr\").join(\"init.evcxr\")"
      ]
    },
    {
      "cell_type": "code",
      "execution_count": 3,
      "metadata": {},
      "outputs": [],
      "source": [
        ":dep itertools\n",
        ":dep polars = { version = \"0.46\", features = [ \"lazy\", \"list_arithmetic\", \"round_series\", \"log\", \"range\"] }\n",
        ":dep statrs"
      ]
    },
    {
      "cell_type": "code",
      "execution_count": 4,
      "metadata": {},
      "outputs": [],
      "source": [
        "use polars::prelude::*;\n",
        "use itertools::izip;\n",
        "use std::f64::consts::E;"
      ]
    },
    {
      "cell_type": "markdown",
      "metadata": {},
      "source": [
        "## Utilities"
      ]
    },
    {
      "cell_type": "markdown",
      "metadata": {},
      "source": [
        "Polars does not natively provide the ability to get the normal cdf, so we have to use an alternative library and use arbitrary mapping in order to use the function conveniently."
      ]
    },
    {
      "cell_type": "code",
      "execution_count": 5,
      "metadata": {},
      "outputs": [],
      "source": [
        "use statrs::distribution::ContinuousCDF;\n",
        "\n",
        "pub fn N(e: Expr) -> Expr {\n",
        "    e.map(\n",
        "        |s| {\n",
        "            Ok(Some(Column::new(\n",
        "                \"\".into(),\n",
        "                s.f64()\n",
        "                    .unwrap()\n",
        "                    .into_iter()\n",
        "                    .map(|ca| {\n",
        "                        ca.map(|f| {\n",
        "                            statrs::distribution::Normal::standard()\n",
        "                                .cdf(f)\n",
        "                        })\n",
        "                    })\n",
        "                    .collect::<Vec<_>>(),\n",
        "            )))\n",
        "        },\n",
        "        GetOutput::from_type(DataType::Float64),\n",
        "    )\n",
        "}"
      ]
    },
    {
      "cell_type": "markdown",
      "metadata": {},
      "source": [
        "# Problem 1"
      ]
    },
    {
      "cell_type": "markdown",
      "metadata": {},
      "source": [
        "Initialize data. I used the example in the slides as well in order to verify calculations."
      ]
    },
    {
      "cell_type": "code",
      "execution_count": 13,
      "metadata": {},
      "outputs": [
        {
          "data": {
            "text/latex": [
              "\\begin{tabularx}{\\textwidth}{|*10{p{\\dimexpr\\textwidth/10-2\\tabcolsep\\relax}|}}\n",
              "\\hlinename & T & B\\_0 & K & sigma & r\\_m & payment frequency & coupon payment & time to next payment & option type \\\\\n",
              "\\hline\n",
              "example & 0.8333 & 960.0000 & 1000.0000 & 0.0900 & 0.1000 & 0.5000 & 50.0000 & 0.2500 & call \\\\\n",
              "\\hline\n",
              "problem 1 & 0.5000 & 904.0000 & 900.0000 & 0.0500 & 0.0250 & 0.5000 & 10.0000 & 0.2500 & put \\\\\n",
              "\\hline\n",
              "\\end{tabularx}"
            ],
            "text/plain": [
              "()"
            ]
          },
          "execution_count": 13,
          "metadata": {},
          "output_type": "execute_result"
        }
      ],
      "source": [
        "let mut df = df!(\n",
        "    \"name\" => [\"example\", \"problem 1\"],\n",
        "    \"T\" => [10.0/12.0, 0.5],\n",
        "    \"B_0\" => [960.0, 904.0],\n",
        "    \"K\" => [1000.0, 900.0],\n",
        "    \"sigma\" => [0.09, 0.05],\n",
        "    \"r_m\" => [0.10, 0.025],\n",
        "    \"payment frequency\" => [0.5, 0.5],\n",
        "    \"coupon payment\" => [50.0, 10.0],\n",
        "    \"time to next payment\" => [0.25, 0.25],\n",
        "    \"option type\" => [\"call\", \"put\"]\n",
        ")?;\n",
        "LaTeXDataFrame(df).evcxr_display()"
      ]
    },
    {
      "cell_type": "markdown",
      "metadata": {},
      "source": [
        "Add the interest rate curve separately, as the `df!` macro does not support lists."
      ]
    },
    {
      "cell_type": "code",
      "execution_count": 130,
      "metadata": {},
      "outputs": [
        {
          "data": {
            "text/plain": [
              "shape: (2, 11)\n",
              "┌───────────┬──────────┬───────┬────────┬───┬─────────┬────────────────┬───────────────┬───────────┐\n",
              "│ name      ┆ T        ┆ B_0   ┆ K      ┆ … ┆ coupon  ┆ time to next   ┆ option type   ┆ r curve   │\n",
              "│ ---       ┆ ---      ┆ ---   ┆ ---    ┆   ┆ payment ┆ payment        ┆ ---           ┆ ---       │\n",
              "│ str       ┆ f64      ┆ f64   ┆ f64    ┆   ┆ ---     ┆ ---            ┆ str           ┆ list[f64] │\n",
              "│           ┆          ┆       ┆        ┆   ┆ f64     ┆ f64            ┆               ┆           │\n",
              "╞═══════════╪══════════╪═══════╪════════╪═══╪═════════╪════════════════╪═══════════════╪═══════════╡\n",
              "│ example   ┆ 0.833333 ┆ 960.0 ┆ 1000.0 ┆ … ┆ 50.0    ┆ 0.25           ┆ call          ┆ [0.09,    │\n",
              "│           ┆          ┆       ┆        ┆   ┆         ┆                ┆               ┆ 0.095]    │\n",
              "│ problem 1 ┆ 0.5      ┆ 904.0 ┆ 900.0  ┆ … ┆ 10.0    ┆ 0.25           ┆ put           ┆ [0.025]   │\n",
              "└───────────┴──────────┴───────┴────────┴───┴─────────┴────────────────┴───────────────┴───────────┘"
            ]
          },
          "execution_count": 130,
          "metadata": {},
          "output_type": "execute_result"
        }
      ],
      "source": [
        "df.with_column(Column::new(\n",
        "    \"r curve\".into(),\n",
        "    &[\n",
        "        Series::new(\n",
        "            \"\".into(),\n",
        "            &[0.09, 0.095],\n",
        "        ),\n",
        "        Series::new(\"\".into(), &[0.025]),\n",
        "    ],\n",
        "))?;\n",
        "\n",
        "df"
      ]
    },
    {
      "cell_type": "markdown",
      "metadata": {},
      "source": [
        "Declare expressions for each column."
      ]
    },
    {
      "cell_type": "code",
      "execution_count": 131,
      "metadata": {},
      "outputs": [],
      "source": [
        "let name = col(\"name\");\n",
        "\n",
        "let T = col(\"T\");\n",
        "\n",
        "let B_0 = col(\"B_0\");\n",
        "\n",
        "let K = col(\"K\");\n",
        "\n",
        "let sigma = col(\"sigma\");\n",
        "\n",
        "let r_m = col(\"r_m\");\n",
        "\n",
        "let payment_frequency =\n",
        "    col(\"payment frequency\");\n",
        "\n",
        "let coupon_payment = col(\"coupon payment\");\n",
        "\n",
        "let time_to_next_payment =\n",
        "    col(\"time to next payment\");\n",
        "\n",
        "let option_type = col(\"option type\");\n",
        "\n",
        "let r_curve = col(\"r curve\");"
      ]
    },
    {
      "cell_type": "markdown",
      "metadata": {},
      "source": [
        "We will need the time of last payment to get the range of coupon payments."
      ]
    },
    {
      "cell_type": "code",
      "execution_count": 132,
      "metadata": {},
      "outputs": [
        {
          "data": {
            "text/plain": [
              "shape: (2, 2)\n",
              "┌───────────┬──────────────────────┐\n",
              "│ name      ┆ time of last payment │\n",
              "│ ---       ┆ ---                  │\n",
              "│ str       ┆ f64                  │\n",
              "╞═══════════╪══════════════════════╡\n",
              "│ example   ┆ 0.75                 │\n",
              "│ problem 1 ┆ 0.25                 │\n",
              "└───────────┴──────────────────────┘"
            ]
          },
          "execution_count": 132,
          "metadata": {},
          "output_type": "execute_result"
        }
      ],
      "source": [
        "let time_of_last_payment =\n",
        "    (time_to_next_payment.clone()\n",
        "        + (((T.clone()\n",
        "            - time_to_next_payment\n",
        "                .clone())\n",
        "            / payment_frequency.clone())\n",
        "        .floor()\n",
        "        .cast(DataType::Float64)\n",
        "            * payment_frequency.clone()))\n",
        "    .alias(\"time of last payment\");\n",
        "\n",
        "df.clone()\n",
        "    .lazy()\n",
        "    .select([\n",
        "        name.clone(),\n",
        "        time_of_last_payment.clone(),\n",
        "    ])\n",
        "    .collect()?"
      ]
    },
    {
      "cell_type": "markdown",
      "metadata": {},
      "source": [
        "We will precompute the \"dirty\" strike price $K$ here as well."
      ]
    },
    {
      "cell_type": "code",
      "execution_count": 133,
      "metadata": {},
      "outputs": [
        {
          "data": {
            "text/plain": [
              "shape: (2, 2)\n",
              "┌───────────┬─────────────┐\n",
              "│ name      ┆ dirty K     │\n",
              "│ ---       ┆ ---         │\n",
              "│ str       ┆ f64         │\n",
              "╞═══════════╪═════════════╡\n",
              "│ example   ┆ 1008.333333 │\n",
              "│ problem 1 ┆ 905.0       │\n",
              "└───────────┴─────────────┘"
            ]
          },
          "execution_count": 133,
          "metadata": {},
          "output_type": "execute_result"
        }
      ],
      "source": [
        "let dirty_K = (K.clone()\n",
        "    + (coupon_payment.clone()\n",
        "        / payment_frequency.clone())\n",
        "        * (T.clone()\n",
        "            - time_of_last_payment.clone()))\n",
        ".alias(\"dirty K\");\n",
        "\n",
        "df.clone()\n",
        "    .lazy()\n",
        "    .select([name.clone(), dirty_K.clone()])\n",
        "    .collect()?"
      ]
    },
    {
      "cell_type": "markdown",
      "metadata": {},
      "source": [
        "Calculate sum of coupon payments $I$."
      ]
    },
    {
      "cell_type": "code",
      "execution_count": 134,
      "metadata": {},
      "outputs": [
        {
          "data": {
            "text/plain": [
              "shape: (2, 2)\n",
              "┌───────────┬───────────┐\n",
              "│ name      ┆ I         │\n",
              "│ ---       ┆ ---       │\n",
              "│ str       ┆ f64       │\n",
              "╞═══════════╪═══════════╡\n",
              "│ example   ┆ 95.449015 │\n",
              "│ problem 1 ┆ 9.937695  │\n",
              "└───────────┴───────────┘"
            ]
          },
          "execution_count": 134,
          "metadata": {},
          "output_type": "execute_result"
        }
      ],
      "source": [
        "let I = map_multiple(\n",
        "    move |cols| match cols {\n",
        "        [b, c, d, e, f] => {\n",
        "            let (b, c, d, e, f) = (b.clone(), c.clone(), d.clone(), e.clone(), f.clone());\n",
        "            \n",
        "            let time_to_next_payment = b.f64()?;\n",
        "            let time_to_maturity = c.f64()?;\n",
        "            let coupon_payment = d.f64()?;\n",
        "            let payment_frequency = e.f64()?;\n",
        "            let r_curve = f.list()?;\n",
        "\n",
        "            let res: Float64Chunked = izip!(\n",
        "                time_to_next_payment,\n",
        "                time_to_maturity,\n",
        "                coupon_payment,\n",
        "                payment_frequency,\n",
        "                r_curve\n",
        "            )\n",
        "\n",
        "            .map(|(t1, tm, c, dt, r)| match (t1, tm, c, dt, r) {\n",
        "                (Some(t1), Some(tm), Some(c), Some(dt), Some(r)) => {\n",
        "                    let r_vec: Vec<f64> = r.f64().unwrap().to_vec_null_aware().left().unwrap();\n",
        "                    let num_payments = ((tm - t1) / dt).ceil() as usize;\n",
        "                    Some(\n",
        "                        (0..num_payments)\n",
        "                            .map(|i| {\n",
        "                                let t = t1 + (i as f64) * dt;\n",
        "                                (-r_vec[i % r_vec.len()] * t).exp() * c\n",
        "                            })\n",
        "                            .sum::<f64>(),\n",
        "                    )\n",
        "                }\n",
        "                _ => None,\n",
        "\n",
        "            })\n",
        "            .collect();\n",
        "            Ok(Some(res.into_column()))\n",
        "        }\n",
        "        _ => Err(PolarsError::ComputeError(\n",
        "            \"Expected exactly 5 columns\".into(),\n",
        "        )),\n",
        "    },\n",
        "\n",
        "    &[\n",
        "        time_to_next_payment.clone(),\n",
        "        T.clone(),\n",
        "        coupon_payment.clone(),\n",
        "        payment_frequency.clone(),\n",
        "        r_curve.clone(),\n",
        "    ],\n",
        "    GetOutput::from_type(DataType::Float64),\n",
        ")\n",
        ".alias(\"I\");\n",
        "\n",
        "df.clone()\n",
        "    .lazy()\n",
        "    .select([name.clone(), I.clone()])\n",
        "    .collect()?"
      ]
    },
    {
      "cell_type": "markdown",
      "metadata": {},
      "source": [
        "The discount rate function $P(0, T)$."
      ]
    },
    {
      "cell_type": "code",
      "execution_count": 135,
      "metadata": {},
      "outputs": [
        {
          "data": {
            "text/plain": [
              "shape: (2, 2)\n",
              "┌───────────┬──────────┐\n",
              "│ name      ┆ P        │\n",
              "│ ---       ┆ ---      │\n",
              "│ str       ┆ f64      │\n",
              "╞═══════════╪══════════╡\n",
              "│ example   ┆ 0.920044 │\n",
              "│ problem 1 ┆ 0.987578 │\n",
              "└───────────┴──────────┘"
            ]
          },
          "execution_count": 135,
          "metadata": {},
          "output_type": "execute_result"
        }
      ],
      "source": [
        "let P = ((-r_m.clone() * T.clone()).exp())\n",
        "    .alias(\"P\");\n",
        "\n",
        "df.clone()\n",
        "    .lazy()\n",
        "    .select([name.clone(), P.clone()])\n",
        "    .collect()?"
      ]
    },
    {
      "cell_type": "markdown",
      "metadata": {},
      "source": [
        "The forward bond price $F_B$."
      ]
    },
    {
      "cell_type": "code",
      "execution_count": 136,
      "metadata": {},
      "outputs": [
        {
          "data": {
            "text/plain": [
              "shape: (2, 2)\n",
              "┌───────────┬────────────┐\n",
              "│ name      ┆ F_B        │\n",
              "│ ---       ┆ ---        │\n",
              "│ str       ┆ f64        │\n",
              "╞═══════════╪════════════╡\n",
              "│ example   ┆ 939.683967 │\n",
              "│ problem 1 ┆ 905.308224 │\n",
              "└───────────┴────────────┘"
            ]
          },
          "execution_count": 136,
          "metadata": {},
          "output_type": "execute_result"
        }
      ],
      "source": [
        "let F_B = ((B_0.clone() - I.clone())\n",
        "    / P.clone())\n",
        ".alias(\"F_B\");\n",
        "\n",
        "df.clone()\n",
        "    .lazy()\n",
        "    .select([name.clone(), F_B.clone()])\n",
        "    .collect()?"
      ]
    },
    {
      "cell_type": "markdown",
      "metadata": {},
      "source": [
        "We'll need $d_1$ and $d_2$ for our Black-Scholes calculation."
      ]
    },
    {
      "cell_type": "code",
      "execution_count": 137,
      "metadata": {},
      "outputs": [
        {
          "data": {
            "text/plain": [
              "shape: (2, 3)\n",
              "┌───────────┬───────────┬───────────┐\n",
              "│ name      ┆ d_1       ┆ d_2       │\n",
              "│ ---       ┆ ---       ┆ ---       │\n",
              "│ str       ┆ f64       ┆ f64       │\n",
              "╞═══════════╪═══════════╪═══════════╡\n",
              "│ example   ┆ -0.716137 ┆ -0.798295 │\n",
              "│ problem 1 ┆ 0.184009  ┆ 0.148654  │\n",
              "└───────────┴───────────┴───────────┘"
            ]
          },
          "execution_count": 137,
          "metadata": {},
          "output_type": "execute_result"
        }
      ],
      "source": [
        "let d_1 = (((F_B.clone() / K.clone()\n",
        "    - lit(1.0))\n",
        ".log1p()\n",
        "    + sigma.clone().pow(2) * T.clone()\n",
        "        / lit(2.0))\n",
        "    / (sigma.clone() * T.clone().sqrt()))\n",
        ".alias(\"d_1\");\n",
        "\n",
        "let d_2 = (d_1.clone()\n",
        "    - sigma.clone() * T.clone().sqrt())\n",
        ".alias(\"d_2\");\n",
        "\n",
        "df.clone()\n",
        "    .lazy()\n",
        "    .select([\n",
        "        name.clone(),\n",
        "        d_1.clone(),\n",
        "        d_2.clone(),\n",
        "    ])\n",
        "    .collect()?"
      ]
    },
    {
      "cell_type": "markdown",
      "metadata": {},
      "source": [
        "These are the Black-Scholes formulas for call and put options $c$ and $p$."
      ]
    },
    {
      "cell_type": "code",
      "execution_count": 138,
      "metadata": {},
      "outputs": [
        {
          "data": {
            "text/plain": [
              "shape: (2, 3)\n",
              "┌───────────┬───────────┬───────────┐\n",
              "│ name      ┆ c         ┆ p         │\n",
              "│ ---       ┆ ---       ┆ ---       │\n",
              "│ str       ┆ f64       ┆ f64       │\n",
              "╞═══════════╪═══════════╪═══════════╡\n",
              "│ example   ┆ 9.487262  ┆ 64.980691 │\n",
              "│ problem 1 ┆ 15.367536 ┆ 10.125251 │\n",
              "└───────────┴───────────┴───────────┘"
            ]
          },
          "execution_count": 138,
          "metadata": {},
          "output_type": "execute_result"
        }
      ],
      "source": [
        "let c = (P.clone()\n",
        "    * (F_B.clone() * N(d_1.clone())\n",
        "        - K.clone() * N(d_2.clone())))\n",
        ".alias(\"c\");\n",
        "\n",
        "let p = (P.clone()\n",
        "    * (K.clone() * N(-d_2.clone())\n",
        "        - F_B.clone() * N(-d_1.clone())))\n",
        ".alias(\"p\");\n",
        "\n",
        "df.clone()\n",
        "    .lazy()\n",
        "    .select([\n",
        "        name.clone(),\n",
        "        c.clone(),\n",
        "        p.clone(),\n",
        "    ])\n",
        "    .collect()?"
      ]
    },
    {
      "cell_type": "markdown",
      "metadata": {},
      "source": [
        "This is a single expression that will give the correct option price based on the direction of the option. **This is the answer to Problem 1**."
      ]
    },
    {
      "cell_type": "code",
      "execution_count": 139,
      "metadata": {},
      "outputs": [
        {
          "data": {
            "text/plain": [
              "shape: (2, 2)\n",
              "┌───────────┬────────────────────┐\n",
              "│ name      ┆ clean option price │\n",
              "│ ---       ┆ ---                │\n",
              "│ str       ┆ f64                │\n",
              "╞═══════════╪════════════════════╡\n",
              "│ example   ┆ 9.487262           │\n",
              "│ problem 1 ┆ 10.125251          │\n",
              "└───────────┴────────────────────┘"
            ]
          },
          "execution_count": 139,
          "metadata": {},
          "output_type": "execute_result"
        }
      ],
      "source": [
        "let option_price = (when(\n",
        "    option_type.clone().eq(lit(\"call\")),\n",
        ")\n",
        ".then(c.clone())\n",
        ".otherwise(p.clone()))\n",
        ".alias(\"clean option price\");\n",
        "\n",
        "df.clone()\n",
        "    .lazy()\n",
        "    .select([\n",
        "        name.clone(),\n",
        "        option_price.clone(),\n",
        "    ])\n",
        "    .collect()?"
      ]
    },
    {
      "cell_type": "markdown",
      "metadata": {},
      "source": [
        "We will now use the dirty $K$ computed earlier in order to get the option price assuming that the strike price is dirty. **This is the other answer to Problem 1**."
      ]
    },
    {
      "cell_type": "code",
      "execution_count": 140,
      "metadata": {},
      "outputs": [
        {
          "data": {
            "text/plain": [
              "shape: (2, 2)\n",
              "┌───────────┬────────────────────┐\n",
              "│ name      ┆ dirty option price │\n",
              "│ ---       ┆ ---                │\n",
              "│ str       ┆ f64                │\n",
              "╞═══════════╪════════════════════╡\n",
              "│ example   ┆ 7.968597           │\n",
              "│ problem 1 ┆ 12.4561            │\n",
              "└───────────┴────────────────────┘"
            ]
          },
          "execution_count": 140,
          "metadata": {},
          "output_type": "execute_result"
        }
      ],
      "source": [
        "let dirty_d_1 = ((F_B.clone()\n",
        "    / dirty_K.clone()\n",
        "    - lit(1.0))\n",
        ".log1p()\n",
        "    + sigma.clone().pow(2) * T.clone()\n",
        "        / lit(2.0))\n",
        "    / (sigma.clone() * T.clone().sqrt());\n",
        "\n",
        "let dirty_d_2 = dirty_d_1.clone()\n",
        "    - sigma.clone() * T.clone().sqrt();\n",
        "\n",
        "let dirty_c = P.clone()\n",
        "    * (F_B.clone() * N(dirty_d_1.clone())\n",
        "        - dirty_K.clone()\n",
        "            * N(dirty_d_2.clone()));\n",
        "\n",
        "let dirty_p = P.clone()\n",
        "    * (dirty_K.clone()\n",
        "        * N(-dirty_d_2.clone())\n",
        "        - F_B.clone()\n",
        "            * N(-dirty_d_1.clone()));\n",
        "\n",
        "let dirty_option_price = (when(\n",
        "    option_type.clone().eq(lit(\"call\")),\n",
        ")\n",
        ".then(dirty_c.clone())\n",
        ".otherwise(dirty_p.clone()))\n",
        ".alias(\"dirty option price\");\n",
        "\n",
        "df.clone()\n",
        "    .lazy()\n",
        "    .select([\n",
        "        name.clone(),\n",
        "        dirty_option_price.clone(),\n",
        "    ])\n",
        "    .collect()?"
      ]
    },
    {
      "cell_type": "markdown",
      "metadata": {},
      "source": [
        "# Problem 2"
      ]
    },
    {
      "cell_type": "markdown",
      "metadata": {},
      "source": [
        "Initialize data."
      ]
    },
    {
      "cell_type": "code",
      "execution_count": 141,
      "metadata": {},
      "outputs": [],
      "source": [
        "let df = df!(\n",
        "    \"name\" => [\"example\", \"problem 2\"],\n",
        "    // assumes that yield curve is flat with continuous compounding\n",
        "    \"yield curve\" => [0.06, 0.0405],\n",
        "    \"L\" => [100_000_000.0, 5_000_000.0],\n",
        "    \"n\" => [3.0, 5.0],\n",
        "    \"sigma\" => [0.20, 0.15],\n",
        "    \"m\" => [0.5, 1.0],\n",
        "    \"T\" => [5.0, 2.0],\n",
        "    \"s_k\" => [0.062, 0.0415],\n",
        "    \"yield curve compounding\" => [\"continuous\", \"annual\"],\n",
        ")?;"
      ]
    },
    {
      "cell_type": "markdown",
      "metadata": {},
      "source": [
        "Declare expressions for each column."
      ]
    },
    {
      "cell_type": "code",
      "execution_count": 142,
      "metadata": {},
      "outputs": [],
      "source": [
        "let name = col(\"name\");\n",
        "\n",
        "let yield_curve = col(\"yield curve\");\n",
        "\n",
        "let L = col(\"L\");\n",
        "\n",
        "let n = col(\"n\");\n",
        "\n",
        "let sigma = col(\"sigma\");\n",
        "\n",
        "let m = col(\"m\");\n",
        "\n",
        "let T = col(\"T\");\n",
        "\n",
        "let s_k = col(\"s_k\");\n",
        "\n",
        "let yield_curve_compounding =\n",
        "    col(\"yield curve compounding\");"
      ]
    },
    {
      "cell_type": "markdown",
      "metadata": {},
      "source": [
        "In the case where the yield curve is continuous, the value for $s_0$ is discounted, as in the example. Problem 2 is annual compounding, so it ignores this discount factor."
      ]
    },
    {
      "cell_type": "code",
      "execution_count": 143,
      "metadata": {},
      "outputs": [
        {
          "data": {
            "text/plain": [
              "shape: (2, 2)\n",
              "┌───────────┬──────────┐\n",
              "│ name      ┆ s_0      │\n",
              "│ ---       ┆ ---      │\n",
              "│ str       ┆ f64      │\n",
              "╞═══════════╪══════════╡\n",
              "│ example   ┆ 0.060909 │\n",
              "│ problem 2 ┆ 0.0405   │\n",
              "└───────────┴──────────┘"
            ]
          },
          "execution_count": 143,
          "metadata": {},
          "output_type": "execute_result"
        }
      ],
      "source": [
        "let s_0 = (when(\n",
        "    yield_curve_compounding\n",
        "        .clone()\n",
        "        .eq(lit(\"continuous\")),\n",
        ")\n",
        ".then(\n",
        "    ((yield_curve.clone() * m.clone()).exp()\n",
        "        - lit(1.0))\n",
        "        / m.clone(),\n",
        ")\n",
        ".otherwise(yield_curve.clone()))\n",
        ".alias(\"s_0\");\n",
        "\n",
        "df.clone()\n",
        "    .lazy()\n",
        "    .select([name.clone(), s_0.clone()])\n",
        "    .collect()?"
      ]
    },
    {
      "cell_type": "markdown",
      "metadata": {},
      "source": [
        "The sum of payoffs $A$ is given thusly. The discount rate is appropriately changed based on whether the yield curve is continuous."
      ]
    },
    {
      "cell_type": "code",
      "execution_count": 144,
      "metadata": {},
      "outputs": [
        {
          "data": {
            "text/plain": [
              "shape: (2, 2)\n",
              "┌───────────┬──────────┐\n",
              "│ name      ┆ A        │\n",
              "│ ---       ┆ ---      │\n",
              "│ str       ┆ f64      │\n",
              "╞═══════════╪══════════╡\n",
              "│ example   ┆ 2.003558 │\n",
              "│ problem 2 ┆ 4.106236 │\n",
              "└───────────┴──────────┘"
            ]
          },
          "execution_count": 144,
          "metadata": {},
          "output_type": "execute_result"
        }
      ],
      "source": [
        "let A = map_multiple(\n",
        "    move |cols| match cols {\n",
        "        [b, c, d, e, f] => {\n",
        "            let (b, c, d, e, f) = (\n",
        "                b.clone(),\n",
        "                c.clone(),\n",
        "                d.clone(),\n",
        "                e.clone(),\n",
        "                f.clone(),\n",
        "            );\n",
        "\n",
        "            let T = b.f64()?;\n",
        "            let n = c.f64()?;\n",
        "            let m =\n",
        "                d.f64()?;\n",
        "            let yield_curve = e.f64()?;\n",
        "            let yield_curve_compounding = f.str()?;\n",
        "\n",
        "            let res: Float64Chunked = izip!(\n",
        "                T,\n",
        "                n,\n",
        "                m,\n",
        "                yield_curve,\n",
        "                yield_curve_compounding,\n",
        "            )\n",
        "            .map(|(T, n, m, r, s)| {\n",
        "                match (T, n, m, r, s) {\n",
        "                    (\n",
        "                        Some(T),\n",
        "                        Some(n),\n",
        "                        Some(m),\n",
        "                        Some(r),\n",
        "                        Some(s)\n",
        "                    ) => {\n",
        "                        let num_payments =\n",
        "                            (n / m).floor() as usize;\n",
        "                        Some(m *\n",
        "                            (1..=num_payments)\n",
        "                                .map(|i| {\n",
        "                                    let t = T + m * (i as f64);\n",
        "                                    if s == \"continuous\" {\n",
        "                                        (-r * t)\n",
        "                                        .exp()\n",
        "                                    } else {\n",
        "                                        1.0 / (1.0 + r).powf(t)\n",
        "                                    }\n",
        "                                })\n",
        "                                .sum::<f64>(),\n",
        "                        )\n",
        "                    }\n",
        "                    _ => None,\n",
        "                }\n",
        "            })\n",
        "            .collect();\n",
        "\n",
        "            Ok(Some(res.into_column()))\n",
        "        }\n",
        "        _ => Err(PolarsError::ComputeError(\n",
        "            \"Expected exactly 5 columns\"\n",
        "                .into(),\n",
        "        )),\n",
        "    },\n",
        "    &[\n",
        "        T.clone(),\n",
        "        n.clone(),\n",
        "        m.clone(),\n",
        "        yield_curve.clone(),\n",
        "        yield_curve_compounding.clone(),\n",
        "    ],\n",
        "    GetOutput::from_type(DataType::Float64),\n",
        ")\n",
        ".alias(\"A\");\n",
        "\n",
        "df.clone()\n",
        "    .lazy()\n",
        "    .select([name.clone(), A.clone()])\n",
        "    .collect()?"
      ]
    },
    {
      "cell_type": "markdown",
      "metadata": {},
      "source": [
        "The same values for Black-Scholes as before, just with different columns in the context of a swaption."
      ]
    },
    {
      "cell_type": "code",
      "execution_count": 145,
      "metadata": {},
      "outputs": [
        {
          "data": {
            "text/plain": [
              "shape: (2, 3)\n",
              "┌───────────┬───────────┬───────────┐\n",
              "│ name      ┆ d_1       ┆ d_2       │\n",
              "│ ---       ┆ ---       ┆ ---       │\n",
              "│ str       ┆ f64       ┆ f64       │\n",
              "╞═══════════╪═══════════╪═══════════╡\n",
              "│ example   ┆ 0.183911  ┆ -0.263302 │\n",
              "│ problem 2 ┆ -0.008916 ┆ -0.221048 │\n",
              "└───────────┴───────────┴───────────┘"
            ]
          },
          "execution_count": 145,
          "metadata": {},
          "output_type": "execute_result"
        }
      ],
      "source": [
        "let d_1 = (((s_0.clone() / s_k.clone()\n",
        "    - lit(1.0))\n",
        ".log1p()\n",
        "    + sigma.clone().pow(2) * T.clone()\n",
        "        / lit(2.0))\n",
        "    / (sigma.clone() * T.clone().sqrt()))\n",
        ".alias(\"d_1\");\n",
        "\n",
        "let d_2 = (d_1.clone()\n",
        "    - sigma.clone() * T.clone().sqrt())\n",
        ".alias(\"d_2\");\n",
        "\n",
        "df.clone()\n",
        "    .lazy()\n",
        "    .select([\n",
        "        name.clone(),\n",
        "        d_1.clone(),\n",
        "        d_2.clone(),\n",
        "    ])\n",
        "    .collect()?"
      ]
    },
    {
      "cell_type": "markdown",
      "metadata": {},
      "source": [
        "This is the swaption price. **This is the answer to Problem 2**."
      ]
    },
    {
      "cell_type": "code",
      "execution_count": 146,
      "metadata": {},
      "outputs": [
        {
          "data": {
            "text/plain": [
              "shape: (2, 2)\n",
              "┌───────────┬────────────────┐\n",
              "│ name      ┆ swaption price │\n",
              "│ ---       ┆ ---            │\n",
              "│ str       ┆ f64            │\n",
              "╞═══════════╪════════════════╡\n",
              "│ example   ┆ 2.0710e6       │\n",
              "│ problem 2 ┆ 61307.182857   │\n",
              "└───────────┴────────────────┘"
            ]
          },
          "execution_count": 146,
          "metadata": {},
          "output_type": "execute_result"
        }
      ],
      "source": [
        "let swaption_price = (L.clone()\n",
        "    * A.clone()\n",
        "    * (s_0.clone() * N(d_1.clone())\n",
        "        - s_k.clone() * N(d_2.clone())))\n",
        ".alias(\"swaption price\");\n",
        "\n",
        "df.clone()\n",
        "    .lazy()\n",
        "    .select([\n",
        "        name.clone(),\n",
        "        swaption_price.clone(),\n",
        "    ])\n",
        "    .collect()?"
      ]
    },
    {
      "cell_type": "markdown",
      "metadata": {},
      "source": [
        "# Problem 3"
      ]
    },
    {
      "cell_type": "markdown",
      "metadata": {},
      "source": [
        "Initialize data."
      ]
    },
    {
      "cell_type": "code",
      "execution_count": 147,
      "metadata": {},
      "outputs": [],
      "source": [
        "let df = df!(\n",
        "    \"start of collar\" => [0.0],\n",
        "    \"collar length\" => [5.0],\n",
        "    // assumed flat\n",
        "    \"r\" => [0.035],\n",
        "    \"m\" => [E],\n",
        "    // assumes constant tenor\n",
        "    \"tenor\" => [0.25],\n",
        "    \"R_F\" => [0.031],\n",
        "    \"R_C\" => [0.038],\n",
        "    \"L\" => [5_000_000.0],\n",
        "    \"sigma\" => [0.12],\n",
        ")?;"
      ]
    },
    {
      "cell_type": "markdown",
      "metadata": {},
      "source": [
        "Declare expressions for each column."
      ]
    },
    {
      "cell_type": "code",
      "execution_count": 148,
      "metadata": {},
      "outputs": [],
      "source": [
        "let start_of_collar = col(\"start of collar\");\n",
        "\n",
        "let collar_length = col(\"collar length\");\n",
        "\n",
        "let r = col(\"r\");\n",
        "\n",
        "let m = col(\"m\");\n",
        "\n",
        "let tenor = col(\"tenor\");\n",
        "\n",
        "let R_F = col(\"R_F\");\n",
        "\n",
        "let R_C = col(\"R_C\");\n",
        "\n",
        "let L = col(\"L\");\n",
        "\n",
        "let sigma = col(\"sigma\");"
      ]
    },
    {
      "cell_type": "markdown",
      "metadata": {},
      "source": [
        "The reset times $T_i$."
      ]
    },
    {
      "cell_type": "code",
      "execution_count": 149,
      "metadata": {},
      "outputs": [
        {
          "data": {
            "text/plain": [
              "shape: (20, 1)\n",
              "┌──────┐\n",
              "│ T    │\n",
              "│ ---  │\n",
              "│ f64  │\n",
              "╞══════╡\n",
              "│ 0.25 │\n",
              "│ 0.5  │\n",
              "│ 0.75 │\n",
              "│ 1.0  │\n",
              "│ 1.25 │\n",
              "│ …    │\n",
              "│ 4.0  │\n",
              "│ 4.25 │\n",
              "│ 4.5  │\n",
              "│ 4.75 │\n",
              "│ 5.0  │\n",
              "└──────┘"
            ]
          },
          "execution_count": 149,
          "metadata": {},
          "output_type": "execute_result"
        }
      ],
      "source": [
        "let T = linear_space(\n",
        "    start_of_collar.clone(),\n",
        "    start_of_collar.clone()\n",
        "        + collar_length.clone(),\n",
        "    collar_length.clone() / tenor.clone(),\n",
        "    ClosedInterval::Right,\n",
        ")\n",
        ".alias(\"T\");\n",
        "\n",
        "df.clone()\n",
        "    .lazy()\n",
        "    .select([T.clone()])\n",
        "    .collect()?"
      ]
    },
    {
      "cell_type": "markdown",
      "metadata": {},
      "source": [
        "And the payments time one tenor later, $T_{i+1}$"
      ]
    },
    {
      "cell_type": "code",
      "execution_count": 150,
      "metadata": {},
      "outputs": [
        {
          "data": {
            "text/plain": [
              "shape: (20, 1)\n",
              "┌──────┐\n",
              "│ T1   │\n",
              "│ ---  │\n",
              "│ f64  │\n",
              "╞══════╡\n",
              "│ 0.5  │\n",
              "│ 0.75 │\n",
              "│ 1.0  │\n",
              "│ 1.25 │\n",
              "│ 1.5  │\n",
              "│ …    │\n",
              "│ 4.25 │\n",
              "│ 4.5  │\n",
              "│ 4.75 │\n",
              "│ 5.0  │\n",
              "│ 5.25 │\n",
              "└──────┘"
            ]
          },
          "execution_count": 150,
          "metadata": {},
          "output_type": "execute_result"
        }
      ],
      "source": [
        "let T1 =\n",
        "    (T.clone() + tenor.clone()).alias(\"T1\");\n",
        "\n",
        "df.clone()\n",
        "    .lazy()\n",
        "    .select([T1.clone()])\n",
        "    .collect()?"
      ]
    },
    {
      "cell_type": "markdown",
      "metadata": {},
      "source": [
        "A dynamically adjusted $P(0, t)$ based on the compounding frequency."
      ]
    },
    {
      "cell_type": "code",
      "execution_count": 151,
      "metadata": {},
      "outputs": [
        {
          "data": {
            "text/plain": [
              "shape: (20, 1)\n",
              "┌──────────┐\n",
              "│ P        │\n",
              "│ ---      │\n",
              "│ f64      │\n",
              "╞══════════╡\n",
              "│ 0.982652 │\n",
              "│ 0.974092 │\n",
              "│ 0.965605 │\n",
              "│ 0.957193 │\n",
              "│ 0.948854 │\n",
              "│ …        │\n",
              "│ 0.861785 │\n",
              "│ 0.854277 │\n",
              "│ 0.846834 │\n",
              "│ 0.839457 │\n",
              "│ 0.832144 │\n",
              "└──────────┘"
            ]
          },
          "execution_count": 151,
          "metadata": {},
          "output_type": "execute_result"
        }
      ],
      "source": [
        "let P = (when(m.clone().eq(E))\n",
        "    .then(\n",
        "        // use continuous compounding\n",
        "        (-r.clone() * T1.clone()).exp(),\n",
        "    )\n",
        "    .otherwise(\n",
        "        // else discrete compounding\n",
        "        lit(1.0)\n",
        "            / (lit(1.0)\n",
        "                + r.clone() * m.clone())\n",
        "            .pow(T1.clone() / m.clone()),\n",
        "    ))\n",
        ".alias(\"P\");\n",
        "\n",
        "df.clone()\n",
        "    .lazy()\n",
        "    .select([P.clone()])\n",
        "    .collect()?"
      ]
    },
    {
      "cell_type": "markdown",
      "metadata": {},
      "source": [
        "The forward $F$."
      ]
    },
    {
      "cell_type": "code",
      "execution_count": 152,
      "metadata": {},
      "outputs": [
        {
          "data": {
            "text/plain": [
              "shape: (1, 1)\n",
              "┌──────────┐\n",
              "│ r        │\n",
              "│ ---      │\n",
              "│ f64      │\n",
              "╞══════════╡\n",
              "│ 0.035154 │\n",
              "└──────────┘"
            ]
          },
          "execution_count": 152,
          "metadata": {},
          "output_type": "execute_result"
        }
      ],
      "source": [
        "let F = ((r.clone() * tenor.clone()).exp()\n",
        "    - lit(1.0))\n",
        "    / tenor.clone();\n",
        "\n",
        "df.clone()\n",
        "    .lazy()\n",
        "    .select([F.clone()])\n",
        "    .collect()?"
      ]
    },
    {
      "cell_type": "markdown",
      "metadata": {},
      "source": [
        "Calculating the cap as portfolio of put options."
      ]
    },
    {
      "cell_type": "code",
      "execution_count": 153,
      "metadata": {},
      "outputs": [
        {
          "data": {
            "text/plain": [
              "shape: (20, 1)\n",
              "┌─────────────┐\n",
              "│ cap         │\n",
              "│ ---         │\n",
              "│ f64         │\n",
              "╞═════════════╡\n",
              "│ 123.207149  │\n",
              "│ 366.972376  │\n",
              "│ 601.697944  │\n",
              "│ 816.114641  │\n",
              "│ 1011.527468 │\n",
              "│ …           │\n",
              "│ 2425.655753 │\n",
              "│ 2512.998653 │\n",
              "│ 2595.774989 │\n",
              "│ 2674.2916   │\n",
              "│ 2748.822292 │\n",
              "└─────────────┘"
            ]
          },
          "execution_count": 153,
          "metadata": {},
          "output_type": "execute_result"
        }
      ],
      "source": [
        "let d_1_C = ((F.clone() / R_C.clone()\n",
        "    - lit(1.0))\n",
        ".log1p()\n",
        "    + sigma.clone().pow(2) * T.clone()\n",
        "        / lit(2.0))\n",
        "    / (sigma.clone() * T.clone().sqrt());\n",
        "\n",
        "let d_2_C = d_1_C.clone()\n",
        "    - sigma.clone() * T.clone().sqrt();\n",
        "\n",
        "let cap = (P.clone()\n",
        "    * tenor.clone()\n",
        "    * L.clone()\n",
        "    * (F.clone() * N(d_1_C.clone())\n",
        "        - R_C.clone() * N(d_2_C.clone())))\n",
        ".alias(\"cap\");\n",
        "\n",
        "df.clone()\n",
        "    .lazy()\n",
        "    .select([cap.clone()])\n",
        "    .collect()?"
      ]
    },
    {
      "cell_type": "markdown",
      "metadata": {},
      "source": [
        "And the floor with a similar method."
      ]
    },
    {
      "cell_type": "code",
      "execution_count": 154,
      "metadata": {},
      "outputs": [
        {
          "data": {
            "text/plain": [
              "shape: (20, 1)\n",
              "┌─────────────┐\n",
              "│ P           │\n",
              "│ ---         │\n",
              "│ f64         │\n",
              "╞═════════════╡\n",
              "│ 15.921184   │\n",
              "│ 104.098043  │\n",
              "│ 227.413657  │\n",
              "│ 359.804346  │\n",
              "│ 491.866816  │\n",
              "│ …           │\n",
              "│ 1619.972645 │\n",
              "│ 1696.113706 │\n",
              "│ 1768.83483  │\n",
              "│ 1838.319023 │\n",
              "│ 1904.735197 │\n",
              "└─────────────┘"
            ]
          },
          "execution_count": 154,
          "metadata": {},
          "output_type": "execute_result"
        }
      ],
      "source": [
        "let d_1_F = ((F.clone() / R_F.clone()\n",
        "    - lit(1.0))\n",
        ".log1p()\n",
        "    + sigma.clone().pow(2) * T.clone()\n",
        "        / lit(2.0))\n",
        "    / (sigma.clone() * T.clone().sqrt());\n",
        "\n",
        "let d_2_F = d_1_F.clone()\n",
        "    - sigma.clone() * T.clone().sqrt();\n",
        "\n",
        "let floor = P.clone()\n",
        "    * tenor.clone()\n",
        "    * L.clone()\n",
        "    * (R_F.clone() * N(-d_2_F.clone())\n",
        "        - F.clone() * N(-d_1_F.clone()));\n",
        "\n",
        "df.clone()\n",
        "    .lazy()\n",
        "    .select([floor.clone()])\n",
        "    .collect()?"
      ]
    },
    {
      "cell_type": "markdown",
      "metadata": {},
      "source": [
        "The collar is defined by the long cap and the short floor. **This is the answer to Problem 3**."
      ]
    },
    {
      "cell_type": "code",
      "execution_count": 155,
      "metadata": {},
      "outputs": [
        {
          "data": {
            "text/plain": [
              "shape: (1, 1)\n",
              "┌─────────────────┐\n",
              "│ Value of collar │\n",
              "│ ---             │\n",
              "│ f64             │\n",
              "╞═════════════════╡\n",
              "│ 12868.804054    │\n",
              "└─────────────────┘"
            ]
          },
          "execution_count": 155,
          "metadata": {},
          "output_type": "execute_result"
        }
      ],
      "source": [
        "let V = (cap.clone() - floor.clone())\n",
        "    .sum()\n",
        "    .alias(\"Value of collar\");\n",
        "\n",
        "df.clone()\n",
        "    .lazy()\n",
        "    .select([V.clone()])\n",
        "    .collect()?"
      ]
    },
    {
      "cell_type": "markdown",
      "metadata": {},
      "source": [
        "# Problem 4"
      ]
    },
    {
      "cell_type": "markdown",
      "metadata": {},
      "source": [
        "Initialize data."
      ]
    },
    {
      "cell_type": "code",
      "execution_count": 156,
      "metadata": {},
      "outputs": [
        {
          "data": {
            "text/plain": [
              "shape: (7, 8)\n",
              "┌─────┬─────┬─────┬───────┬─────────┬─────────┬─────┬─────┐\n",
              "│ T   ┆ T*  ┆ L   ┆ R_F   ┆ sigma_R ┆ sigma_V ┆ rho ┆ m   │\n",
              "│ --- ┆ --- ┆ --- ┆ ---   ┆ ---     ┆ ---     ┆ --- ┆ --- │\n",
              "│ f64 ┆ f64 ┆ f64 ┆ f64   ┆ f64     ┆ f64     ┆ f64 ┆ f64 │\n",
              "╞═════╪═════╪═════╪═══════╪═════════╪═════════╪═════╪═════╡\n",
              "│ 1.0 ┆ 7.0 ┆ 5e6 ┆ 0.038 ┆ 0.1     ┆ 0.1     ┆ 1.0 ┆ 1.0 │\n",
              "│ 2.0 ┆ 7.0 ┆ 5e6 ┆ 0.038 ┆ 0.1     ┆ 0.1     ┆ 1.0 ┆ 1.0 │\n",
              "│ 3.0 ┆ 7.0 ┆ 5e6 ┆ 0.038 ┆ 0.1     ┆ 0.1     ┆ 1.0 ┆ 1.0 │\n",
              "│ 4.0 ┆ 7.0 ┆ 5e6 ┆ 0.038 ┆ 0.1     ┆ 0.1     ┆ 1.0 ┆ 1.0 │\n",
              "│ 5.0 ┆ 7.0 ┆ 5e6 ┆ 0.038 ┆ 0.1     ┆ 0.1     ┆ 1.0 ┆ 1.0 │\n",
              "│ 6.0 ┆ 7.0 ┆ 5e6 ┆ 0.038 ┆ 0.1     ┆ 0.1     ┆ 1.0 ┆ 1.0 │\n",
              "│ 7.0 ┆ 7.0 ┆ 5e6 ┆ 0.038 ┆ 0.1     ┆ 0.1     ┆ 1.0 ┆ 1.0 │\n",
              "└─────┴─────┴─────┴───────┴─────────┴─────────┴─────┴─────┘"
            ]
          },
          "execution_count": 156,
          "metadata": {},
          "output_type": "execute_result"
        }
      ],
      "source": [
        "let df = df!(\n",
        "    \"T\" => [1.0, 2.0, 3.0, 4.0, 5.0, 6.0, 7.0],\n",
        "    \"T*\" => [7.0; 7],\n",
        "    \"L\" => [5_000_000.0; 7],\n",
        "    \"R_F\" => [0.038; 7],\n",
        "    // these are the same because the market variable is the interest rate\n",
        "    \"sigma_R\" => [0.10; 7],\n",
        "    \"sigma_V\" => [0.10; 7],\n",
        "    // assume perfect correlation\n",
        "    \"rho\" => [1.0; 7],\n",
        "    \"m\" => [1.0; 7],\n",
        ")?;\n",
        "df"
      ]
    },
    {
      "cell_type": "markdown",
      "metadata": {},
      "source": [
        "Declare expressions for each column."
      ]
    },
    {
      "cell_type": "code",
      "execution_count": 157,
      "metadata": {},
      "outputs": [],
      "source": [
        "let T = col(\"T\");\n",
        "let Tstar = col(\"T*\");\n",
        "let L = col(\"L\");\n",
        "let R_F = col(\"R_F\");\n",
        "// these are the same because the market variable is the interest rate\n",
        "let sigma_R = col(\"sigma_R\");\n",
        "let sigma_V = col(\"sigma_V\");\n",
        "// assume perfect correlation\n",
        "let rho = col(\"rho\");\n",
        "// annual compounding\n",
        "let m = col(\"m\");"
      ]
    },
    {
      "cell_type": "markdown",
      "metadata": {},
      "source": [
        "We are mostly working with $\\tau$, so we will express it."
      ]
    },
    {
      "cell_type": "code",
      "execution_count": 158,
      "metadata": {},
      "outputs": [
        {
          "data": {
            "text/plain": [
              "shape: (7, 1)\n",
              "┌─────┐\n",
              "│ T*  │\n",
              "│ --- │\n",
              "│ f64 │\n",
              "╞═════╡\n",
              "│ 6.0 │\n",
              "│ 5.0 │\n",
              "│ 4.0 │\n",
              "│ 3.0 │\n",
              "│ 2.0 │\n",
              "│ 1.0 │\n",
              "│ 0.0 │\n",
              "└─────┘"
            ]
          },
          "execution_count": 158,
          "metadata": {},
          "output_type": "execute_result"
        }
      ],
      "source": [
        "let tau = Tstar.clone() - T.clone();\n",
        "\n",
        "df.clone()\n",
        "    .lazy()\n",
        "    .select([tau.clone()])\n",
        "    .collect()?"
      ]
    },
    {
      "cell_type": "markdown",
      "metadata": {},
      "source": [
        "The timing adjustment is defined as $\\alpha_V$ here."
      ]
    },
    {
      "cell_type": "code",
      "execution_count": 159,
      "metadata": {},
      "outputs": [
        {
          "data": {
            "text/plain": [
              "shape: (7, 1)\n",
              "┌───────────┐\n",
              "│ alpha_V   │\n",
              "│ ---       │\n",
              "│ f64       │\n",
              "╞═══════════╡\n",
              "│ -0.002197 │\n",
              "│ -0.00183  │\n",
              "│ -0.001464 │\n",
              "│ -0.001098 │\n",
              "│ -0.000732 │\n",
              "│ -0.000366 │\n",
              "│ -0.0      │\n",
              "└───────────┘"
            ]
          },
          "execution_count": 159,
          "metadata": {},
          "output_type": "execute_result"
        }
      ],
      "source": [
        "let alpha_V = (-(rho.clone()\n",
        "    * sigma_V.clone()\n",
        "    * sigma_R.clone()\n",
        "    * R_F.clone()\n",
        "    * tau.clone())\n",
        "    / (lit(1.0) + R_F.clone() / m.clone()))\n",
        ".alias(\"alpha_V\");\n",
        "\n",
        "df.clone()\n",
        "    .lazy()\n",
        "    .select([alpha_V.clone()])\n",
        "    .collect()?"
      ]
    },
    {
      "cell_type": "markdown",
      "metadata": {},
      "source": [
        "And here is each adjusted rate."
      ]
    },
    {
      "cell_type": "code",
      "execution_count": 160,
      "metadata": {},
      "outputs": [
        {
          "data": {
            "text/plain": [
              "shape: (7, 1)\n",
              "┌────────────┐\n",
              "│ R adjusted │\n",
              "│ ---        │\n",
              "│ f64        │\n",
              "╞════════════╡\n",
              "│ 0.037917   │\n",
              "│ 0.037861   │\n",
              "│ 0.037833   │\n",
              "│ 0.037833   │\n",
              "│ 0.037861   │\n",
              "│ 0.037917   │\n",
              "│ 0.038      │\n",
              "└────────────┘"
            ]
          },
          "execution_count": 160,
          "metadata": {},
          "output_type": "execute_result"
        }
      ],
      "source": [
        "let R_adjusted = (R_F.clone()\n",
        "    * (alpha_V.clone() * T.clone()).exp())\n",
        ".alias(\"R adjusted\");\n",
        "\n",
        "df.clone()\n",
        "    .lazy()\n",
        "    .select([R_adjusted.clone()])\n",
        "    .collect()?"
      ]
    },
    {
      "cell_type": "markdown",
      "metadata": {},
      "source": [
        "The discount factor $P(0, t)$."
      ]
    },
    {
      "cell_type": "code",
      "execution_count": 161,
      "metadata": {},
      "outputs": [
        {
          "data": {
            "text/plain": [
              "shape: (7, 1)\n",
              "┌──────────┐\n",
              "│ P        │\n",
              "│ ---      │\n",
              "│ f64      │\n",
              "╞══════════╡\n",
              "│ 0.770227 │\n",
              "│ 0.770227 │\n",
              "│ 0.770227 │\n",
              "│ 0.770227 │\n",
              "│ 0.770227 │\n",
              "│ 0.770227 │\n",
              "│ 0.770227 │\n",
              "└──────────┘"
            ]
          },
          "execution_count": 161,
          "metadata": {},
          "output_type": "execute_result"
        }
      ],
      "source": [
        "let P = (lit(1.0)\n",
        "    / (lit(1.0) + R_F.clone())\n",
        "        .pow(Tstar.clone()))\n",
        ".alias(\"P\");\n",
        "\n",
        "df.clone()\n",
        "    .lazy()\n",
        "    .select([P.clone()])\n",
        "    .collect()?"
      ]
    },
    {
      "cell_type": "markdown",
      "metadata": {},
      "source": [
        "The payoff is defined as the average of the rates on the principal, after the timing adjustment. **This is the answer to Problem 4**."
      ]
    },
    {
      "cell_type": "code",
      "execution_count": 162,
      "metadata": {},
      "outputs": [
        {
          "data": {
            "text/plain": [
              "shape: (1, 1)\n",
              "┌───────────────────────────────┐\n",
              "│ Value after timing adjustment │\n",
              "│ ---                           │\n",
              "│ f64                           │\n",
              "╞═══════════════════════════════╡\n",
              "│ 145915.245448                 │\n",
              "└───────────────────────────────┘"
            ]
          },
          "execution_count": 162,
          "metadata": {},
          "output_type": "execute_result"
        }
      ],
      "source": [
        "let V = (L.clone()\n",
        "    * P.clone()\n",
        "    * R_adjusted.clone().mean())\n",
        ".mean()\n",
        ".alias(\"Value after timing adjustment\");\n",
        "\n",
        "df.clone()\n",
        "    .lazy()\n",
        "    .select([V.clone()])\n",
        "    .collect()?"
      ]
    },
    {
      "cell_type": "markdown",
      "metadata": {},
      "source": [
        "# Problem 5"
      ]
    },
    {
      "cell_type": "markdown",
      "metadata": {},
      "source": [
        "Initialize data."
      ]
    },
    {
      "cell_type": "code",
      "execution_count": 163,
      "metadata": {},
      "outputs": [
        {
          "data": {
            "text/plain": [
              "shape: (1, 7)\n",
              "┌───────┬──────────┬─────┬─────┬──────┬─────┬───────┐\n",
              "│ r     ┆ m        ┆ T   ┆ T_1 ┆ T_2  ┆ L   ┆ sigma │\n",
              "│ ---   ┆ ---      ┆ --- ┆ --- ┆ ---  ┆ --- ┆ ---   │\n",
              "│ f64   ┆ f64      ┆ f64 ┆ f64 ┆ f64  ┆ f64 ┆ f64   │\n",
              "╞═══════╪══════════╪═════╪═════╪══════╪═════╪═══════╡\n",
              "│ 0.038 ┆ 2.718282 ┆ 4.0 ┆ 6.0 ┆ 10.0 ┆ 5e6 ┆ 0.15  │\n",
              "└───────┴──────────┴─────┴─────┴──────┴─────┴───────┘"
            ]
          },
          "execution_count": 163,
          "metadata": {},
          "output_type": "execute_result"
        }
      ],
      "source": [
        "let df = df!(\n",
        "    // yield curve is assumed flat\n",
        "    \"r\" => [0.038],\n",
        "    \"m\" => [E],\n",
        "    // time of payoff\n",
        "    \"T\" => [4.0],\n",
        "    // time of first forward rate\n",
        "    \"T_1\" => [4.0 + 2.0],\n",
        "    // time of second forward rate\n",
        "    \"T_2\" => [4.0 + 6.0],\n",
        "    \"L\" => [5_000_000.0],\n",
        "    \"sigma\" => [0.15],\n",
        ")?;\n",
        "\n",
        "df"
      ]
    },
    {
      "cell_type": "markdown",
      "metadata": {},
      "source": [
        "Declare expressions for each column."
      ]
    },
    {
      "cell_type": "code",
      "execution_count": 164,
      "metadata": {},
      "outputs": [],
      "source": [
        "let r = col(\"r\");\n",
        "let m = col(\"m\");\n",
        "let T = col(\"T\");\n",
        "let T_1 = col(\"T_1\");\n",
        "let T_2 = col(\"T_2\");\n",
        "let L = col(\"L\");\n",
        "let sigma = col(\"sigma\");"
      ]
    },
    {
      "cell_type": "markdown",
      "metadata": {},
      "source": [
        "We have two times in the future we're concerned with, which I've labeled $T_1$ and $T_2$. We will also want to refer to the $\\tau$ of both."
      ]
    },
    {
      "cell_type": "code",
      "execution_count": 165,
      "metadata": {},
      "outputs": [
        {
          "data": {
            "text/plain": [
              "shape: (1, 2)\n",
              "┌───────┬───────┐\n",
              "│ tau_1 ┆ tau_2 │\n",
              "│ ---   ┆ ---   │\n",
              "│ f64   ┆ f64   │\n",
              "╞═══════╪═══════╡\n",
              "│ 2.0   ┆ 6.0   │\n",
              "└───────┴───────┘"
            ]
          },
          "execution_count": 165,
          "metadata": {},
          "output_type": "execute_result"
        }
      ],
      "source": [
        "let tau_1 =\n",
        "    (T_1.clone() - T.clone()).alias(\"tau_1\");\n",
        "\n",
        "let tau_2 =\n",
        "    (T_2.clone() - T.clone()).alias(\"tau_2\");\n",
        "\n",
        "df.clone()\n",
        "    .lazy()\n",
        "    .select([tau_1.clone(), tau_2.clone()])\n",
        "    .collect()?"
      ]
    },
    {
      "cell_type": "markdown",
      "metadata": {},
      "source": [
        "Conditional discount factor $P(0, t)$."
      ]
    },
    {
      "cell_type": "code",
      "execution_count": 166,
      "metadata": {},
      "outputs": [
        {
          "data": {
            "text/plain": [
              "shape: (1, 1)\n",
              "┌──────────┐\n",
              "│ r        │\n",
              "│ ---      │\n",
              "│ f64      │\n",
              "╞══════════╡\n",
              "│ 0.858988 │\n",
              "└──────────┘"
            ]
          },
          "execution_count": 166,
          "metadata": {},
          "output_type": "execute_result"
        }
      ],
      "source": [
        "let P = when(m.clone().eq(E))\n",
        "    .then(\n",
        "        // use continuous compounding\n",
        "        (-r.clone() * T.clone()).exp(),\n",
        "    )\n",
        "    .otherwise(\n",
        "        // else discrete compounding\n",
        "        lit(1.0)\n",
        "            / (lit(1.0)\n",
        "                + r.clone() * m.clone())\n",
        "            .pow(T.clone() / m.clone()),\n",
        "    );\n",
        "\n",
        "df.clone()\n",
        "    .lazy()\n",
        "    .select([P.clone()])\n",
        "    .collect()?"
      ]
    },
    {
      "cell_type": "markdown",
      "metadata": {},
      "source": [
        "The convexity adjusted rate for each is given by the following:\n",
        "\n",
        "$$\\frac{G''(y)}{G'(y)} = -\\tau$$"
      ]
    },
    {
      "cell_type": "code",
      "execution_count": 167,
      "metadata": {},
      "outputs": [
        {
          "data": {
            "text/plain": [
              "shape: (1, 2)\n",
              "┌─────────────┬─────────────┐\n",
              "│ convexity_1 ┆ convexity_2 │\n",
              "│ ---         ┆ ---         │\n",
              "│ f64         ┆ f64         │\n",
              "╞═════════════╪═════════════╡\n",
              "│ 0.03813     ┆ 0.03839     │\n",
              "└─────────────┴─────────────┘"
            ]
          },
          "execution_count": 167,
          "metadata": {},
          "output_type": "execute_result"
        }
      ],
      "source": [
        "let convexity_1 = (r.clone()\n",
        "    - r.clone().pow(2)\n",
        "        * sigma.clone().pow(2)\n",
        "        * T.clone()\n",
        "        * (-tau_1.clone())\n",
        "        / lit(2.0))\n",
        ".alias(\"convexity_1\");\n",
        "\n",
        "let convexity_2 = (r.clone()\n",
        "    - r.clone().pow(2)\n",
        "        * sigma.clone().pow(2)\n",
        "        * T.clone()\n",
        "        * (-tau_2.clone())\n",
        "        / lit(2.0))\n",
        ".alias(\"convexity_2\");\n",
        "\n",
        "df.clone()\n",
        "    .lazy()\n",
        "    .select([\n",
        "        convexity_1.clone(),\n",
        "        convexity_2.clone(),\n",
        "    ])\n",
        "    .collect()?"
      ]
    },
    {
      "cell_type": "markdown",
      "metadata": {},
      "source": [
        "Then the payoff is the principal applied to the difference in the convexity adjusted forward rates. **This is the answer to Problem 5**."
      ]
    },
    {
      "cell_type": "code",
      "execution_count": 168,
      "metadata": {},
      "outputs": [
        {
          "data": {
            "text/plain": [
              "shape: (1, 1)\n",
              "┌─────────────────────────────────┐\n",
              "│ Value after convexity adjustme… │\n",
              "│ ---                             │\n",
              "│ f64                             │\n",
              "╞═════════════════════════════════╡\n",
              "│ 1116.34117                      │\n",
              "└─────────────────────────────────┘"
            ]
          },
          "execution_count": 168,
          "metadata": {},
          "output_type": "execute_result"
        }
      ],
      "source": [
        "let V = (P.clone()\n",
        "    * L.clone()\n",
        "    * (convexity_2.clone()\n",
        "        - convexity_1.clone()))\n",
        ".alias(\"Value after convexity adjustment\");\n",
        "\n",
        "df.clone()\n",
        "    .lazy()\n",
        "    .select([V.clone()])\n",
        "    .collect()?"
      ]
    }
  ],
  "metadata": {
    "kernelspec": {
      "display_name": "Rust",
      "language": "rust",
      "name": "rust"
    },
    "language_info": {
      "codemirror_mode": "rust",
      "file_extension": ".rs",
      "mimetype": "text/rust",
      "name": "rust",
      "pygment_lexer": "rust",
      "version": ""
    }
  },
  "nbformat": 4,
  "nbformat_minor": 2
}
