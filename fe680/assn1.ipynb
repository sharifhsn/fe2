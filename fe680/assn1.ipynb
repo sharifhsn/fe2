{
  "cells": [
    {
      "cell_type": "markdown",
      "metadata": {},
      "source": [
        "# Environment"
      ]
    },
    {
      "cell_type": "markdown",
      "metadata": {},
      "source": [
        "## Imports"
      ]
    },
    {
      "cell_type": "code",
      "execution_count": 176,
      "metadata": {
        "vscode": {
          "languageId": "rust"
        }
      },
      "outputs": [],
      "source": [
        ":dep polars = { version = \"0.46\", features = [ \"lazy\", \"cum_agg\", \"list_arithmetic\" ] }\n",
        ":dep nalgebra\n",
        ":dep argmin\n",
        ":dep argmin-math = { version = \"0.4\", features = [\"nalgebra_latest\", \"vec\"] }\n",
        ":dep itertools\n",
        ":dep plotters = { version = \"0.3\", features = [\"evcxr\", \"all_series\"] }"
      ]
    },
    {
      "cell_type": "markdown",
      "metadata": {},
      "source": [
        "[Polars](https://pola.rs/) is a new DataFrame library meant to replace pandas, which is written in Rust. It has both a Python and a Rust interface\n",
        "\n",
        "It's by far the largest library here, so it will take some time to compile. I have only enabled the features that I will use."
      ]
    },
    {
      "cell_type": "code",
      "execution_count": 177,
      "metadata": {
        "vscode": {
          "languageId": "rust"
        }
      },
      "outputs": [],
      "source": [
        "use polars::prelude::*;"
      ]
    },
    {
      "cell_type": "markdown",
      "metadata": {},
      "source": [
        "# Problem 1"
      ]
    },
    {
      "cell_type": "markdown",
      "metadata": {},
      "source": [
        "## a)"
      ]
    },
    {
      "cell_type": "markdown",
      "metadata": {},
      "source": [
        "Initialize data."
      ]
    },
    {
      "cell_type": "code",
      "execution_count": 178,
      "metadata": {
        "vscode": {
          "languageId": "rust"
        }
      },
      "outputs": [
        {
          "data": {
            "text/plain": [
              "shape: (10, 4)\n",
              "┌───────────┬──────────┬─────────┬────────────────┐\n",
              "│ rate_type ┆ maturity ┆ inputs  ┆ bond_cash_flow │\n",
              "│ ---       ┆ ---      ┆ ---     ┆ ---            │\n",
              "│ str       ┆ f64      ┆ f64     ┆ i32            │\n",
              "╞═══════════╪══════════╪═════════╪════════════════╡\n",
              "│ cash      ┆ 1.0      ┆ 0.0318  ┆ 3              │\n",
              "│ cash      ┆ 2.0      ┆ 0.03222 ┆ 3              │\n",
              "│ forwards  ┆ 3.0      ┆ 0.03261 ┆ 3              │\n",
              "│ forwards  ┆ 4.0      ┆ 0.0329  ┆ 3              │\n",
              "│ forwards  ┆ 5.0      ┆ 0.03345 ┆ 3              │\n",
              "│ swaps     ┆ 6.0      ┆ 0.03405 ┆ 3              │\n",
              "│ swaps     ┆ 7.0      ┆ 0.03442 ┆ 3              │\n",
              "│ swaps     ┆ 8.0      ┆ 0.0335  ┆ 3              │\n",
              "│ swaps     ┆ 9.0      ┆ 0.033   ┆ 103            │\n",
              "│ swaps     ┆ 10.0     ┆ 0.03541 ┆ 0              │\n",
              "└───────────┴──────────┴─────────┴────────────────┘"
            ]
          },
          "execution_count": 178,
          "metadata": {},
          "output_type": "execute_result"
        }
      ],
      "source": [
        "let df: DataFrame = df!(\n",
        "    \"rate_type\" => [\"cash\", \"cash\", \"forwards\", \"forwards\", \"forwards\", \"swaps\", \"swaps\", \"swaps\", \"swaps\", \"swaps\"],\n",
        "    \"maturity\" => [1.0, 2.0, 3.0, 4.0, 5.0, 6.0, 7.0, 8.0, 9.0, 10.0],\n",
        "    \"inputs\" => [0.03180, 0.03222, 0.03261, 0.03290, 0.03345, 0.03405, 0.03442, 0.03350, 0.03300, 0.03541],\n",
        "    \"bond_cash_flow\" => [3, 3, 3, 3, 3, 3, 3, 3, 103, 0],\n",
        ")?;\n",
        "\n",
        "df"
      ]
    },
    {
      "cell_type": "markdown",
      "metadata": {},
      "source": [
        "Place the inputs into their appropriate curves."
      ]
    },
    {
      "cell_type": "code",
      "execution_count": 179,
      "metadata": {
        "vscode": {
          "languageId": "rust"
        }
      },
      "outputs": [
        {
          "data": {
            "text/plain": [
              "shape: (10, 7)\n",
              "┌───────────┬──────────┬─────────┬────────────────┬────────────┬───────────────┬───────────┐\n",
              "│ rate_type ┆ maturity ┆ inputs  ┆ bond_cash_flow ┆ zero_curve ┆ forward_curve ┆ par_curve │\n",
              "│ ---       ┆ ---      ┆ ---     ┆ ---            ┆ ---        ┆ ---           ┆ ---       │\n",
              "│ str       ┆ f64      ┆ f64     ┆ i32            ┆ f64        ┆ f64           ┆ f64       │\n",
              "╞═══════════╪══════════╪═════════╪════════════════╪════════════╪═══════════════╪═══════════╡\n",
              "│ cash      ┆ 1.0      ┆ 0.0318  ┆ 3              ┆ 0.0318     ┆ null          ┆ null      │\n",
              "│ cash      ┆ 2.0      ┆ 0.03222 ┆ 3              ┆ 0.03222    ┆ null          ┆ null      │\n",
              "│ forwards  ┆ 3.0      ┆ 0.03261 ┆ 3              ┆ null       ┆ 0.03261       ┆ null      │\n",
              "│ forwards  ┆ 4.0      ┆ 0.0329  ┆ 3              ┆ null       ┆ 0.0329        ┆ null      │\n",
              "│ forwards  ┆ 5.0      ┆ 0.03345 ┆ 3              ┆ null       ┆ 0.03345       ┆ null      │\n",
              "│ swaps     ┆ 6.0      ┆ 0.03405 ┆ 3              ┆ null       ┆ null          ┆ 0.03405   │\n",
              "│ swaps     ┆ 7.0      ┆ 0.03442 ┆ 3              ┆ null       ┆ null          ┆ 0.03442   │\n",
              "│ swaps     ┆ 8.0      ┆ 0.0335  ┆ 3              ┆ null       ┆ null          ┆ 0.0335    │\n",
              "│ swaps     ┆ 9.0      ┆ 0.033   ┆ 103            ┆ null       ┆ null          ┆ 0.033     │\n",
              "│ swaps     ┆ 10.0     ┆ 0.03541 ┆ 0              ┆ null       ┆ null          ┆ 0.03541   │\n",
              "└───────────┴──────────┴─────────┴────────────────┴────────────┴───────────────┴───────────┘"
            ]
          },
          "execution_count": 179,
          "metadata": {},
          "output_type": "execute_result"
        }
      ],
      "source": [
        "let df = df\n",
        "    .lazy()\n",
        "    .with_column(\n",
        "        when(col(\"rate_type\").eq(lit(\"cash\")))\n",
        "            .then(col(\"inputs\"))\n",
        "            .otherwise(lit(NULL))\n",
        "            .alias(\"zero_curve\"),\n",
        "    )\n",
        "    .with_column(\n",
        "        when(col(\"rate_type\").eq(lit(\"forwards\")))\n",
        "            .then(col(\"inputs\"))\n",
        "            .otherwise(lit(NULL))\n",
        "            .alias(\"forward_curve\"),\n",
        "    )\n",
        "    .with_column(\n",
        "        when(col(\"rate_type\").eq(lit(\"swaps\")))\n",
        "            .then(col(\"inputs\"))\n",
        "            .otherwise(lit(NULL))\n",
        "            .alias(\"par_curve\"),\n",
        "    )\n",
        "    .collect()?;\n",
        "\n",
        "df"
      ]
    },
    {
      "cell_type": "markdown",
      "metadata": {},
      "source": [
        "Bootstrap forwards from zero curve."
      ]
    },
    {
      "cell_type": "code",
      "execution_count": 180,
      "metadata": {
        "vscode": {
          "languageId": "rust"
        }
      },
      "outputs": [],
      "source": [
        "fn bootstrap_forward(mut df: DataFrame) -> PolarsResult<DataFrame> {\n",
        "    let mut bootstrapped_forward_curve = match df.column(\"forward_curve\") {\n",
        "        Ok(col) => col.f64()?.to_vec(),\n",
        "\n",
        "        // forward curve does not exist, initialize with first zero curve value\n",
        "        Err(_) => {\n",
        "            let mut b = vec![None; df.height()];\n",
        "\n",
        "            b[0] = Some(df.column(\"zero_curve\")?.f64()?.get(0).unwrap());\n",
        "\n",
        "            b\n",
        "        }\n",
        "    };\n",
        "\n",
        "    // initialize with value with zero curve, since zero = forward for maturity = 1\n",
        "\n",
        "    bootstrapped_forward_curve[0] = Some(df.column(\"zero_curve\")?.f64()?.get(0).unwrap());\n",
        "\n",
        "    // bootstrap from start of null\n",
        "\n",
        "    let start_idx = bootstrapped_forward_curve\n",
        "        .iter()\n",
        "        .position(|&x| x.is_none())\n",
        "        .unwrap();\n",
        "\n",
        "    for i in start_idx..df.height() {\n",
        "        let zero_val_opt = df.column(\"zero_curve\")?.f64()?.get(i);\n",
        "\n",
        "        bootstrapped_forward_curve[i] = if let Some(zero_val) = zero_val_opt {\n",
        "            let maturity_val = df.column(\"maturity\")?.f64()?.get(i).unwrap();\n",
        "\n",
        "            let previous_forward_vals = &bootstrapped_forward_curve[..i];\n",
        "\n",
        "            let prod: f64 = previous_forward_vals\n",
        "                .iter()\n",
        "                .map(|x| 1.0 / (1.0 + x.unwrap_or(0.0)))\n",
        "                .product();\n",
        "\n",
        "            Some((zero_val + 1.0).powf(maturity_val) * prod - 1.0)\n",
        "        } else {\n",
        "            None\n",
        "        };\n",
        "    }\n",
        "\n",
        "    let bootstrapped_series = Column::new(\n",
        "        \"bootstrapped_forward_curve\".into(),\n",
        "        bootstrapped_forward_curve,\n",
        "    );\n",
        "\n",
        "    let forward_series = df.column(\"forward_curve\")?;\n",
        "\n",
        "    let mask = forward_series.is_not_null();\n",
        "\n",
        "    let updated_forward_series = forward_series.zip_with(&mask, &bootstrapped_series)?;\n",
        "\n",
        "    df.replace(\n",
        "        \"forward_curve\",\n",
        "        updated_forward_series.as_series().unwrap().clone(),\n",
        "    )?;\n",
        "\n",
        "    Ok(df)\n",
        "}"
      ]
    },
    {
      "cell_type": "code",
      "execution_count": 181,
      "metadata": {
        "vscode": {
          "languageId": "rust"
        }
      },
      "outputs": [
        {
          "data": {
            "text/plain": [
              "shape: (10, 7)\n",
              "┌───────────┬──────────┬─────────┬────────────────┬────────────┬───────────────┬───────────┐\n",
              "│ rate_type ┆ maturity ┆ inputs  ┆ bond_cash_flow ┆ zero_curve ┆ forward_curve ┆ par_curve │\n",
              "│ ---       ┆ ---      ┆ ---     ┆ ---            ┆ ---        ┆ ---           ┆ ---       │\n",
              "│ str       ┆ f64      ┆ f64     ┆ i32            ┆ f64        ┆ f64           ┆ f64       │\n",
              "╞═══════════╪══════════╪═════════╪════════════════╪════════════╪═══════════════╪═══════════╡\n",
              "│ cash      ┆ 1.0      ┆ 0.0318  ┆ 3              ┆ 0.0318     ┆ 0.0318        ┆ null      │\n",
              "│ cash      ┆ 2.0      ┆ 0.03222 ┆ 3              ┆ 0.03222    ┆ 0.03264       ┆ null      │\n",
              "│ forwards  ┆ 3.0      ┆ 0.03261 ┆ 3              ┆ null       ┆ 0.03261       ┆ null      │\n",
              "│ forwards  ┆ 4.0      ┆ 0.0329  ┆ 3              ┆ null       ┆ 0.0329        ┆ null      │\n",
              "│ forwards  ┆ 5.0      ┆ 0.03345 ┆ 3              ┆ null       ┆ 0.03345       ┆ null      │\n",
              "│ swaps     ┆ 6.0      ┆ 0.03405 ┆ 3              ┆ null       ┆ null          ┆ 0.03405   │\n",
              "│ swaps     ┆ 7.0      ┆ 0.03442 ┆ 3              ┆ null       ┆ null          ┆ 0.03442   │\n",
              "│ swaps     ┆ 8.0      ┆ 0.0335  ┆ 3              ┆ null       ┆ null          ┆ 0.0335    │\n",
              "│ swaps     ┆ 9.0      ┆ 0.033   ┆ 103            ┆ null       ┆ null          ┆ 0.033     │\n",
              "│ swaps     ┆ 10.0     ┆ 0.03541 ┆ 0              ┆ null       ┆ null          ┆ 0.03541   │\n",
              "└───────────┴──────────┴─────────┴────────────────┴────────────┴───────────────┴───────────┘"
            ]
          },
          "execution_count": 181,
          "metadata": {},
          "output_type": "execute_result"
        }
      ],
      "source": [
        "let df = bootstrap_forward(df)?;\n",
        "df"
      ]
    },
    {
      "cell_type": "markdown",
      "metadata": {},
      "source": [
        "Create the discount curve from the forward curve."
      ]
    },
    {
      "cell_type": "code",
      "execution_count": 182,
      "metadata": {
        "vscode": {
          "languageId": "rust"
        }
      },
      "outputs": [
        {
          "data": {
            "text/plain": [
              "shape: (10, 8)\n",
              "┌───────────┬──────────┬─────────┬─────────────┬────────────┬─────────────┬───────────┬────────────┐\n",
              "│ rate_type ┆ maturity ┆ inputs  ┆ bond_cash_f ┆ zero_curve ┆ forward_cur ┆ par_curve ┆ discount_c │\n",
              "│ ---       ┆ ---      ┆ ---     ┆ low         ┆ ---        ┆ ve          ┆ ---       ┆ urve       │\n",
              "│ str       ┆ f64      ┆ f64     ┆ ---         ┆ f64        ┆ ---         ┆ f64       ┆ ---        │\n",
              "│           ┆          ┆         ┆ i32         ┆            ┆ f64         ┆           ┆ f64        │\n",
              "╞═══════════╪══════════╪═════════╪═════════════╪════════════╪═════════════╪═══════════╪════════════╡\n",
              "│ cash      ┆ 1.0      ┆ 0.0318  ┆ 3           ┆ 0.0318     ┆ 0.0318      ┆ null      ┆ 0.96918    │\n",
              "│ cash      ┆ 2.0      ┆ 0.03222 ┆ 3           ┆ 0.03222    ┆ 0.03264     ┆ null      ┆ 0.938546   │\n",
              "│ forwards  ┆ 3.0      ┆ 0.03261 ┆ 3           ┆ null       ┆ 0.03261     ┆ null      ┆ 0.908906   │\n",
              "│ forwards  ┆ 4.0      ┆ 0.0329  ┆ 3           ┆ null       ┆ 0.0329      ┆ null      ┆ 0.879956   │\n",
              "│ forwards  ┆ 5.0      ┆ 0.03345 ┆ 3           ┆ null       ┆ 0.03345     ┆ null      ┆ 0.851474   │\n",
              "│ swaps     ┆ 6.0      ┆ 0.03405 ┆ 3           ┆ null       ┆ null        ┆ 0.03405   ┆ null       │\n",
              "│ swaps     ┆ 7.0      ┆ 0.03442 ┆ 3           ┆ null       ┆ null        ┆ 0.03442   ┆ null       │\n",
              "│ swaps     ┆ 8.0      ┆ 0.0335  ┆ 3           ┆ null       ┆ null        ┆ 0.0335    ┆ null       │\n",
              "│ swaps     ┆ 9.0      ┆ 0.033   ┆ 103         ┆ null       ┆ null        ┆ 0.033     ┆ null       │\n",
              "│ swaps     ┆ 10.0     ┆ 0.03541 ┆ 0           ┆ null       ┆ null        ┆ 0.03541   ┆ null       │\n",
              "└───────────┴──────────┴─────────┴─────────────┴────────────┴─────────────┴───────────┴────────────┘"
            ]
          },
          "execution_count": 182,
          "metadata": {},
          "output_type": "execute_result"
        }
      ],
      "source": [
        "let df = df\n",
        "    .lazy()\n",
        "    .with_column(\n",
        "        when(col(\"forward_curve\").is_not_null())\n",
        "            .then(lit(1.0) / (lit(1.0) + col(\"forward_curve\")).cum_prod(false))\n",
        "            .otherwise(lit(NULL))\n",
        "            .alias(\"discount_curve\"),\n",
        "    )\n",
        "    .collect()?;\n",
        "\n",
        "df"
      ]
    },
    {
      "cell_type": "markdown",
      "metadata": {},
      "source": [
        "Fill in the par curve from the discount curve."
      ]
    },
    {
      "cell_type": "code",
      "execution_count": 183,
      "metadata": {
        "vscode": {
          "languageId": "rust"
        }
      },
      "outputs": [
        {
          "data": {
            "text/plain": [
              "shape: (10, 8)\n",
              "┌───────────┬──────────┬─────────┬─────────────┬────────────┬─────────────┬───────────┬────────────┐\n",
              "│ rate_type ┆ maturity ┆ inputs  ┆ bond_cash_f ┆ zero_curve ┆ forward_cur ┆ par_curve ┆ discount_c │\n",
              "│ ---       ┆ ---      ┆ ---     ┆ low         ┆ ---        ┆ ve          ┆ ---       ┆ urve       │\n",
              "│ str       ┆ f64      ┆ f64     ┆ ---         ┆ f64        ┆ ---         ┆ f64       ┆ ---        │\n",
              "│           ┆          ┆         ┆ i32         ┆            ┆ f64         ┆           ┆ f64        │\n",
              "╞═══════════╪══════════╪═════════╪═════════════╪════════════╪═════════════╪═══════════╪════════════╡\n",
              "│ cash      ┆ 1.0      ┆ 0.0318  ┆ 3           ┆ 0.0318     ┆ 0.0318      ┆ 0.0318    ┆ 0.96918    │\n",
              "│ cash      ┆ 2.0      ┆ 0.03222 ┆ 3           ┆ 0.03222    ┆ 0.03264     ┆ 0.032213  ┆ 0.938546   │\n",
              "│ forwards  ┆ 3.0      ┆ 0.03261 ┆ 3           ┆ null       ┆ 0.03261     ┆ 0.032341  ┆ 0.908906   │\n",
              "│ forwards  ┆ 4.0      ┆ 0.0329  ┆ 3           ┆ null       ┆ 0.0329      ┆ 0.032474  ┆ 0.879956   │\n",
              "│ forwards  ┆ 5.0      ┆ 0.03345 ┆ 3           ┆ null       ┆ 0.03345     ┆ 0.032657  ┆ 0.851474   │\n",
              "│ swaps     ┆ 6.0      ┆ 0.03405 ┆ 3           ┆ null       ┆ null        ┆ 0.03405   ┆ null       │\n",
              "│ swaps     ┆ 7.0      ┆ 0.03442 ┆ 3           ┆ null       ┆ null        ┆ 0.03442   ┆ null       │\n",
              "│ swaps     ┆ 8.0      ┆ 0.0335  ┆ 3           ┆ null       ┆ null        ┆ 0.0335    ┆ null       │\n",
              "│ swaps     ┆ 9.0      ┆ 0.033   ┆ 103         ┆ null       ┆ null        ┆ 0.033     ┆ null       │\n",
              "│ swaps     ┆ 10.0     ┆ 0.03541 ┆ 0           ┆ null       ┆ null        ┆ 0.03541   ┆ null       │\n",
              "└───────────┴──────────┴─────────┴─────────────┴────────────┴─────────────┴───────────┴────────────┘"
            ]
          },
          "execution_count": 183,
          "metadata": {},
          "output_type": "execute_result"
        }
      ],
      "source": [
        "let df = df\n",
        "    .lazy()\n",
        "    .with_column(\n",
        "        when(col(\"discount_curve\").is_not_null())\n",
        "            .then((lit(1.0) - col(\"discount_curve\")) / (col(\"discount_curve\").cum_sum(false)))\n",
        "            .otherwise(col(\"par_curve\"))\n",
        "            .alias(\"par_curve\"),\n",
        "    )\n",
        "    .collect()?;\n",
        "\n",
        "df"
      ]
    },
    {
      "cell_type": "markdown",
      "metadata": {},
      "source": [
        "Bootstrap the rest of the discount curve from the par curve."
      ]
    },
    {
      "cell_type": "code",
      "execution_count": 184,
      "metadata": {
        "vscode": {
          "languageId": "rust"
        }
      },
      "outputs": [],
      "source": [
        "fn bootstrap_discount(mut df: DataFrame) -> PolarsResult<DataFrame> {\n",
        "    let mut bootstrapped_discount_curve = df.column(\"discount_curve\")?.f64()?.to_vec();\n",
        "\n",
        "    let start_idx = bootstrapped_discount_curve\n",
        "        .iter()\n",
        "        .position(|&x| x.is_none())\n",
        "        .unwrap();\n",
        "\n",
        "    for i in start_idx..bootstrapped_discount_curve.len() {\n",
        "        let par_val_opt = df.column(\"par_curve\")?.f64()?.get(i);\n",
        "\n",
        "        bootstrapped_discount_curve[i] = if let Some(par_val) = par_val_opt {\n",
        "            let previous_discount_vals = &bootstrapped_discount_curve[..i];\n",
        "\n",
        "            let sum: f64 = previous_discount_vals\n",
        "                .iter()\n",
        "                .map(|x| x.unwrap_or(0.0))\n",
        "                .sum();\n",
        "\n",
        "            Some((1.0 - par_val * sum) / (1.0 + par_val))\n",
        "        } else {\n",
        "            None\n",
        "        };\n",
        "    }\n",
        "\n",
        "    df.replace(\n",
        "        \"discount_curve\",\n",
        "        Series::new(\"discount_curve\".into(), bootstrapped_discount_curve),\n",
        "    )?;\n",
        "\n",
        "    Ok(df)\n",
        "}"
      ]
    },
    {
      "cell_type": "code",
      "execution_count": 185,
      "metadata": {
        "vscode": {
          "languageId": "rust"
        }
      },
      "outputs": [
        {
          "data": {
            "text/plain": [
              "shape: (10, 8)\n",
              "┌───────────┬──────────┬─────────┬─────────────┬────────────┬─────────────┬───────────┬────────────┐\n",
              "│ rate_type ┆ maturity ┆ inputs  ┆ bond_cash_f ┆ zero_curve ┆ forward_cur ┆ par_curve ┆ discount_c │\n",
              "│ ---       ┆ ---      ┆ ---     ┆ low         ┆ ---        ┆ ve          ┆ ---       ┆ urve       │\n",
              "│ str       ┆ f64      ┆ f64     ┆ ---         ┆ f64        ┆ ---         ┆ f64       ┆ ---        │\n",
              "│           ┆          ┆         ┆ i32         ┆            ┆ f64         ┆           ┆ f64        │\n",
              "╞═══════════╪══════════╪═════════╪═════════════╪════════════╪═════════════╪═══════════╪════════════╡\n",
              "│ cash      ┆ 1.0      ┆ 0.0318  ┆ 3           ┆ 0.0318     ┆ 0.0318      ┆ 0.0318    ┆ 0.96918    │\n",
              "│ cash      ┆ 2.0      ┆ 0.03222 ┆ 3           ┆ 0.03222    ┆ 0.03264     ┆ 0.032213  ┆ 0.938546   │\n",
              "│ forwards  ┆ 3.0      ┆ 0.03261 ┆ 3           ┆ null       ┆ 0.03261     ┆ 0.032341  ┆ 0.908906   │\n",
              "│ forwards  ┆ 4.0      ┆ 0.0329  ┆ 3           ┆ null       ┆ 0.0329      ┆ 0.032474  ┆ 0.879956   │\n",
              "│ forwards  ┆ 5.0      ┆ 0.03345 ┆ 3           ┆ null       ┆ 0.03345     ┆ 0.032657  ┆ 0.851474   │\n",
              "│ swaps     ┆ 6.0      ┆ 0.03405 ┆ 3           ┆ null       ┆ null        ┆ 0.03405   ┆ 0.817309   │\n",
              "│ swaps     ┆ 7.0      ┆ 0.03442 ┆ 3           ┆ null       ┆ null        ┆ 0.03442   ┆ 0.788194   │\n",
              "│ swaps     ┆ 8.0      ┆ 0.0335  ┆ 3           ┆ null       ┆ null        ┆ 0.0335    ┆ 0.768123   │\n",
              "│ swaps     ┆ 9.0      ┆ 0.033   ┆ 103         ┆ null       ┆ null        ┆ 0.033     ┆ 0.746935   │\n",
              "│ swaps     ┆ 10.0     ┆ 0.03541 ┆ 0           ┆ null       ┆ null        ┆ 0.03541   ┆ 0.703542   │\n",
              "└───────────┴──────────┴─────────┴─────────────┴────────────┴─────────────┴───────────┴────────────┘"
            ]
          },
          "execution_count": 185,
          "metadata": {},
          "output_type": "execute_result"
        }
      ],
      "source": [
        "let df = bootstrap_discount(df)?;\n",
        "df"
      ]
    },
    {
      "cell_type": "markdown",
      "metadata": {},
      "source": [
        "Get the zero curve from the discount curve."
      ]
    },
    {
      "cell_type": "code",
      "execution_count": 186,
      "metadata": {
        "vscode": {
          "languageId": "rust"
        }
      },
      "outputs": [
        {
          "data": {
            "text/plain": [
              "shape: (10, 8)\n",
              "┌───────────┬──────────┬─────────┬─────────────┬────────────┬─────────────┬───────────┬────────────┐\n",
              "│ rate_type ┆ maturity ┆ inputs  ┆ bond_cash_f ┆ zero_curve ┆ forward_cur ┆ par_curve ┆ discount_c │\n",
              "│ ---       ┆ ---      ┆ ---     ┆ low         ┆ ---        ┆ ve          ┆ ---       ┆ urve       │\n",
              "│ str       ┆ f64      ┆ f64     ┆ ---         ┆ f64        ┆ ---         ┆ f64       ┆ ---        │\n",
              "│           ┆          ┆         ┆ i32         ┆            ┆ f64         ┆           ┆ f64        │\n",
              "╞═══════════╪══════════╪═════════╪═════════════╪════════════╪═════════════╪═══════════╪════════════╡\n",
              "│ cash      ┆ 1.0      ┆ 0.0318  ┆ 3           ┆ 0.0318     ┆ 0.0318      ┆ 0.0318    ┆ 0.96918    │\n",
              "│ cash      ┆ 2.0      ┆ 0.03222 ┆ 3           ┆ 0.03222    ┆ 0.03264     ┆ 0.032213  ┆ 0.938546   │\n",
              "│ forwards  ┆ 3.0      ┆ 0.03261 ┆ 3           ┆ 0.03235    ┆ 0.03261     ┆ 0.032341  ┆ 0.908906   │\n",
              "│ forwards  ┆ 4.0      ┆ 0.0329  ┆ 3           ┆ 0.032487   ┆ 0.0329      ┆ 0.032474  ┆ 0.879956   │\n",
              "│ forwards  ┆ 5.0      ┆ 0.03345 ┆ 3           ┆ 0.03268    ┆ 0.03345     ┆ 0.032657  ┆ 0.851474   │\n",
              "│ swaps     ┆ 6.0      ┆ 0.03405 ┆ 3           ┆ 0.034195   ┆ null        ┆ 0.03405   ┆ 0.817309   │\n",
              "│ swaps     ┆ 7.0      ┆ 0.03442 ┆ 3           ┆ 0.034586   ┆ null        ┆ 0.03442   ┆ 0.788194   │\n",
              "│ swaps     ┆ 8.0      ┆ 0.0335  ┆ 3           ┆ 0.033525   ┆ null        ┆ 0.0335    ┆ 0.768123   │\n",
              "│ swaps     ┆ 9.0      ┆ 0.033   ┆ 103         ┆ 0.032951   ┆ null        ┆ 0.033     ┆ 0.746935   │\n",
              "│ swaps     ┆ 10.0     ┆ 0.03541 ┆ 0           ┆ 0.035788   ┆ null        ┆ 0.03541   ┆ 0.703542   │\n",
              "└───────────┴──────────┴─────────┴─────────────┴────────────┴─────────────┴───────────┴────────────┘"
            ]
          },
          "execution_count": 186,
          "metadata": {},
          "output_type": "execute_result"
        }
      ],
      "source": [
        "let df = df\n",
        "    .lazy()\n",
        "    .with_column(\n",
        "        when(col(\"zero_curve\").is_null())\n",
        "            .then(col(\"discount_curve\").pow(lit(-1.0) / col(\"maturity\")) - lit(1.0))\n",
        "            .otherwise(col(\"zero_curve\"))\n",
        "            .alias(\"zero_curve\"),\n",
        "    )\n",
        "    .collect()?;\n",
        "\n",
        "df"
      ]
    },
    {
      "cell_type": "markdown",
      "metadata": {},
      "source": [
        "Continue bootstrapping forward curve with finished zero curve."
      ]
    },
    {
      "cell_type": "code",
      "execution_count": 187,
      "metadata": {
        "vscode": {
          "languageId": "rust"
        }
      },
      "outputs": [
        {
          "data": {
            "text/plain": [
              "shape: (10, 8)\n",
              "┌───────────┬──────────┬─────────┬─────────────┬────────────┬─────────────┬───────────┬────────────┐\n",
              "│ rate_type ┆ maturity ┆ inputs  ┆ bond_cash_f ┆ zero_curve ┆ forward_cur ┆ par_curve ┆ discount_c │\n",
              "│ ---       ┆ ---      ┆ ---     ┆ low         ┆ ---        ┆ ve          ┆ ---       ┆ urve       │\n",
              "│ str       ┆ f64      ┆ f64     ┆ ---         ┆ f64        ┆ ---         ┆ f64       ┆ ---        │\n",
              "│           ┆          ┆         ┆ i32         ┆            ┆ f64         ┆           ┆ f64        │\n",
              "╞═══════════╪══════════╪═════════╪═════════════╪════════════╪═════════════╪═══════════╪════════════╡\n",
              "│ cash      ┆ 1.0      ┆ 0.0318  ┆ 3           ┆ 0.0318     ┆ 0.0318      ┆ 0.0318    ┆ 0.96918    │\n",
              "│ cash      ┆ 2.0      ┆ 0.03222 ┆ 3           ┆ 0.03222    ┆ 0.03264     ┆ 0.032213  ┆ 0.938546   │\n",
              "│ forwards  ┆ 3.0      ┆ 0.03261 ┆ 3           ┆ 0.03235    ┆ 0.03261     ┆ 0.032341  ┆ 0.908906   │\n",
              "│ forwards  ┆ 4.0      ┆ 0.0329  ┆ 3           ┆ 0.032487   ┆ 0.0329      ┆ 0.032474  ┆ 0.879956   │\n",
              "│ forwards  ┆ 5.0      ┆ 0.03345 ┆ 3           ┆ 0.03268    ┆ 0.03345     ┆ 0.032657  ┆ 0.851474   │\n",
              "│ swaps     ┆ 6.0      ┆ 0.03405 ┆ 3           ┆ 0.034195   ┆ 0.041802    ┆ 0.03405   ┆ 0.817309   │\n",
              "│ swaps     ┆ 7.0      ┆ 0.03442 ┆ 3           ┆ 0.034586   ┆ 0.036939    ┆ 0.03442   ┆ 0.788194   │\n",
              "│ swaps     ┆ 8.0      ┆ 0.0335  ┆ 3           ┆ 0.033525   ┆ 0.02613     ┆ 0.0335    ┆ 0.768123   │\n",
              "│ swaps     ┆ 9.0      ┆ 0.033   ┆ 103         ┆ 0.032951   ┆ 0.028367    ┆ 0.033     ┆ 0.746935   │\n",
              "│ swaps     ┆ 10.0     ┆ 0.03541 ┆ 0           ┆ 0.035788   ┆ 0.061679    ┆ 0.03541   ┆ 0.703542   │\n",
              "└───────────┴──────────┴─────────┴─────────────┴────────────┴─────────────┴───────────┴────────────┘"
            ]
          },
          "execution_count": 187,
          "metadata": {},
          "output_type": "execute_result"
        }
      ],
      "source": [
        "let df = bootstrap_forward(df)?;\n",
        "df"
      ]
    },
    {
      "cell_type": "markdown",
      "metadata": {},
      "source": [
        "## b)"
      ]
    },
    {
      "cell_type": "markdown",
      "metadata": {},
      "source": [
        "Get present value of the bond cash flows."
      ]
    },
    {
      "cell_type": "code",
      "execution_count": 188,
      "metadata": {
        "vscode": {
          "languageId": "rust"
        }
      },
      "outputs": [
        {
          "data": {
            "text/plain": [
              "shape: (1, 1)\n",
              "┌───────────┐\n",
              "│ pv        │\n",
              "│ ---       │\n",
              "│ f64       │\n",
              "╞═══════════╡\n",
              "│ 97.699413 │\n",
              "└───────────┘"
            ]
          },
          "execution_count": 188,
          "metadata": {},
          "output_type": "execute_result"
        }
      ],
      "source": [
        "let pv = (col(\"discount_curve\") * col(\"bond_cash_flow\"))\n",
        "    .sum()\n",
        "    .alias(\"pv\");\n",
        "\n",
        "df.clone().lazy().select([pv.clone()]).collect()?"
      ]
    },
    {
      "cell_type": "markdown",
      "metadata": {},
      "source": [
        "## c)"
      ]
    },
    {
      "cell_type": "markdown",
      "metadata": {},
      "source": [
        "We will need to calculate DV01, the dollar value of one basis point:\n",
        "\n",
        "![dv01](https://latex.codecogs.com/svg.image?&space;DV01=-\\frac{\\Delta&space;P}{10,000\\cdot\\Delta&space;y})"
      ]
    },
    {
      "cell_type": "code",
      "execution_count": 189,
      "metadata": {
        "vscode": {
          "languageId": "rust"
        }
      },
      "outputs": [
        {
          "data": {
            "text/plain": [
              "shape: (1, 1)\n",
              "┌───────────┐\n",
              "│ dv01      │\n",
              "│ ---       │\n",
              "│ f64       │\n",
              "╞═══════════╡\n",
              "│ -0.009769 │\n",
              "└───────────┘"
            ]
          },
          "execution_count": 189,
          "metadata": {},
          "output_type": "execute_result"
        }
      ],
      "source": [
        "const BP: f64 = 0.0001;\n",
        "\n",
        "let discount_curve_up = (col(\"discount_curve\") / lit(1.0 + BP)).alias(\"discount_curve_up\");\n",
        "\n",
        "let discount_curve_down = (col(\"discount_curve\") * lit(1.0 + BP)).alias(\"discount_curve_down\");\n",
        "\n",
        "let pv_up = ((discount_curve_up.clone() * col(\"bond_cash_flow\")).sum()).alias(\"pv_up\");\n",
        "\n",
        "let pv_down = ((discount_curve_down.clone() * col(\"bond_cash_flow\")).sum()).alias(\"pv_down\");\n",
        "\n",
        "let dv01 = ((pv_up.clone() - pv_down.clone()) / lit(2.0)).alias(\"dv01\");\n",
        "\n",
        "df.clone().lazy().select([dv01.clone()]).collect()?"
      ]
    },
    {
      "cell_type": "markdown",
      "metadata": {},
      "source": [
        "We also need to calculate duration, a measure of linear risk."
      ]
    },
    {
      "cell_type": "code",
      "execution_count": 190,
      "metadata": {
        "vscode": {
          "languageId": "rust"
        }
      },
      "outputs": [
        {
          "data": {
            "text/plain": [
              "shape: (1, 1)\n",
              "┌──────────┐\n",
              "│ duration │\n",
              "│ ---      │\n",
              "│ f64      │\n",
              "╞══════════╡\n",
              "│ -0.99995 │\n",
              "└──────────┘"
            ]
          },
          "execution_count": 190,
          "metadata": {},
          "output_type": "execute_result"
        }
      ],
      "source": [
        "let duration =\n",
        "    ((pv_up.clone() - pv_down.clone()) / (lit(2.0 * BP) * pv.clone())).alias(\"duration\");\n",
        "\n",
        "df.clone().lazy().select([duration.clone()]).collect()?"
      ]
    },
    {
      "cell_type": "markdown",
      "metadata": {},
      "source": [
        "One more thing: we need to generate our new discount curve from the forward curve."
      ]
    },
    {
      "cell_type": "code",
      "execution_count": 191,
      "metadata": {
        "vscode": {
          "languageId": "rust"
        }
      },
      "outputs": [
        {
          "data": {
            "text/plain": [
              "shape: (1, 1)\n",
              "┌─────────────────────────────────┐\n",
              "│ discount_curve                  │\n",
              "│ ---                             │\n",
              "│ list[f64]                       │\n",
              "╞═════════════════════════════════╡\n",
              "│ [0.96918, 0.938546, … 0.703542… │\n",
              "└─────────────────────────────────┘"
            ]
          },
          "execution_count": 191,
          "metadata": {},
          "output_type": "execute_result"
        }
      ],
      "source": [
        "let discount_curve = (lit(1.0) / (lit(1.0) + col(\"forward_curve\")).cum_prod(false).implode())\n",
        "    .alias(\"discount_curve\");\n",
        "\n",
        "df.clone()\n",
        "    .lazy()\n",
        "    .select([discount_curve.clone()])\n",
        "    .collect()?"
      ]
    },
    {
      "cell_type": "markdown",
      "metadata": {},
      "source": [
        "Since we are creating ten different scenarios altering each row, we'll need the row index."
      ]
    },
    {
      "cell_type": "code",
      "execution_count": 192,
      "metadata": {
        "vscode": {
          "languageId": "rust"
        }
      },
      "outputs": [
        {
          "data": {
            "text/plain": [
              "shape: (10, 9)\n",
              "┌─────┬───────────┬──────────┬─────────┬───┬────────────┬───────────────┬───────────┬──────────────┐\n",
              "│ row ┆ rate_type ┆ maturity ┆ inputs  ┆ … ┆ zero_curve ┆ forward_curve ┆ par_curve ┆ discount_cur │\n",
              "│ --- ┆ ---       ┆ ---      ┆ ---     ┆   ┆ ---        ┆ ---           ┆ ---       ┆ ve           │\n",
              "│ u32 ┆ str       ┆ f64      ┆ f64     ┆   ┆ f64        ┆ f64           ┆ f64       ┆ ---          │\n",
              "│     ┆           ┆          ┆         ┆   ┆            ┆               ┆           ┆ f64          │\n",
              "╞═════╪═══════════╪══════════╪═════════╪═══╪════════════╪═══════════════╪═══════════╪══════════════╡\n",
              "│ 0   ┆ cash      ┆ 1.0      ┆ 0.0318  ┆ … ┆ 0.0318     ┆ 0.0318        ┆ 0.0318    ┆ 0.96918      │\n",
              "│ 1   ┆ cash      ┆ 2.0      ┆ 0.03222 ┆ … ┆ 0.03222    ┆ 0.03264       ┆ 0.032213  ┆ 0.938546     │\n",
              "│ 2   ┆ forwards  ┆ 3.0      ┆ 0.03261 ┆ … ┆ 0.03235    ┆ 0.03261       ┆ 0.032341  ┆ 0.908906     │\n",
              "│ 3   ┆ forwards  ┆ 4.0      ┆ 0.0329  ┆ … ┆ 0.032487   ┆ 0.0329        ┆ 0.032474  ┆ 0.879956     │\n",
              "│ 4   ┆ forwards  ┆ 5.0      ┆ 0.03345 ┆ … ┆ 0.03268    ┆ 0.03345       ┆ 0.032657  ┆ 0.851474     │\n",
              "│ 5   ┆ swaps     ┆ 6.0      ┆ 0.03405 ┆ … ┆ 0.034195   ┆ 0.041802      ┆ 0.03405   ┆ 0.817309     │\n",
              "│ 6   ┆ swaps     ┆ 7.0      ┆ 0.03442 ┆ … ┆ 0.034586   ┆ 0.036939      ┆ 0.03442   ┆ 0.788194     │\n",
              "│ 7   ┆ swaps     ┆ 8.0      ┆ 0.0335  ┆ … ┆ 0.033525   ┆ 0.02613       ┆ 0.0335    ┆ 0.768123     │\n",
              "│ 8   ┆ swaps     ┆ 9.0      ┆ 0.033   ┆ … ┆ 0.032951   ┆ 0.028367      ┆ 0.033     ┆ 0.746935     │\n",
              "│ 9   ┆ swaps     ┆ 10.0     ┆ 0.03541 ┆ … ┆ 0.035788   ┆ 0.061679      ┆ 0.03541   ┆ 0.703542     │\n",
              "└─────┴───────────┴──────────┴─────────┴───┴────────────┴───────────────┴───────────┴──────────────┘"
            ]
          },
          "execution_count": 192,
          "metadata": {},
          "output_type": "execute_result"
        }
      ],
      "source": [
        "let df = if df.column(\"row\").is_err() {\n",
        "    df.with_row_index(\"row\".into(), None)?\n",
        "} else {\n",
        "    df\n",
        "};\n",
        "\n",
        "df"
      ]
    },
    {
      "cell_type": "markdown",
      "metadata": {},
      "source": [
        "We will now generate ten different scenarios for incrementing each part of the forward curve."
      ]
    },
    {
      "cell_type": "code",
      "execution_count": 193,
      "metadata": {
        "vscode": {
          "languageId": "rust"
        }
      },
      "outputs": [
        {
          "data": {
            "text/plain": [
              "shape: (10, 9)\n",
              "┌─────┬───────────┬──────────┬─────────┬───┬────────────┬───────────────┬───────────┬──────────────┐\n",
              "│ row ┆ rate_type ┆ maturity ┆ inputs  ┆ … ┆ zero_curve ┆ forward_curve ┆ par_curve ┆ discount_cur │\n",
              "│ --- ┆ ---       ┆ ---      ┆ ---     ┆   ┆ ---        ┆ ---           ┆ ---       ┆ ve           │\n",
              "│ u32 ┆ str       ┆ f64      ┆ f64     ┆   ┆ f64        ┆ f64           ┆ f64       ┆ ---          │\n",
              "│     ┆           ┆          ┆         ┆   ┆            ┆               ┆           ┆ f64          │\n",
              "╞═════╪═══════════╪══════════╪═════════╪═══╪════════════╪═══════════════╪═══════════╪══════════════╡\n",
              "│ 0   ┆ cash      ┆ 1.0      ┆ 0.0318  ┆ … ┆ 0.0318     ┆ 0.0328        ┆ 0.0318    ┆ 0.968242     │\n",
              "│ 1   ┆ cash      ┆ 2.0      ┆ 0.03222 ┆ … ┆ 0.03222    ┆ 0.03264       ┆ 0.032213  ┆ 0.937637     │\n",
              "│ 2   ┆ forwards  ┆ 3.0      ┆ 0.03261 ┆ … ┆ 0.03235    ┆ 0.03261       ┆ 0.032341  ┆ 0.908026     │\n",
              "│ 3   ┆ forwards  ┆ 4.0      ┆ 0.0329  ┆ … ┆ 0.032487   ┆ 0.0329        ┆ 0.032474  ┆ 0.879104     │\n",
              "│ 4   ┆ forwards  ┆ 5.0      ┆ 0.03345 ┆ … ┆ 0.03268    ┆ 0.03345       ┆ 0.032657  ┆ 0.85065      │\n",
              "│ 5   ┆ swaps     ┆ 6.0      ┆ 0.03405 ┆ … ┆ 0.034195   ┆ 0.041802      ┆ 0.03405   ┆ 0.816518     │\n",
              "│ 6   ┆ swaps     ┆ 7.0      ┆ 0.03442 ┆ … ┆ 0.034586   ┆ 0.036939      ┆ 0.03442   ┆ 0.787431     │\n",
              "│ 7   ┆ swaps     ┆ 8.0      ┆ 0.0335  ┆ … ┆ 0.033525   ┆ 0.02613       ┆ 0.0335    ┆ 0.76738      │\n",
              "│ 8   ┆ swaps     ┆ 9.0      ┆ 0.033   ┆ … ┆ 0.032951   ┆ 0.028367      ┆ 0.033     ┆ 0.746212     │\n",
              "│ 9   ┆ swaps     ┆ 10.0     ┆ 0.03541 ┆ … ┆ 0.035788   ┆ 0.061679      ┆ 0.03541   ┆ 0.70286      │\n",
              "└─────┴───────────┴──────────┴─────────┴───┴────────────┴───────────────┴───────────┴──────────────┘"
            ]
          },
          "execution_count": 193,
          "metadata": {},
          "output_type": "execute_result"
        }
      ],
      "source": [
        "let scenarios_df = (0..df.height())\n",
        "    .map(|i| {\n",
        "        df.clone()\n",
        "            .lazy()\n",
        "            .with_column(\n",
        "                when(col(\"row\").eq(lit(i as u32)))\n",
        "                    .then(col(\"forward_curve\") + lit(0.001))\n",
        "                    .otherwise(col(\"forward_curve\"))\n",
        "                    .alias(\"forward_curve\"),\n",
        "            )\n",
        "            .with_column(\n",
        "                (lit(1.0) / (lit(1.0) + col(\"forward_curve\")).cum_prod(false))\n",
        "                    .alias(\"discount_curve\"),\n",
        "            )\n",
        "            .collect()\n",
        "            .unwrap()\n",
        "    })\n",
        "    .collect::<Vec<_>>();\n",
        "\n",
        "scenarios_df[0]"
      ]
    },
    {
      "cell_type": "markdown",
      "metadata": {},
      "source": [
        "Now we will calculate our different values for our metrics."
      ]
    },
    {
      "cell_type": "code",
      "execution_count": 194,
      "metadata": {
        "vscode": {
          "languageId": "rust"
        }
      },
      "outputs": [
        {
          "data": {
            "text/plain": [
              "shape: (10, 5)\n",
              "┌───────────┬─────────────────────────────────┬───────────┬───────────┬──────────┐\n",
              "│ increment ┆ discount_curve                  ┆ pv        ┆ dv01      ┆ duration │\n",
              "│ ---       ┆ ---                             ┆ ---       ┆ ---       ┆ ---      │\n",
              "│ i32       ┆ list[f64]                       ┆ f64       ┆ f64       ┆ f64      │\n",
              "╞═══════════╪═════════════════════════════════╪═══════════╪═══════════╪══════════╡\n",
              "│ 0         ┆ [0.968242, 0.937637, … 0.70286… ┆ 97.604816 ┆ -0.00976  ┆ -0.99995 │\n",
              "│ 1         ┆ [0.96918, 0.937638, … 0.702861… ┆ 97.607706 ┆ -0.00976  ┆ -0.99995 │\n",
              "│ 2         ┆ [0.96918, 0.938546, … 0.702861… ┆ 97.610427 ┆ -0.009761 ┆ -0.99995 │\n",
              "│ 3         ┆ [0.96918, 0.938546, … 0.702861… ┆ 97.61309  ┆ -0.009761 ┆ -0.99995 │\n",
              "│ 4         ┆ [0.96918, 0.938546, … 0.702861… ┆ 97.615687 ┆ -0.009761 ┆ -0.99995 │\n",
              "│ 5         ┆ [0.96918, 0.938546, … 0.702867… ┆ 97.618808 ┆ -0.009761 ┆ -0.99995 │\n",
              "│ 6         ┆ [0.96918, 0.938546, … 0.702864… ┆ 97.620792 ┆ -0.009762 ┆ -0.99995 │\n",
              "│ 7         ┆ [0.96918, 0.938546, … 0.702857… ┆ 97.622267 ┆ -0.009762 ┆ -0.99995 │\n",
              "│ 8         ┆ [0.96918, 0.938546, … 0.702858… ┆ 97.624673 ┆ -0.009762 ┆ -0.99995 │\n",
              "│ 9         ┆ [0.96918, 0.938546, … 0.70288]  ┆ 97.699413 ┆ -0.009769 ┆ -0.99995 │\n",
              "└───────────┴─────────────────────────────────┴───────────┴───────────┴──────────┘"
            ]
          },
          "execution_count": 194,
          "metadata": {},
          "output_type": "execute_result"
        }
      ],
      "source": [
        "let scenarios = concat(\n",
        "    scenarios_df\n",
        "        .iter()\n",
        "        .enumerate()\n",
        "        .map(|(i, scenario)| {\n",
        "            scenario.clone().lazy().select([\n",
        "                lit(i as u32).alias(\"increment\"),\n",
        "                discount_curve.clone(),\n",
        "                pv.clone(),\n",
        "                dv01.clone(),\n",
        "                duration.clone(),\n",
        "            ])\n",
        "        })\n",
        "        .collect::<Vec<_>>(),\n",
        "    UnionArgs::default(),\n",
        ")?\n",
        ".collect()?;\n",
        "\n",
        "scenarios"
      ]
    },
    {
      "cell_type": "markdown",
      "metadata": {},
      "source": [
        "The forward change is 10 bps, which causes a couple bps change in the discount curve, a few cents change in the price, a hundredth of a bp change in DV01, and no change in duration.\n",
        "\n",
        "The further in time the increment goes:\n",
        "- the higher the final discount is pushed up, approaching the original discount\n",
        "- the higher the price becomes, approaching the original price\n",
        "- the higher the duration becomes, approaching the original duration"
      ]
    },
    {
      "cell_type": "markdown",
      "metadata": {},
      "source": [
        "## d)"
      ]
    },
    {
      "cell_type": "markdown",
      "metadata": {},
      "source": [
        "Now we'll move all of the forward rates by 10 bps."
      ]
    },
    {
      "cell_type": "code",
      "execution_count": 195,
      "metadata": {
        "vscode": {
          "languageId": "rust"
        }
      },
      "outputs": [
        {
          "data": {
            "text/plain": [
              "shape: (1, 2)\n",
              "┌───────────┬───────────┐\n",
              "│ pv_up     ┆ pv_down   │\n",
              "│ ---       ┆ ---       │\n",
              "│ f64       ┆ f64       │\n",
              "╞═══════════╪═══════════╡\n",
              "│ 96.945739 ┆ 98.460125 │\n",
              "└───────────┴───────────┘"
            ]
          },
          "execution_count": 195,
          "metadata": {},
          "output_type": "execute_result"
        }
      ],
      "source": [
        "let forward_curve_up = col(\"forward_curve\") + lit(10.0 * BP);\n",
        "\n",
        "let forward_curve_down = col(\"forward_curve\") - lit(10.0 * BP);\n",
        "\n",
        "// redefine discount curve shift from forward curve\n",
        "\n",
        "let discount_curve_up = (lit(1.0) / (lit(1.0) + forward_curve_up.clone()).cum_prod(false));\n",
        "\n",
        "let discount_curve_down = (lit(1.0) / (lit(1.0) + forward_curve_down.clone()).cum_prod(false));\n",
        "\n",
        "let pv_up = ((discount_curve_up.clone() * col(\"bond_cash_flow\")).sum()).alias(\"pv_up\");\n",
        "\n",
        "let pv_down = ((discount_curve_down.clone() * col(\"bond_cash_flow\")).sum()).alias(\"pv_down\");\n",
        "\n",
        "df.clone()\n",
        "    .lazy()\n",
        "    .select([pv_up.clone(), pv_down.clone()])\n",
        "    .collect()?"
      ]
    },
    {
      "cell_type": "markdown",
      "metadata": {},
      "source": [
        "And here is the convexity of the bond."
      ]
    },
    {
      "cell_type": "code",
      "execution_count": 196,
      "metadata": {
        "vscode": {
          "languageId": "rust"
        }
      },
      "outputs": [
        {
          "data": {
            "text/plain": [
              "shape: (1, 1)\n",
              "┌───────────┐\n",
              "│ convexity │\n",
              "│ ---       │\n",
              "│ f64       │\n",
              "╞═══════════╡\n",
              "│ 72.040424 │\n",
              "└───────────┘"
            ]
          },
          "execution_count": 196,
          "metadata": {},
          "output_type": "execute_result"
        }
      ],
      "source": [
        "let convexity = ((pv_up.clone() + pv_down.clone() - lit(2.0) * pv.clone())\n",
        "    / (pv.clone() * (lit(10.0 * BP).pow(2))))\n",
        ".alias(\"convexity\");\n",
        "\n",
        "df.clone().lazy().select([convexity.clone()]).collect()?"
      ]
    },
    {
      "cell_type": "markdown",
      "metadata": {},
      "source": [
        "## e)"
      ]
    },
    {
      "cell_type": "markdown",
      "metadata": {},
      "source": [
        "We will use linear interpolation to compute the 30 month (2.5 year) forward price."
      ]
    },
    {
      "cell_type": "code",
      "execution_count": 197,
      "metadata": {
        "vscode": {
          "languageId": "rust"
        }
      },
      "outputs": [
        {
          "data": {
            "text/plain": [
              "105.76665188731965"
            ]
          },
          "execution_count": 197,
          "metadata": {},
          "output_type": "execute_result"
        }
      ],
      "source": [
        "let discount_curve = df\n",
        "    .clone()\n",
        "    .column(\"discount_curve\")?\n",
        "    .f64()?\n",
        "    .to_vec_null_aware()\n",
        "    .left()\n",
        "    .unwrap();\n",
        "\n",
        "let discount30 =\n",
        "    discount_curve[1] + (discount_curve[2] - discount_curve[1]) * (2.5 - 2.0) / (3.0 - 2.0);\n",
        "\n",
        "df.clone()\n",
        "    .lazy()\n",
        "    .select([pv.clone()])\n",
        "    .collect()?\n",
        "    .column(\"pv\")?\n",
        "    .f64()?\n",
        "    .get(0)\n",
        "    .unwrap()\n",
        "    / discount30"
      ]
    },
    {
      "cell_type": "markdown",
      "metadata": {},
      "source": [
        "# Problem 2"
      ]
    },
    {
      "cell_type": "code",
      "execution_count": null,
      "metadata": {
        "vscode": {
          "languageId": "rust"
        }
      },
      "outputs": [],
      "source": [
        "use nalgebra::{DMatrix, DVector}\n",
        "use plotters::prelude::*;\n",
        "use polars::prelude::*;"
      ]
    },
    {
      "cell_type": "code",
      "execution_count": null,
      "metadata": {
        "vscode": {
          "languageId": "rust"
        }
      },
      "outputs": [],
      "source": []
    }
  ],
  "metadata": {
    "kernelspec": {
      "display_name": "Rust",
      "language": "rust",
      "name": "rust"
    },
    "language_info": {
      "codemirror_mode": "rust",
      "file_extension": ".rs",
      "mimetype": "text/rust",
      "name": "Rust",
      "pygment_lexer": "rust",
      "version": ""
    }
  },
  "nbformat": 4,
  "nbformat_minor": 2
}
